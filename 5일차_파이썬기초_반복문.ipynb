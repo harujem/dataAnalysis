{
  "nbformat": 4,
  "nbformat_minor": 0,
  "metadata": {
    "colab": {
      "provenance": [],
      "toc_visible": true,
      "authorship_tag": "ABX9TyPp/+NbtC9DcEiJk66Chxvs",
      "include_colab_link": true
    },
    "kernelspec": {
      "name": "python3",
      "display_name": "Python 3"
    },
    "language_info": {
      "name": "python"
    }
  },
  "cells": [
    {
      "cell_type": "markdown",
      "metadata": {
        "id": "view-in-github",
        "colab_type": "text"
      },
      "source": [
        "<a href=\"https://colab.research.google.com/github/harujem/dataAnalysis/blob/main/5%EC%9D%BC%EC%B0%A8_%ED%8C%8C%EC%9D%B4%EC%8D%AC%EA%B8%B0%EC%B4%88_%EB%B0%98%EB%B3%B5%EB%AC%B8.ipynb\" target=\"_parent\"><img src=\"https://colab.research.google.com/assets/colab-badge.svg\" alt=\"Open In Colab\"/></a>"
      ]
    },
    {
      "cell_type": "markdown",
      "source": [
        "# 4.조건문과 반복문"
      ],
      "metadata": {
        "id": "c3tySe-Ffg2w"
      }
    },
    {
      "cell_type": "markdown",
      "source": [
        "---\n",
        "## **★ 반복문**\n",
        "---"
      ],
      "metadata": {
        "id": "UXUVeLw-fiXI"
      }
    },
    {
      "cell_type": "markdown",
      "source": [
        "## 1- for 반복문"
      ],
      "metadata": {
        "id": "_jY7dPXOfrdY"
      }
    },
    {
      "cell_type": "markdown",
      "source": [
        "### 다양한 반복문"
      ],
      "metadata": {
        "id": "iDFcR0pmoGGl"
      }
    },
    {
      "cell_type": "code",
      "execution_count": 22,
      "metadata": {
        "colab": {
          "base_uri": "https://localhost:8080/"
        },
        "id": "Gi313e7EfS9h",
        "outputId": "cbcde57a-6df4-46f4-b28b-c594cb4e9d98"
      },
      "outputs": [
        {
          "output_type": "stream",
          "name": "stdout",
          "text": [
            "0\n",
            "1\n",
            "2\n",
            "for문 반복중\n",
            "for문 반복중\n",
            "for문 반복중\n"
          ]
        }
      ],
      "source": [
        "# 1.range() 함수 이용: 정수를 차례로 발생시키는 함수\n",
        "for 변수 in range(0,3,1):     # 0부터 3미만까지 1씩 증가 = 3번 반복\n",
        "    print(변수)\n",
        "for i in range(3):         # 3번 반복\n",
        "    print(\"for문 반복중\")"
      ]
    },
    {
      "cell_type": "code",
      "source": [
        "# 2. 리스트 이용\n",
        "a = list(range(10,0,-1))\n",
        "a = list(range(1,11))\n",
        "for i in a:\n",
        "    print(i)            # 세로로\n",
        "for i in a:\n",
        "    print(i, end=',')   # 가로로"
      ],
      "metadata": {
        "colab": {
          "base_uri": "https://localhost:8080/"
        },
        "id": "gGKlhuq_msQh",
        "outputId": "98f3d3a0-147d-4919-d3a9-e27297b80d8b"
      },
      "execution_count": 23,
      "outputs": [
        {
          "output_type": "stream",
          "name": "stdout",
          "text": [
            "1\n",
            "2\n",
            "3\n",
            "4\n",
            "5\n",
            "6\n",
            "7\n",
            "8\n",
            "9\n",
            "10\n",
            "1,2,3,4,5,6,7,8,9,10,"
          ]
        }
      ]
    },
    {
      "cell_type": "code",
      "source": [
        "# 한줄로 표현하는 방법\n",
        "for i in range(1,101):\n",
        "    print(i, end=',')"
      ],
      "metadata": {
        "colab": {
          "base_uri": "https://localhost:8080/"
        },
        "id": "av3EaW1goi99",
        "outputId": "42bc8652-b1d8-4ca3-b23e-7885ee417670"
      },
      "execution_count": 24,
      "outputs": [
        {
          "output_type": "stream",
          "name": "stdout",
          "text": [
            "1,2,3,4,5,6,7,8,9,10,11,12,13,14,15,16,17,18,19,20,21,22,23,24,25,26,27,28,29,30,31,32,33,34,35,36,37,38,39,40,41,42,43,44,45,46,47,48,49,50,51,52,53,54,55,56,57,58,59,60,61,62,63,64,65,66,67,68,69,70,71,72,73,74,75,76,77,78,79,80,81,82,83,84,85,86,87,88,89,90,91,92,93,94,95,96,97,98,99,100,"
          ]
        }
      ]
    },
    {
      "cell_type": "code",
      "source": [
        "# 3. 문자열 이용\n",
        "for i in 'python':\n",
        "    print(i)"
      ],
      "metadata": {
        "colab": {
          "base_uri": "https://localhost:8080/"
        },
        "id": "SoGa10wcqFlo",
        "outputId": "8af8e377-ec2d-4c1c-84ac-966cd695de8b"
      },
      "execution_count": 25,
      "outputs": [
        {
          "output_type": "stream",
          "name": "stdout",
          "text": [
            "p\n",
            "y\n",
            "t\n",
            "h\n",
            "o\n",
            "n\n"
          ]
        }
      ]
    },
    {
      "cell_type": "code",
      "source": [
        "# 4. 변수 사용안하고 반복만 할때\n",
        "for _ in range(3):\n",
        "    print('좋은 아침!')"
      ],
      "metadata": {
        "colab": {
          "base_uri": "https://localhost:8080/"
        },
        "id": "VieTe5d6qRXH",
        "outputId": "517143c3-e17a-48d3-8515-d2f33f1328ff"
      },
      "execution_count": 26,
      "outputs": [
        {
          "output_type": "stream",
          "name": "stdout",
          "text": [
            "좋은 아침!\n",
            "좋은 아침!\n",
            "좋은 아침!\n"
          ]
        }
      ]
    },
    {
      "cell_type": "code",
      "source": [
        "# 5. enumerate(): 리스트와 같은 순서가 있는 자료형의 인덱스를 함께 사용\n",
        "fruits = ['사과','포도','딸기','키위']\n",
        "for idx, fruit in enumerate(fruits):\n",
        "    print(idx, fruit)\n",
        "\n",
        "print('-' * 30)\n",
        "# 아래와 같은 내용을 위와 같이 줄여서 표현 가능\n",
        "idx = 0\n",
        "for fruit in fruits:\n",
        "    print(idx, fruit)\n",
        "    idx = idx + 1"
      ],
      "metadata": {
        "colab": {
          "base_uri": "https://localhost:8080/"
        },
        "id": "fI0iZJ1JqkK1",
        "outputId": "2d03cc2a-f709-4213-f9ab-3708b1ef56f2"
      },
      "execution_count": 29,
      "outputs": [
        {
          "output_type": "stream",
          "name": "stdout",
          "text": [
            "0 사과\n",
            "1 포도\n",
            "2 딸기\n",
            "3 키위\n",
            "------------------------------\n",
            "0 사과\n",
            "1 포도\n",
            "2 딸기\n",
            "3 키위\n"
          ]
        }
      ]
    },
    {
      "cell_type": "code",
      "source": [
        "# 6. 컬렉션 자료형 특징 이용\n",
        "for a, b in [(1,2),(3,4),(5,6)]:\n",
        "    print(a, b)\n",
        "\n",
        "dic = {1:'사과', 2:'포도'}\n",
        "# 딕셔너리는 기본적으로 키만 가져옴\n",
        "for key in dic:\n",
        "    print(key)\n",
        "# 벨류에 접근하려면\n",
        "for key in dic:\n",
        "    print(key, dic[key])\n",
        "# 아이템즈를 이용하면 (item이 아니라 items여야함)\n",
        "for key, value in dic.items():\n",
        "    print(key, value)\n",
        "\n",
        "# 집합은 중복된거 배제 유니크만 출력\n",
        "for v in {1,2,3,3,4,5,3}:\n",
        "    print(v)"
      ],
      "metadata": {
        "colab": {
          "base_uri": "https://localhost:8080/"
        },
        "id": "cgv40NlOq_sb",
        "outputId": "94495330-fcbd-4622-c84e-4fa5803ffe4f"
      },
      "execution_count": 41,
      "outputs": [
        {
          "output_type": "stream",
          "name": "stdout",
          "text": [
            "1 2\n",
            "3 4\n",
            "5 6\n",
            "1\n",
            "2\n",
            "1 사과\n",
            "2 포도\n",
            "1 사과\n",
            "2 포도\n",
            "1\n",
            "2\n",
            "3\n",
            "4\n",
            "5\n"
          ]
        }
      ]
    },
    {
      "cell_type": "markdown",
      "source": [
        "#### [실습문제] 1~N 까지 짝수 제외하고 총합 구하기"
      ],
      "metadata": {
        "id": "tVnMdUikubyb"
      }
    },
    {
      "cell_type": "code",
      "source": [
        "n = int(input('합계할 숫자 입력: '))\n",
        "hap = 0\n",
        "for i in range(1, n+1):\n",
        "    if i%2 == 1:\n",
        "        hap = hap + i\n",
        "print(f\"1~{n}까지 짝수를 제외한 합은: {hap}\")"
      ],
      "metadata": {
        "colab": {
          "base_uri": "https://localhost:8080/"
        },
        "id": "AczeTWSYssAO",
        "outputId": "164d5174-3e87-4466-bb5c-c00734e6d41f"
      },
      "execution_count": 43,
      "outputs": [
        {
          "output_type": "stream",
          "name": "stdout",
          "text": [
            "합계할 숫자 입력: 10\n",
            "1~10까지 짝수를 제외한 합은: 25\n"
          ]
        }
      ]
    },
    {
      "cell_type": "code",
      "source": [
        "n = int(input('합계할 숫자 입력: '))\n",
        "hap = 0\n",
        "for i in range(1, n+1, 2):\n",
        "    hap = hap + i\n",
        "print(f\"1~{n}까지 짝수를 제외한 합은: {hap}\")"
      ],
      "metadata": {
        "colab": {
          "base_uri": "https://localhost:8080/"
        },
        "id": "Ti2ZdQanw-Gy",
        "outputId": "7b56774a-1502-4b7d-8dde-02175d396f59"
      },
      "execution_count": 44,
      "outputs": [
        {
          "output_type": "stream",
          "name": "stdout",
          "text": [
            "합계할 숫자 입력: 10\n",
            "1~10까지 짝수를 제외한 합은: 25\n"
          ]
        }
      ]
    },
    {
      "cell_type": "code",
      "source": [
        "n = int(input('합계할 숫자 입력: '))\n",
        "hap = [i for i in range(1, n+1, 2)]\n",
        "print(hap)\n",
        "hap = sum( [i for i in range(1, n+1, 2)] )      # sum 합계를 구하는 함수\n",
        "print(f\"1~{n}까지 짝수를 제외한 합은: {hap}\")"
      ],
      "metadata": {
        "colab": {
          "base_uri": "https://localhost:8080/"
        },
        "id": "iF6Tywm8wehq",
        "outputId": "e51224f3-62f7-4a57-85a4-4747a48345de"
      },
      "execution_count": 46,
      "outputs": [
        {
          "output_type": "stream",
          "name": "stdout",
          "text": [
            "합계할 숫자 입력: 10\n",
            "[1, 3, 5, 7, 9]\n",
            "1~10까지 짝수를 제외한 합은: 25\n"
          ]
        }
      ]
    },
    {
      "cell_type": "code",
      "source": [],
      "metadata": {
        "id": "j0C-fscbxXOR"
      },
      "execution_count": null,
      "outputs": []
    }
  ]
}