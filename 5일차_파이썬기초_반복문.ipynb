{
  "nbformat": 4,
  "nbformat_minor": 0,
  "metadata": {
    "colab": {
      "provenance": [],
      "toc_visible": true,
      "authorship_tag": "ABX9TyMrWB+3HfXABFDU0OCyccnq",
      "include_colab_link": true
    },
    "kernelspec": {
      "name": "python3",
      "display_name": "Python 3"
    },
    "language_info": {
      "name": "python"
    }
  },
  "cells": [
    {
      "cell_type": "markdown",
      "metadata": {
        "id": "view-in-github",
        "colab_type": "text"
      },
      "source": [
        "<a href=\"https://colab.research.google.com/github/harujem/dataAnalysis/blob/main/5%EC%9D%BC%EC%B0%A8_%ED%8C%8C%EC%9D%B4%EC%8D%AC%EA%B8%B0%EC%B4%88_%EB%B0%98%EB%B3%B5%EB%AC%B8.ipynb\" target=\"_parent\"><img src=\"https://colab.research.google.com/assets/colab-badge.svg\" alt=\"Open In Colab\"/></a>"
      ]
    },
    {
      "cell_type": "markdown",
      "source": [
        "# 4.조건문과 반복문"
      ],
      "metadata": {
        "id": "c3tySe-Ffg2w"
      }
    },
    {
      "cell_type": "markdown",
      "source": [
        "---\n",
        "## **★ 반복문**\n",
        "---"
      ],
      "metadata": {
        "id": "UXUVeLw-fiXI"
      }
    },
    {
      "cell_type": "markdown",
      "source": [
        "## 1- 다양한 for 반복문"
      ],
      "metadata": {
        "id": "_jY7dPXOfrdY"
      }
    },
    {
      "cell_type": "code",
      "execution_count": null,
      "metadata": {
        "colab": {
          "base_uri": "https://localhost:8080/"
        },
        "id": "Gi313e7EfS9h",
        "outputId": "cbcde57a-6df4-46f4-b28b-c594cb4e9d98"
      },
      "outputs": [
        {
          "output_type": "stream",
          "name": "stdout",
          "text": [
            "0\n",
            "1\n",
            "2\n",
            "for문 반복중\n",
            "for문 반복중\n",
            "for문 반복중\n"
          ]
        }
      ],
      "source": [
        "# 1.range() 함수 이용: 정수를 차례로 발생시키는 함수\n",
        "for 변수 in range(0,3,1):     # 0부터 3미만까지 1씩 증가 = 3번 반복\n",
        "    print(변수)\n",
        "for i in range(3):         # 3번 반복\n",
        "    print(\"for문 반복중\")"
      ]
    },
    {
      "cell_type": "code",
      "source": [
        "# 2. 리스트 이용\n",
        "a = list(range(10,0,-1))\n",
        "a = list(range(1,11))\n",
        "for i in a:\n",
        "    print(i)            # 세로로\n",
        "for i in a:\n",
        "    print(i, end=',')   # 가로로"
      ],
      "metadata": {
        "colab": {
          "base_uri": "https://localhost:8080/"
        },
        "id": "gGKlhuq_msQh",
        "outputId": "98f3d3a0-147d-4919-d3a9-e27297b80d8b"
      },
      "execution_count": null,
      "outputs": [
        {
          "output_type": "stream",
          "name": "stdout",
          "text": [
            "1\n",
            "2\n",
            "3\n",
            "4\n",
            "5\n",
            "6\n",
            "7\n",
            "8\n",
            "9\n",
            "10\n",
            "1,2,3,4,5,6,7,8,9,10,"
          ]
        }
      ]
    },
    {
      "cell_type": "code",
      "source": [
        "# 한줄로 표현하는 방법\n",
        "for i in range(1,101):\n",
        "    print(i, end=',')"
      ],
      "metadata": {
        "colab": {
          "base_uri": "https://localhost:8080/"
        },
        "id": "5s1YXRDoz2Ip",
        "outputId": "80ceea41-9f44-4b23-e959-c0011f2df742"
      },
      "execution_count": null,
      "outputs": [
        {
          "output_type": "stream",
          "name": "stdout",
          "text": [
            "1,2,3,4,5,6,7,8,9,10,11,12,13,14,15,16,17,18,19,20,21,22,23,24,25,26,27,28,29,30,31,32,33,34,35,36,37,38,39,40,41,42,43,44,45,46,47,48,49,50,51,52,53,54,55,56,57,58,59,60,61,62,63,64,65,66,67,68,69,70,71,72,73,74,75,76,77,78,79,80,81,82,83,84,85,86,87,88,89,90,91,92,93,94,95,96,97,98,99,100,"
          ]
        }
      ]
    },
    {
      "cell_type": "code",
      "source": [
        "# 10단위로 한줄 표현하는 방법\n",
        "for i in range(1,101):\n",
        "    print(i, end=' ')\n",
        "    if i%10 == 0:\n",
        "        print()"
      ],
      "metadata": {
        "colab": {
          "base_uri": "https://localhost:8080/"
        },
        "id": "av3EaW1goi99",
        "outputId": "c781f0d1-fb23-4e1b-ce24-1f57226222f5"
      },
      "execution_count": null,
      "outputs": [
        {
          "output_type": "stream",
          "name": "stdout",
          "text": [
            "1 2 3 4 5 6 7 8 9 10 \n",
            "11 12 13 14 15 16 17 18 19 20 \n",
            "21 22 23 24 25 26 27 28 29 30 \n",
            "31 32 33 34 35 36 37 38 39 40 \n",
            "41 42 43 44 45 46 47 48 49 50 \n",
            "51 52 53 54 55 56 57 58 59 60 \n",
            "61 62 63 64 65 66 67 68 69 70 \n",
            "71 72 73 74 75 76 77 78 79 80 \n",
            "81 82 83 84 85 86 87 88 89 90 \n",
            "91 92 93 94 95 96 97 98 99 100 \n"
          ]
        }
      ]
    },
    {
      "cell_type": "code",
      "source": [
        "# 3. 문자열 이용\n",
        "for i in 'python':\n",
        "    print(i)"
      ],
      "metadata": {
        "colab": {
          "base_uri": "https://localhost:8080/"
        },
        "id": "SoGa10wcqFlo",
        "outputId": "8af8e377-ec2d-4c1c-84ac-966cd695de8b"
      },
      "execution_count": null,
      "outputs": [
        {
          "output_type": "stream",
          "name": "stdout",
          "text": [
            "p\n",
            "y\n",
            "t\n",
            "h\n",
            "o\n",
            "n\n"
          ]
        }
      ]
    },
    {
      "cell_type": "code",
      "source": [
        "# 4. 변수 사용안하고 반복만 할때\n",
        "for _ in range(3):\n",
        "    print('좋은 아침!')"
      ],
      "metadata": {
        "colab": {
          "base_uri": "https://localhost:8080/"
        },
        "id": "VieTe5d6qRXH",
        "outputId": "517143c3-e17a-48d3-8515-d2f33f1328ff"
      },
      "execution_count": null,
      "outputs": [
        {
          "output_type": "stream",
          "name": "stdout",
          "text": [
            "좋은 아침!\n",
            "좋은 아침!\n",
            "좋은 아침!\n"
          ]
        }
      ]
    },
    {
      "cell_type": "code",
      "source": [
        "# 5. enumerate(): 리스트와 같은 순서가 있는 자료형의 인덱스를 함께 사용\n",
        "fruits = ['사과','포도','딸기','키위']\n",
        "for idx, fruit in enumerate(fruits):\n",
        "    print(idx, fruit)\n",
        "\n",
        "print('-' * 30)\n",
        "# 아래와 같은 내용을 위와 같이 줄여서 표현 가능\n",
        "idx = 0\n",
        "for fruit in fruits:\n",
        "    print(idx, fruit)\n",
        "    idx = idx + 1"
      ],
      "metadata": {
        "colab": {
          "base_uri": "https://localhost:8080/"
        },
        "id": "fI0iZJ1JqkK1",
        "outputId": "2d03cc2a-f709-4213-f9ab-3708b1ef56f2"
      },
      "execution_count": null,
      "outputs": [
        {
          "output_type": "stream",
          "name": "stdout",
          "text": [
            "0 사과\n",
            "1 포도\n",
            "2 딸기\n",
            "3 키위\n",
            "------------------------------\n",
            "0 사과\n",
            "1 포도\n",
            "2 딸기\n",
            "3 키위\n"
          ]
        }
      ]
    },
    {
      "cell_type": "code",
      "source": [
        "# 6. 컬렉션 자료형 특징 이용\n",
        "for a, b in [(1,2),(3,4),(5,6)]:\n",
        "    print(a, b)\n",
        "\n",
        "dic = {1:'사과', 2:'포도'}\n",
        "# 딕셔너리는 기본적으로 키만 가져옴\n",
        "for key in dic:\n",
        "    print(key)\n",
        "# 벨류에 접근하려면\n",
        "for key in dic:\n",
        "    print(key, dic[key])\n",
        "# 아이템즈를 이용하면 (item이 아니라 items여야함)\n",
        "for key, value in dic.items():\n",
        "    print(key, value)\n",
        "\n",
        "# 집합은 중복된거 배제 유니크만 출력\n",
        "for v in {1,2,3,3,4,5,3}:\n",
        "    print(v)"
      ],
      "metadata": {
        "colab": {
          "base_uri": "https://localhost:8080/"
        },
        "id": "cgv40NlOq_sb",
        "outputId": "94495330-fcbd-4622-c84e-4fa5803ffe4f"
      },
      "execution_count": null,
      "outputs": [
        {
          "output_type": "stream",
          "name": "stdout",
          "text": [
            "1 2\n",
            "3 4\n",
            "5 6\n",
            "1\n",
            "2\n",
            "1 사과\n",
            "2 포도\n",
            "1 사과\n",
            "2 포도\n",
            "1\n",
            "2\n",
            "3\n",
            "4\n",
            "5\n"
          ]
        }
      ]
    },
    {
      "cell_type": "markdown",
      "source": [
        "### [실습문제] 1~N 까지 짝수 제외하고 총합 구하기"
      ],
      "metadata": {
        "id": "tVnMdUikubyb"
      }
    },
    {
      "cell_type": "code",
      "source": [
        "n = int(input('합계할 숫자 입력: '))\n",
        "hap = 0\n",
        "for i in range(1, n+1):\n",
        "    if i%2 == 1:\n",
        "        hap = hap + i\n",
        "print(f\"1~{n}까지 짝수를 제외한 합은: {hap}\")"
      ],
      "metadata": {
        "colab": {
          "base_uri": "https://localhost:8080/"
        },
        "id": "AczeTWSYssAO",
        "outputId": "164d5174-3e87-4466-bb5c-c00734e6d41f"
      },
      "execution_count": null,
      "outputs": [
        {
          "output_type": "stream",
          "name": "stdout",
          "text": [
            "합계할 숫자 입력: 10\n",
            "1~10까지 짝수를 제외한 합은: 25\n"
          ]
        }
      ]
    },
    {
      "cell_type": "code",
      "source": [
        "n = int(input('합계할 숫자 입력: '))\n",
        "hap = 0\n",
        "for i in range(1, n+1, 2):\n",
        "    hap = hap + i\n",
        "print(f\"1~{n}까지 짝수를 제외한 합은: {hap}\")"
      ],
      "metadata": {
        "colab": {
          "base_uri": "https://localhost:8080/"
        },
        "id": "Ti2ZdQanw-Gy",
        "outputId": "7b56774a-1502-4b7d-8dde-02175d396f59"
      },
      "execution_count": null,
      "outputs": [
        {
          "output_type": "stream",
          "name": "stdout",
          "text": [
            "합계할 숫자 입력: 10\n",
            "1~10까지 짝수를 제외한 합은: 25\n"
          ]
        }
      ]
    },
    {
      "cell_type": "code",
      "source": [
        "n = int(input('합계할 숫자 입력: '))\n",
        "hap = [i for i in range(1, n+1, 2)]\n",
        "print(hap)\n",
        "hap = sum( [i for i in range(1, n+1, 2)] )      # sum 합계를 구하는 함수\n",
        "print(f\"1~{n}까지 짝수를 제외한 합은: {hap}\")"
      ],
      "metadata": {
        "colab": {
          "base_uri": "https://localhost:8080/"
        },
        "id": "iF6Tywm8wehq",
        "outputId": "e51224f3-62f7-4a57-85a4-4747a48345de"
      },
      "execution_count": null,
      "outputs": [
        {
          "output_type": "stream",
          "name": "stdout",
          "text": [
            "합계할 숫자 입력: 10\n",
            "[1, 3, 5, 7, 9]\n",
            "1~10까지 짝수를 제외한 합은: 25\n"
          ]
        }
      ]
    },
    {
      "cell_type": "markdown",
      "source": [
        "### [실습문제] 정오각형 그리기\n",
        "\n",
        "\n",
        "*   IDLE 에서 실행 (코랩에서 안됨)\n",
        "\n"
      ],
      "metadata": {
        "id": "263ntonM1cDP"
      }
    },
    {
      "cell_type": "code",
      "source": [
        "import turtle\n",
        "t = turtle.Pen()        # 펜블럭\n",
        "\n",
        "t.shape('turtle')       # 커서 모양\n",
        "t.color('blue')         # 선 색상\n",
        "t.pensize(5)            # 선 굵기\n",
        "\n",
        "for i in range(5):\n",
        "    t.forward(100)\n",
        "    t.right(360/5)\n",
        "turtle.exitonclick()"
      ],
      "metadata": {
        "id": "2Oy0eGA31bnn"
      },
      "execution_count": null,
      "outputs": []
    },
    {
      "cell_type": "markdown",
      "source": [
        "### [실습문제] 1~100 숫자를 1줄로 출력하기"
      ],
      "metadata": {
        "id": "C37PZ6ac8QKl"
      }
    },
    {
      "cell_type": "code",
      "source": [
        "for i in range(1,101):\n",
        "    print(i, end=',')"
      ],
      "metadata": {
        "colab": {
          "base_uri": "https://localhost:8080/"
        },
        "id": "9xEhmE3q4Q8O",
        "outputId": "ba2d0635-3e8f-4848-e53b-96bdc348132f"
      },
      "execution_count": null,
      "outputs": [
        {
          "output_type": "stream",
          "name": "stdout",
          "text": [
            "1,2,3,4,5,6,7,8,9,10,11,12,13,14,15,16,17,18,19,20,21,22,23,24,25,26,27,28,29,30,31,32,33,34,35,36,37,38,39,40,41,42,43,44,45,46,47,48,49,50,51,52,53,54,55,56,57,58,59,60,61,62,63,64,65,66,67,68,69,70,71,72,73,74,75,76,77,78,79,80,81,82,83,84,85,86,87,88,89,90,91,92,93,94,95,96,97,98,99,100,"
          ]
        }
      ]
    },
    {
      "cell_type": "code",
      "source": [
        "# 공백 하나로 조인해 (join은 문자만 가능) i를 str() 스트링으로 문자로 만들어줌\n",
        "print(' '.join([str(i) for i in range(1, 101)]))"
      ],
      "metadata": {
        "colab": {
          "base_uri": "https://localhost:8080/"
        },
        "id": "zJYogFBo8rSs",
        "outputId": "75e4d04d-2e7e-4bed-e824-124ba37317b0"
      },
      "execution_count": null,
      "outputs": [
        {
          "output_type": "stream",
          "name": "stdout",
          "text": [
            "1 2 3 4 5 6 7 8 9 10 11 12 13 14 15 16 17 18 19 20 21 22 23 24 25 26 27 28 29 30 31 32 33 34 35 36 37 38 39 40 41 42 43 44 45 46 47 48 49 50 51 52 53 54 55 56 57 58 59 60 61 62 63 64 65 66 67 68 69 70 71 72 73 74 75 76 77 78 79 80 81 82 83 84 85 86 87 88 89 90 91 92 93 94 95 96 97 98 99 100\n"
          ]
        }
      ]
    },
    {
      "cell_type": "markdown",
      "source": [
        "### [실습문제] 리스트 읽어서 조건문으로 학생 성적 판별하기"
      ],
      "metadata": {
        "id": "9pEhre4i-BDN"
      }
    },
    {
      "cell_type": "code",
      "source": [
        "# 방법1 --> 직접 지정\n",
        "scores = [90, 25, 67, 45, 80]\n",
        "print(scores)\n",
        "\n",
        "# 방법2 --> 숫자 5개를 임의 발생\n",
        "import random\n",
        "scores = []\n",
        "for _ in range(5):\n",
        "    scores.append(random.randint(1,101))\n",
        "print(scores)\n",
        "\n",
        "# 방법3 --> 위 내용을 한줄로 표현\n",
        "scores = [random.randint(1,101) for _ in range(5)]\n",
        "print(scores)\n",
        "\n",
        "# 반복문 성적 판별\n",
        "for idx, score in enumerate(scores):\n",
        "    if score >= 60:\n",
        "        print(f\"{idx+1}번 학생의 {score}점은 합격입니다.\")\n",
        "    else:\n",
        "        print(f\"{idx+1}번 학생의 {score}점은 불합격입니다.\")\n",
        "\n",
        "print('-' * 30)\n",
        "# 아래와 같이 줄여서 표현 가능\n",
        "for idx, score in enumerate(scores):\n",
        "    result = '합격' if score >= 60 else '불합격'\n",
        "    print(f\"{idx+1}번 학생의 {score}점은 {result}입니다.\")"
      ],
      "metadata": {
        "colab": {
          "base_uri": "https://localhost:8080/"
        },
        "id": "K0uG3B0A9Pnc",
        "outputId": "2809ed97-d337-43f6-f6cd-62c9099e4b8e"
      },
      "execution_count": null,
      "outputs": [
        {
          "output_type": "stream",
          "name": "stdout",
          "text": [
            "[90, 25, 67, 45, 80]\n",
            "[99, 1, 20, 30, 71]\n",
            "[91, 67, 36, 1, 6]\n",
            "1번 학생의 91점은 합격입니다.\n",
            "2번 학생의 67점은 합격입니다.\n",
            "3번 학생의 36점은 불합격입니다.\n",
            "4번 학생의 1점은 불합격입니다.\n",
            "5번 학생의 6점은 불합격입니다.\n",
            "------------------------------\n",
            "1번 학생의 91점은 합격입니다.\n",
            "2번 학생의 67점은 합격입니다.\n",
            "3번 학생의 36점은 불합격입니다.\n",
            "4번 학생의 1점은 불합격입니다.\n",
            "5번 학생의 6점은 불합격입니다.\n"
          ]
        }
      ]
    },
    {
      "cell_type": "markdown",
      "source": [
        "### [실습문제] 소괄호 문자열"
      ],
      "metadata": {
        "id": "xoEmKw1ACmRD"
      }
    },
    {
      "cell_type": "code",
      "source": [
        "''' 예\n",
        " )))()()((( =>False\n",
        " ()()()()())=>False\n",
        " ()(())()() =>True\n",
        " ))(())((=>False\n",
        " ()(()))(=>False\n",
        " ((())())=>True\n",
        "'''\n",
        "\n",
        "p_list = list(input('판별할 괄호 입력: '))\n",
        "\n",
        "t = 0\n",
        "for p in p_list:\n",
        "    if p == '(':\n",
        "        t += 1\n",
        "    elif p == ')':\n",
        "        t -= 1\n",
        "    if t < 0:\n",
        "        break\n",
        "if t == 0:\n",
        "    print('결과: True')\n",
        "else:\n",
        "    print('결과: False')"
      ],
      "metadata": {
        "colab": {
          "base_uri": "https://localhost:8080/"
        },
        "id": "jDG4obMK_QiL",
        "outputId": "44a1fad1-3bf4-431d-e76e-fef824a54073"
      },
      "execution_count": null,
      "outputs": [
        {
          "output_type": "stream",
          "name": "stdout",
          "text": [
            "판별할 괄호 입력: ((())())\n",
            "결과: True\n"
          ]
        }
      ]
    },
    {
      "cell_type": "markdown",
      "source": [
        "## 2- 중첩 for 반복문: 반복문 안에 반복문"
      ],
      "metadata": {
        "id": "Cu60PEN_HDHg"
      }
    },
    {
      "cell_type": "code",
      "source": [
        "for i in range(3):\n",
        "    print(f\"{i}------\")\n",
        "    for j in range(3):\n",
        "        print(f\"i:{i}, j:{j}\")"
      ],
      "metadata": {
        "colab": {
          "base_uri": "https://localhost:8080/"
        },
        "id": "yqG6rAEBEKlx",
        "outputId": "7510b34d-a027-47c1-9be5-15cc2c2bbdd3"
      },
      "execution_count": null,
      "outputs": [
        {
          "output_type": "stream",
          "name": "stdout",
          "text": [
            "0------\n",
            "i:0, j:0\n",
            "i:0, j:1\n",
            "i:0, j:2\n",
            "1------\n",
            "i:1, j:0\n",
            "i:1, j:1\n",
            "i:1, j:2\n",
            "2------\n",
            "i:2, j:0\n",
            "i:2, j:1\n",
            "i:2, j:2\n"
          ]
        }
      ]
    },
    {
      "cell_type": "code",
      "source": [
        "p_lists = [')))()()(((', '()()()()())', '()(())()()', '))(())((', '()(()))(', '((())()']\n",
        "\n",
        "for p_list in p_lists:\n",
        "    print(f\"괄호: {p_list}\")\n",
        "    t = 0\n",
        "    for p in p_list:\n",
        "        if p == '(':\n",
        "            t += 1\n",
        "        elif p == ')':\n",
        "            t -= 1\n",
        "        if t < 0:\n",
        "            break\n",
        "    if t == 0:\n",
        "        print('- 결과: True')\n",
        "    else:\n",
        "        print('- 결과: False')"
      ],
      "metadata": {
        "colab": {
          "base_uri": "https://localhost:8080/"
        },
        "id": "S_RjHMZqHS9A",
        "outputId": "a8819c87-09fc-4b80-83b1-f9a9d8467436"
      },
      "execution_count": null,
      "outputs": [
        {
          "output_type": "stream",
          "name": "stdout",
          "text": [
            "괄호: )))()()(((\n",
            "- 결과: False\n",
            "괄호: ()()()()())\n",
            "- 결과: False\n",
            "괄호: ()(())()()\n",
            "- 결과: True\n",
            "괄호: ))(())((\n",
            "- 결과: False\n",
            "괄호: ()(()))(\n",
            "- 결과: False\n",
            "괄호: ((())()\n",
            "- 결과: False\n"
          ]
        }
      ]
    },
    {
      "cell_type": "markdown",
      "source": [
        "## 3- while 반복문 기본형식"
      ],
      "metadata": {
        "id": "LeY8lrDXQ0_2"
      }
    },
    {
      "cell_type": "code",
      "source": [
        "# 조건이 참일동안 반복\n",
        "a = 0\n",
        "while  a < 5:\n",
        "    print(f\"{a}는 5보다 작군요\")\n",
        "    a += 1\n",
        "print(f\"{a}는 5와 같군요\")\n",
        "\n",
        "print('-' * 30)\n",
        "# 다른 방법\n",
        "a = 0\n",
        "while  True:\n",
        "    if a >= 5:\n",
        "        break\n",
        "    print(f\"{a}는 5보다 작군요\")\n",
        "    a += 1\n",
        "print(f\"{a}는 5와 같군요\")"
      ],
      "metadata": {
        "colab": {
          "base_uri": "https://localhost:8080/"
        },
        "id": "60ytLHofI0g8",
        "outputId": "dee64f5c-3ba7-4949-c053-ab0a52aab37b"
      },
      "execution_count": null,
      "outputs": [
        {
          "output_type": "stream",
          "name": "stdout",
          "text": [
            "0는 5보다 작군요\n",
            "1는 5보다 작군요\n",
            "2는 5보다 작군요\n",
            "3는 5보다 작군요\n",
            "4는 5보다 작군요\n",
            "5는 5와 같군요\n",
            "------------------------------\n",
            "0는 5보다 작군요\n",
            "1는 5보다 작군요\n",
            "2는 5보다 작군요\n",
            "3는 5보다 작군요\n",
            "4는 5보다 작군요\n",
            "5는 5와 같군요\n"
          ]
        }
      ]
    },
    {
      "cell_type": "markdown",
      "source": [
        "### [실습문제] 나무 10번 찍기"
      ],
      "metadata": {
        "id": "7cXv2Ua1S4_M"
      }
    },
    {
      "cell_type": "code",
      "source": [
        "treeHit = 0\n",
        "while treeHit < 10:\n",
        "    treeHit += 1\n",
        "    print(f\"나무를 {treeHit}번 찍었습니다.\")\n",
        "print(f\"나무가 넘어갑니다.\")"
      ],
      "metadata": {
        "colab": {
          "base_uri": "https://localhost:8080/"
        },
        "id": "cq71bxYnSHmj",
        "outputId": "102e3eb1-439c-4a14-a78b-f7363af69357"
      },
      "execution_count": null,
      "outputs": [
        {
          "output_type": "stream",
          "name": "stdout",
          "text": [
            "나무를 1번 찍었습니다.\n",
            "나무를 2번 찍었습니다.\n",
            "나무를 3번 찍었습니다.\n",
            "나무를 4번 찍었습니다.\n",
            "나무를 5번 찍었습니다.\n",
            "나무를 6번 찍었습니다.\n",
            "나무를 7번 찍었습니다.\n",
            "나무를 8번 찍었습니다.\n",
            "나무를 9번 찍었습니다.\n",
            "나무를 10번 찍었습니다.\n",
            "나무가 넘어갑니다.\n"
          ]
        }
      ]
    },
    {
      "cell_type": "code",
      "source": [
        "treeHit = 0\n",
        "while True:\n",
        "    if treeHit >= 10:\n",
        "        break\n",
        "    treeHit += 1\n",
        "    print(f\"나무를 {treeHit}번 찍었습니다\")\n",
        "print(\"나무 넘어 갔습니다.\")"
      ],
      "metadata": {
        "colab": {
          "base_uri": "https://localhost:8080/"
        },
        "id": "FqqlVWURTgUN",
        "outputId": "4099101a-d071-4922-e768-120204a7551d"
      },
      "execution_count": null,
      "outputs": [
        {
          "output_type": "stream",
          "name": "stdout",
          "text": [
            "나무를 1번 찍었습니다\n",
            "나무를 2번 찍었습니다\n",
            "나무를 3번 찍었습니다\n",
            "나무를 4번 찍었습니다\n",
            "나무를 5번 찍었습니다\n",
            "나무를 6번 찍었습니다\n",
            "나무를 7번 찍었습니다\n",
            "나무를 8번 찍었습니다\n",
            "나무를 9번 찍었습니다\n",
            "나무를 10번 찍었습니다\n",
            "나무 넘어 갔습니다.\n"
          ]
        }
      ]
    },
    {
      "cell_type": "markdown",
      "source": [
        "### [실습문제] 반복문 퀴즈 프로그램\n",
        "by Gemini"
      ],
      "metadata": {
        "id": "W6s0qfuIFQaa"
      }
    },
    {
      "cell_type": "code",
      "source": [
        "questions = [\"대한민국의 수도는 어디일까요?\", \"2+2는 몇일까요?\", \"세계에서 가장 높은 산은 무엇일까요?\"]\n",
        "answers = [\"서울\", \"4\", \"에베레스트산\"]\n",
        "\n",
        "for i in range(len(questions)):\n",
        "    print(f\"{i + 1}. {questions[i]}\")\n",
        "    answer = input()\n",
        "    if answer == answers[i]:\n",
        "        print(\"정답입니다!\")\n",
        "    else:\n",
        "        print(\"오답입니다. 정답은 {}입니다.\".format(answers[i]))"
      ],
      "metadata": {
        "id": "Eo5amRz1U7ma",
        "colab": {
          "base_uri": "https://localhost:8080/"
        },
        "outputId": "72dd737f-6fda-44df-baba-79a96eba19e5"
      },
      "execution_count": 3,
      "outputs": [
        {
          "output_type": "stream",
          "name": "stdout",
          "text": [
            "1. 대한민국의 수도는 어디일까요?\n",
            "서울\n",
            "정답입니다!\n",
            "2. 2+2는 몇일까요?\n",
            "4\n",
            "정답입니다!\n",
            "3. 세계에서 가장 높은 산은 무엇일까요?\n",
            "한라산\n",
            "오답입니다. 정답은 에베레스트산입니다.\n"
          ]
        }
      ]
    },
    {
      "cell_type": "markdown",
      "source": [
        "### [실습문제] 1000만원을 년 이자율 7%로 저금했을 경우 2000만원이 되는 데 몇 년이 걸리는지 계산하는 프로그램\n",
        "by Gemini"
      ],
      "metadata": {
        "id": "R3A-A9vxGKv5"
      }
    },
    {
      "cell_type": "code",
      "source": [
        "# 원금\n",
        "principal = 10000000\n",
        "\n",
        "# 연 이자율\n",
        "interest_rate = 0.07\n",
        "\n",
        "# 목표 금액\n",
        "target_amount = 20000000\n",
        "\n",
        "# 필요 연수 계산\n",
        "years = (target_amount - principal) / (principal * interest_rate)\n",
        "\n",
        "# 결과 출력\n",
        "print(f\"1000만원을 연 이율 7%로 저금했을 경우 2000만원이 되는 데 {years}년이 걸립니다.\")"
      ],
      "metadata": {
        "colab": {
          "base_uri": "https://localhost:8080/"
        },
        "id": "0BFfqkXnFlhL",
        "outputId": "a4d3560b-4d53-45e1-ff3e-674c444ceb24"
      },
      "execution_count": 4,
      "outputs": [
        {
          "output_type": "stream",
          "name": "stdout",
          "text": [
            "1000만원을 연 이율 7%로 저금했을 경우 2000만원이 되는 데 14.285714285714283년이 걸립니다.\n"
          ]
        }
      ]
    },
    {
      "cell_type": "code",
      "source": [],
      "metadata": {
        "id": "ZiFzwAsgGhky"
      },
      "execution_count": null,
      "outputs": []
    }
  ]
}