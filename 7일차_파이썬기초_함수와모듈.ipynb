{
  "nbformat": 4,
  "nbformat_minor": 0,
  "metadata": {
    "colab": {
      "provenance": [],
      "toc_visible": true,
      "authorship_tag": "ABX9TyMJvauHX2o9FPlkp9MsYAqx",
      "include_colab_link": true
    },
    "kernelspec": {
      "name": "python3",
      "display_name": "Python 3"
    },
    "language_info": {
      "name": "python"
    }
  },
  "cells": [
    {
      "cell_type": "markdown",
      "metadata": {
        "id": "view-in-github",
        "colab_type": "text"
      },
      "source": [
        "<a href=\"https://colab.research.google.com/github/harujem/dataAnalysis/blob/main/7%EC%9D%BC%EC%B0%A8_%ED%8C%8C%EC%9D%B4%EC%8D%AC%EA%B8%B0%EC%B4%88_%ED%95%A8%EC%88%98%EC%99%80%EB%AA%A8%EB%93%88.ipynb\" target=\"_parent\"><img src=\"https://colab.research.google.com/assets/colab-badge.svg\" alt=\"Open In Colab\"/></a>"
      ]
    },
    {
      "cell_type": "markdown",
      "source": [
        "#5.함수와 모듈"
      ],
      "metadata": {
        "id": "-Pi1mDuezotX"
      }
    },
    {
      "cell_type": "markdown",
      "source": [
        "### [실습문제] 암스트롱 수 찾기"
      ],
      "metadata": {
        "id": "gu-omBc69a8s"
      }
    },
    {
      "cell_type": "code",
      "execution_count": 4,
      "metadata": {
        "id": "9bD4tTIDzioe",
        "colab": {
          "base_uri": "https://localhost:8080/"
        },
        "outputId": "e52712a9-41e0-4c48-8ac9-23ebc3d2c8bb"
      },
      "outputs": [
        {
          "output_type": "stream",
          "name": "stdout",
          "text": [
            "[153] is armstrong number\n",
            "[370] is armstrong number\n",
            "[371] is armstrong number\n",
            "[407] is armstrong number\n"
          ]
        }
      ],
      "source": [
        "def is_armstrong(n):\n",
        "    _1, _2, _3 = int(str(n)[0]), int(str(n)[1]), int(str(n)[2])  # 자리수를 str 문자화해서 []인덱스를 주고 다시 int 숫자화\n",
        "    if _1**3 + _2**3 + _3**3 == n:  # 각 수를 세제곱한 것을 더하면 = 암스트롱 수\n",
        "        return True\n",
        "    else:\n",
        "        return False\n",
        "\n",
        "for n in range(100, 1000):\n",
        "    if is_armstrong(n):\n",
        "        print(f\"[{n}] is armstrong number\")\n"
      ]
    },
    {
      "cell_type": "markdown",
      "source": [
        "### [실습문제] 커피 자동주문 프로그램 - 함수 이용하기"
      ],
      "metadata": {
        "id": "Iu_2786cW935"
      }
    },
    {
      "cell_type": "code",
      "source": [
        "def coffee_machine():\n",
        "\n",
        "    menu = ''' [커피 주문 머신 메뉴]\n",
        "    -------------------------\n",
        "    - 아메리카노: 2500원\n",
        "    - 카페라떼:   3000원\n",
        "    - 카페모카:   3000원\n",
        "    -------------------------\n",
        "    원하시는 커피 종류와 잔수를 입력하세요. '''\n",
        "\n",
        "    coffee1 = int(input('아메리카노 몇잔: '))\n",
        "    coffee2 = int(input('카페라떼 몇잔: '))\n",
        "    coffee3 = int(input('카페모카 몇잔: '))\n",
        "\n",
        "    total = 2500*coffee1 + 3000*coffee2 + 3000*coffee3\n",
        "    print(f\"지불하실 총 금액은 {total:,}원 입니다.\")\n",
        "\n",
        "    while True:\n",
        "        print('-----------------')\n",
        "        money = int(input('돈을 넣어주세요: '))\n",
        "\n",
        "        change = money - total  # 거스름돈\n",
        "        if change < 0:\n",
        "            print(f\"돈이 부족합니다. {abs(change):,}원을 더 넣어주세요.\")\n",
        "            total = total - money\n",
        "        else:\n",
        "            print(f\"거스름돈은 {change:,}원 입니다. 커피 맛있게 드세요.\")\n",
        "            break\n",
        "\n",
        "coffee_machine()   # 함수 호출"
      ],
      "metadata": {
        "colab": {
          "base_uri": "https://localhost:8080/"
        },
        "id": "RZ1ftLVcXBZp",
        "outputId": "3988dd5b-b9d1-4322-e1d2-ebbd5ba6e55d"
      },
      "execution_count": 12,
      "outputs": [
        {
          "output_type": "stream",
          "name": "stdout",
          "text": [
            "아메리카노 몇잔: 3\n",
            "카페라떼 몇잔: 3\n",
            "카페모카 몇잔: 3\n",
            "지불하실 총 금액은 25,500원 입니다.\n",
            "-----------------\n",
            "돈을 넣어주세요: 25000\n",
            "돈이 부족합니다. 500원을 더 넣어주세요.\n",
            "-----------------\n",
            "돈을 넣어주세요: 1000\n",
            "거스름돈은 500원 입니다. 커피 맛있게 드세요.\n"
          ]
        }
      ]
    },
    {
      "cell_type": "markdown",
      "source": [
        "### [실습문제] 무인호텔 관리 프로그램 - 함수 이용하기"
      ],
      "metadata": {
        "id": "qiLb7cl7doCJ"
      }
    },
    {
      "cell_type": "code",
      "source": [
        "print('호텔관리 시스템입니다.')\n",
        "menu = '''\n",
        "1. 체크인\n",
        "2. 체크아웃\n",
        "3. 입실현황\n",
        "0. 종료\n",
        "'''\n",
        "number = int(input('호텔 방의 개수 입력: '))\n",
        "hotel = [0 for _ in range(number)]\n",
        "print(f\"방 현황: {hotel} (0:빈방, 1:입실중)\")\n",
        "\n",
        "def check_in():\n",
        "    num = int(input(f'체크인 하실 방 호수 입력(1 ~ {len(hotel)}): '))\n",
        "    if hotel[num-1]:    # 참이면 이미 입실중 (인덱스가 0부터 시작해서 -1 붙임)\n",
        "        print(f\"{num}번 방은 이미 입실중입니다.\")\n",
        "    else:\n",
        "        hotel[num-1] = 1\n",
        "\n",
        "def check_out():\n",
        "    num = int(input(f'체크아웃 하실 방 호수 입력(1 ~ {len(hotel)}): '))\n",
        "    if hotel[num-1]:    # 체크아웃 처리\n",
        "        hotel[num-1] = 0    # 빈방 상태로 만듬\n",
        "        print(f\"{num}번 방은 이미 입실중입니다.\")\n",
        "    else:\n",
        "        print(f\"{hotel[num]}번 방은 빈 방입니다. 빈 방은 체크아웃 하실 수 없습니다.\")\n",
        "\n",
        "def room_view():\n",
        "    for idx, room in enumerate(hotel):  # [0, 0, 0]\n",
        "        if room == 0:\n",
        "            print(f\"{idx+1}호: 빈방\")\n",
        "        elif room == 1:\n",
        "            print(f\"{idx+1}호: 입실중\")\n",
        "\n",
        "while True:\n",
        "    print(f'-------------------{menu}')\n",
        "    select = input('--> 메뉴선택: ')\n",
        "    if select == '0':\n",
        "        break\n",
        "    elif select == '1':   # 체크인\n",
        "        check_in()\n",
        "    elif select == '2':   # 체크아웃\n",
        "        check_out()\n",
        "    elif select == '3':   # 현황보기\n",
        "        room_view()\n",
        "\n",
        "print(f'-------------------')\n",
        "print('프로그램 종료!')"
      ],
      "metadata": {
        "colab": {
          "base_uri": "https://localhost:8080/"
        },
        "id": "ik9gU4yzYDwy",
        "outputId": "ea51a1db-186d-4be1-cd1a-969f8c7c8847"
      },
      "execution_count": 14,
      "outputs": [
        {
          "output_type": "stream",
          "name": "stdout",
          "text": [
            "호텔관리 시스템입니다.\n",
            "호텔 방의 개수 입력: 3\n",
            "방 현황: [0, 0, 0] (0:빈방, 1:입실중)\n",
            "-------------------\n",
            "1. 체크인\n",
            "2. 체크아웃\n",
            "3. 입실현황\n",
            "0. 종료\n",
            "\n",
            "--> 메뉴선택: 1\n",
            "체크인 하실 방 호수 입력(1 ~ 3): 2\n",
            "-------------------\n",
            "1. 체크인\n",
            "2. 체크아웃\n",
            "3. 입실현황\n",
            "0. 종료\n",
            "\n",
            "--> 메뉴선택: 2\n",
            "체크아웃 하실 방 호수 입력(1 ~ 3): 2\n",
            "2번 방은 이미 입실중입니다.\n",
            "-------------------\n",
            "1. 체크인\n",
            "2. 체크아웃\n",
            "3. 입실현황\n",
            "0. 종료\n",
            "\n",
            "--> 메뉴선택: 3\n",
            "1호: 빈방\n",
            "2호: 빈방\n",
            "3호: 빈방\n",
            "-------------------\n",
            "1. 체크인\n",
            "2. 체크아웃\n",
            "3. 입실현황\n",
            "0. 종료\n",
            "\n",
            "--> 메뉴선택: 0\n",
            "-------------------\n",
            "프로그램 종료!\n"
          ]
        }
      ]
    },
    {
      "cell_type": "markdown",
      "source": [
        "### [실습문제] lambda & map() 맵과 람다 사용하기"
      ],
      "metadata": {
        "id": "SglXAmDgdsNI"
      }
    },
    {
      "cell_type": "code",
      "source": [
        "myList = [1, 2, 3, 4, 5, 6, 7, 8, 9, 10]\n",
        "# myList 에서 3의 배수만 문자열로 변환해서 myList 출력하기\n",
        "\n",
        "# func = lambda x : str(x) if x%3==0 else x\n",
        "# myList = list(map(func, myList))\n",
        "\n",
        "myList = list(map(lambda x : str(x) if x%3==0 else x, myList))\n",
        "myList"
      ],
      "metadata": {
        "colab": {
          "base_uri": "https://localhost:8080/"
        },
        "id": "2Pyjq9g3aNeU",
        "outputId": "f2a84f72-df27-4e40-eeef-c4602752f75d"
      },
      "execution_count": 20,
      "outputs": [
        {
          "output_type": "execute_result",
          "data": {
            "text/plain": [
              "[1, 2, '3', 4, 5, '6', 7, 8, '9', 10]"
            ]
          },
          "metadata": {},
          "execution_count": 20
        }
      ]
    },
    {
      "cell_type": "code",
      "source": [
        "myList1 = [1, 2, 3, 4, 5]\n",
        "myList2 = [2, 4, 6, 8, 10]\n",
        "myList3 = [1, 1, 1, 1, 1]\n",
        "\n",
        "func = lambda x, y, z: x*y*z\n",
        "myList = list(map(func, myList1, myList2, myList3))\n",
        "myList"
      ],
      "metadata": {
        "colab": {
          "base_uri": "https://localhost:8080/"
        },
        "id": "eIdzZHtZesk7",
        "outputId": "80fe78ac-7639-4489-b1ba-b6b063eb79e9"
      },
      "execution_count": 23,
      "outputs": [
        {
          "output_type": "execute_result",
          "data": {
            "text/plain": [
              "[2, 8, 18, 32, 50]"
            ]
          },
          "metadata": {},
          "execution_count": 23
        }
      ]
    },
    {
      "cell_type": "code",
      "source": [],
      "metadata": {
        "id": "ZXE18I1ugIaW"
      },
      "execution_count": null,
      "outputs": []
    }
  ]
}