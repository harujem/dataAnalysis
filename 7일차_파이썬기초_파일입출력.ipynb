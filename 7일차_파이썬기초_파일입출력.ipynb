{
  "nbformat": 4,
  "nbformat_minor": 0,
  "metadata": {
    "colab": {
      "provenance": [],
      "toc_visible": true,
      "authorship_tag": "ABX9TyOIg0j31tn46lB+y18zGDJy",
      "include_colab_link": true
    },
    "kernelspec": {
      "name": "python3",
      "display_name": "Python 3"
    },
    "language_info": {
      "name": "python"
    }
  },
  "cells": [
    {
      "cell_type": "markdown",
      "metadata": {
        "id": "view-in-github",
        "colab_type": "text"
      },
      "source": [
        "<a href=\"https://colab.research.google.com/github/harujem/dataAnalysis/blob/main/7%EC%9D%BC%EC%B0%A8_%ED%8C%8C%EC%9D%B4%EC%8D%AC%EA%B8%B0%EC%B4%88_%ED%8C%8C%EC%9D%BC%EC%9E%85%EC%B6%9C%EB%A0%A5.ipynb\" target=\"_parent\"><img src=\"https://colab.research.google.com/assets/colab-badge.svg\" alt=\"Open In Colab\"/></a>"
      ]
    },
    {
      "cell_type": "markdown",
      "source": [
        "# 6.파일 입출력"
      ],
      "metadata": {
        "id": "9zIjNkybknms"
      }
    },
    {
      "cell_type": "markdown",
      "source": [
        "##  TXT"
      ],
      "metadata": {
        "id": "v7qWK7JwmIm7"
      }
    },
    {
      "cell_type": "markdown",
      "source": [
        "### 파일 읽기"
      ],
      "metadata": {
        "id": "ziFBVjcqvHmX"
      }
    },
    {
      "cell_type": "code",
      "execution_count": 14,
      "metadata": {
        "id": "5NVHMwT7kl97"
      },
      "outputs": [],
      "source": [
        "# 파일에 쓰기\n",
        "f = open('./새파일.txt', 'w')\n",
        "for i in range(1, 11):\n",
        "    f.write(f\"{i:2>}번째 줄입니다.\\n\")  # \\n 문자에서 엔터 효과 - f를 써라\n",
        "f.close()"
      ]
    },
    {
      "cell_type": "code",
      "source": [
        "# 파일 한줄만 읽기\n",
        "f = open('./새파일.txt', 'r')\n",
        "line = f.readline()\n",
        "print(line)\n",
        "\n",
        "# 읽을것이 없을때까지 읽기 (다 읽기)\n",
        "print('------------------')\n",
        "while True:\n",
        "    line = f.readline()\n",
        "    if not line:\n",
        "        break\n",
        "    print(line.strip())     # strip() 공백제거 함수 - 보이지 않는 \\n 엔터 없앰\n",
        "f.close()"
      ],
      "metadata": {
        "colab": {
          "base_uri": "https://localhost:8080/"
        },
        "id": "M7Xz9X8nnFYD",
        "outputId": "fc9872fb-8d95-47ae-b7e0-6c202d7247f6"
      },
      "execution_count": 7,
      "outputs": [
        {
          "output_type": "stream",
          "name": "stdout",
          "text": [
            "1번째 줄입니다.\n",
            "\n",
            "------------------\n",
            "2번째 줄입니다.\n",
            "3번째 줄입니다.\n",
            "4번째 줄입니다.\n",
            "5번째 줄입니다.\n",
            "6번째 줄입니다.\n",
            "7번째 줄입니다.\n",
            "8번째 줄입니다.\n",
            "9번째 줄입니다.\n",
            "10번째 줄입니다.\n"
          ]
        }
      ]
    },
    {
      "cell_type": "code",
      "source": [
        "# 여러줄을 리스트 형태로 읽음 (유한) - 결과는 리스트 형태\n",
        "f = open('./새파일.txt', 'r')\n",
        "for line in f.readlines():\n",
        "    print(line.strip())\n",
        "f.close()"
      ],
      "metadata": {
        "colab": {
          "base_uri": "https://localhost:8080/"
        },
        "id": "iwpVepWqptvd",
        "outputId": "1c04b130-e0cf-41ca-ed50-dcac65cd46df"
      },
      "execution_count": 11,
      "outputs": [
        {
          "output_type": "stream",
          "name": "stdout",
          "text": [
            "1번째 줄입니다.\n",
            "2번째 줄입니다.\n",
            "3번째 줄입니다.\n",
            "4번째 줄입니다.\n",
            "5번째 줄입니다.\n",
            "6번째 줄입니다.\n",
            "7번째 줄입니다.\n",
            "8번째 줄입니다.\n",
            "9번째 줄입니다.\n",
            "10번째 줄입니다.\n"
          ]
        }
      ]
    },
    {
      "cell_type": "code",
      "source": [
        "# 통으로 다 읽음 - 결과는 문자열로 보냄\n",
        "f = open('./새파일.txt', 'r')\n",
        "data = f.read()\n",
        "print(data)\n",
        "f.close()"
      ],
      "metadata": {
        "colab": {
          "base_uri": "https://localhost:8080/"
        },
        "id": "4VIItQ9Np1Rs",
        "outputId": "c0338218-fa0a-4a50-8349-d5986e5253c0"
      },
      "execution_count": 13,
      "outputs": [
        {
          "output_type": "stream",
          "name": "stdout",
          "text": [
            "1번째 줄입니다.\n",
            "2번째 줄입니다.\n",
            "3번째 줄입니다.\n",
            "4번째 줄입니다.\n",
            "5번째 줄입니다.\n",
            "6번째 줄입니다.\n",
            "7번째 줄입니다.\n",
            "8번째 줄입니다.\n",
            "9번째 줄입니다.\n",
            "10번째 줄입니다.\n",
            "\n"
          ]
        }
      ]
    },
    {
      "cell_type": "markdown",
      "source": [
        "### with문\n",
        "\n",
        "with문을 벗어나면 자동으로 파일 객체를 닫는다."
      ],
      "metadata": {
        "id": "tUhvDt0procg"
      }
    },
    {
      "cell_type": "code",
      "source": [
        "with open('./새파일.txt', 'r') as f:\n",
        "    data = f.read()\n",
        "    data = data.replace('줄', '사람')   # '줄' 글씨를 '사람'으로 변경하라\n",
        "    print(data)"
      ],
      "metadata": {
        "colab": {
          "base_uri": "https://localhost:8080/"
        },
        "id": "NR4h9laHq1qA",
        "outputId": "ae7ba438-0e10-4db4-bd22-67ddc55a551f"
      },
      "execution_count": 20,
      "outputs": [
        {
          "output_type": "stream",
          "name": "stdout",
          "text": [
            "1번째 사람입니다.\n",
            "2번째 사람입니다.\n",
            "3번째 사람입니다.\n",
            "4번째 사람입니다.\n",
            "5번째 사람입니다.\n",
            "6번째 사람입니다.\n",
            "7번째 사람입니다.\n",
            "8번째 사람입니다.\n",
            "9번째 사람입니다.\n",
            "10번째 사람입니다.\n",
            "\n"
          ]
        }
      ]
    },
    {
      "cell_type": "markdown",
      "source": [
        "### OS 모듈 : 디렉토리 & 파일 관련|"
      ],
      "metadata": {
        "id": "ZYgb4OsWszPx"
      }
    },
    {
      "cell_type": "code",
      "source": [
        "import os\n",
        "\n",
        "print(f\"현재위치: {os.getcwd()}\")\n",
        "print(f\"현재위치 파일/폴더 목록: {os.listdir()}\")\n",
        "# os.chdir('../')  # chdir() 체인지 디렉토리 위치를 바꿈 - 다른 경로들이 다 바뀌기 떄문에 주의\n",
        "# print(f\"현재위치 파일/폴더 목록: {os.listdir()}\")"
      ],
      "metadata": {
        "colab": {
          "base_uri": "https://localhost:8080/"
        },
        "id": "CvN_5hz-sBQQ",
        "outputId": "a403ccf7-ba30-412b-a15f-e5cd974a9c07"
      },
      "execution_count": 30,
      "outputs": [
        {
          "output_type": "stream",
          "name": "stdout",
          "text": [
            "현재위치: /content\n",
            "현재위치 파일/폴더 목록: ['.config', '새파일.txt', 'sample_data']\n"
          ]
        }
      ]
    },
    {
      "cell_type": "code",
      "source": [
        "os.chdir('/content')    # 다시 제위치로 돌려 놓음"
      ],
      "metadata": {
        "id": "W4RDastctMUo"
      },
      "execution_count": 28,
      "outputs": []
    },
    {
      "cell_type": "markdown",
      "source": [
        "### OS 모듈 : 파일 삭제"
      ],
      "metadata": {
        "id": "NJNFuerSujwG"
      }
    },
    {
      "cell_type": "code",
      "source": [
        "import os\n",
        "\n",
        "file = '새파일.txt'\n",
        "if os.path.isfile(file):\n",
        "    os.remove(file)\n",
        "    print(f\"{file} 파일이 삭제되었습니다.\")\n",
        "else:\n",
        "    print(f\"{file} 파일이 존재하지 않습니다.\")"
      ],
      "metadata": {
        "colab": {
          "base_uri": "https://localhost:8080/"
        },
        "id": "u0WJJgJSuTwM",
        "outputId": "1127e769-ecd0-412f-d397-b43b7a280f3e"
      },
      "execution_count": 32,
      "outputs": [
        {
          "output_type": "stream",
          "name": "stdout",
          "text": [
            "새파일.txt 파일이 존재하지 않습니다.\n"
          ]
        }
      ]
    },
    {
      "cell_type": "markdown",
      "source": [
        "### [실습문제] txt 파일을 만들고 정수 출력하기"
      ],
      "metadata": {
        "id": "r7jaFXjFv8qW"
      }
    },
    {
      "cell_type": "code",
      "source": [
        "import random\n",
        "\n",
        "# 1~100 사이의 임의의 정수 10개 리스트\n",
        "numbers = random.sample(range(1, 101), 10)\n",
        "print(numbers)\n",
        "\n",
        "# sample.txt 파일 생성 및 쓰기\n",
        "with open('sample.txt', 'w') as f:\n",
        "  for num in numbers:\n",
        "    f.write(f'{num}\\n')\n",
        "\n",
        "print(f\"sample.txt 파일 생성 완료! 10개의 임의 정수가 저장되었습니다.\")"
      ],
      "metadata": {
        "colab": {
          "base_uri": "https://localhost:8080/"
        },
        "id": "0jLPlDNqvA3g",
        "outputId": "c679a3a9-055a-4e0d-8f36-8e6c85958d37"
      },
      "execution_count": 34,
      "outputs": [
        {
          "output_type": "stream",
          "name": "stdout",
          "text": [
            "[98, 94, 30, 68, 9, 91, 63, 74, 38, 65]\n",
            "sample.txt 파일 생성 완료! 10개의 임의 정수가 저장되었습니다.\n"
          ]
        }
      ]
    },
    {
      "cell_type": "code",
      "source": [
        "import random\n",
        "\n",
        "# 파일에 쓰기\n",
        "f = open('./sample.txt', 'w')\n",
        "for _ in range(10):\n",
        "    n = str(random.randint(1, 100))\n",
        "    f.write(n + '\\n')   # 문자열 사용 가능\n",
        "f.close()\n",
        "\n",
        "# 파일에 있는 내용 읽기\n",
        "f = open('./sample.txt', 'r')\n",
        "data = f.read()\n",
        "print(data)\n",
        "f.close()"
      ],
      "metadata": {
        "colab": {
          "base_uri": "https://localhost:8080/"
        },
        "id": "3bgJZUqPwfnv",
        "outputId": "e99a2ec3-291e-48c3-ffa7-5d59ba357b5a"
      },
      "execution_count": 40,
      "outputs": [
        {
          "output_type": "stream",
          "name": "stdout",
          "text": [
            "16\n",
            "52\n",
            "28\n",
            "38\n",
            "67\n",
            "61\n",
            "65\n",
            "56\n",
            "18\n",
            "53\n",
            "\n"
          ]
        }
      ]
    },
    {
      "cell_type": "markdown",
      "source": [
        "### [실습문제] 파일 읽어서 총합&평균 출력하기"
      ],
      "metadata": {
        "id": "H3IUgVIUzJFX"
      }
    },
    {
      "cell_type": "code",
      "source": [
        "with open('./sample.txt', 'r') as f:\n",
        "    data = [ int(line) for line in f.readlines() ]\n",
        "    hap = sum(data)\n",
        "    avg = hap / len(data)\n",
        "    content = f\"{data}\\n총합은 {hap} 입니다.\\n평균은 {avg} 입니다.\"\n",
        "    print(content)\n",
        "\n",
        "with open('./result.txt', 'w') as f:\n",
        "    f.write(content)"
      ],
      "metadata": {
        "colab": {
          "base_uri": "https://localhost:8080/"
        },
        "id": "JlKUYYqSw7bf",
        "outputId": "67a91e5b-7e2e-4a0f-ec96-2f3c15f822be"
      },
      "execution_count": 53,
      "outputs": [
        {
          "output_type": "stream",
          "name": "stdout",
          "text": [
            "[16, 52, 28, 38, 67, 61, 65, 56, 18, 53]\n",
            "총합은 454 입니다.\n",
            "평균은 45.4 입니다.\n"
          ]
        }
      ]
    },
    {
      "cell_type": "code",
      "source": [],
      "metadata": {
        "id": "000WjLZizWte"
      },
      "execution_count": null,
      "outputs": []
    }
  ]
}