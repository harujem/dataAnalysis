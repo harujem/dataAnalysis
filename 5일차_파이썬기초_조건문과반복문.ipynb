{
  "nbformat": 4,
  "nbformat_minor": 0,
  "metadata": {
    "colab": {
      "provenance": [],
      "toc_visible": true,
      "authorship_tag": "ABX9TyNBSOLfCpW2ntEnYka3qnbM",
      "include_colab_link": true
    },
    "kernelspec": {
      "name": "python3",
      "display_name": "Python 3"
    },
    "language_info": {
      "name": "python"
    }
  },
  "cells": [
    {
      "cell_type": "markdown",
      "metadata": {
        "id": "view-in-github",
        "colab_type": "text"
      },
      "source": [
        "<a href=\"https://colab.research.google.com/github/harujem/dataAnalysis/blob/main/5%EC%9D%BC%EC%B0%A8_%ED%8C%8C%EC%9D%B4%EC%8D%AC%EA%B8%B0%EC%B4%88_%EC%A1%B0%EA%B1%B4%EB%AC%B8%EA%B3%BC%EB%B0%98%EB%B3%B5%EB%AC%B8.ipynb\" target=\"_parent\"><img src=\"https://colab.research.google.com/assets/colab-badge.svg\" alt=\"Open In Colab\"/></a>"
      ]
    },
    {
      "cell_type": "markdown",
      "source": [
        "# 4.조건문과 반복문"
      ],
      "metadata": {
        "id": "c3tySe-Ffg2w"
      }
    },
    {
      "cell_type": "markdown",
      "source": [
        "---\n",
        "## **★ 반복문**\n",
        "---"
      ],
      "metadata": {
        "id": "UXUVeLw-fiXI"
      }
    },
    {
      "cell_type": "markdown",
      "source": [
        "## 1- for 반복문"
      ],
      "metadata": {
        "id": "_jY7dPXOfrdY"
      }
    },
    {
      "cell_type": "code",
      "execution_count": 5,
      "metadata": {
        "colab": {
          "base_uri": "https://localhost:8080/"
        },
        "id": "Gi313e7EfS9h",
        "outputId": "cd2bc3d1-cddd-4710-9491-f534320d8fa2"
      },
      "outputs": [
        {
          "output_type": "stream",
          "name": "stdout",
          "text": [
            "안녕하세요 for문 반복중입니다.\n",
            "안녕하세요 for문 반복중입니다.\n",
            "안녕하세요 for문 반복중입니다.\n",
            "for문 반복중\n",
            "for문 반복중\n",
            "for문 반복중\n"
          ]
        }
      ],
      "source": [
        "for i in range(0,3,1):     # 0부터 3미만까지 1씩 증가 = 3번 반복\n",
        "    print(\"안녕하세요 for문 반복중입니다.\")\n",
        "for i in range(3):         # 3번 반복\n",
        "    print(\"for문 반복중\")"
      ]
    },
    {
      "cell_type": "code",
      "source": [],
      "metadata": {
        "id": "gGKlhuq_msQh"
      },
      "execution_count": null,
      "outputs": []
    }
  ]
}