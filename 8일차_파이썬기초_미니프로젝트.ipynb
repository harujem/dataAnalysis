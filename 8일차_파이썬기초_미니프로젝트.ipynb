{
  "nbformat": 4,
  "nbformat_minor": 0,
  "metadata": {
    "colab": {
      "provenance": [],
      "toc_visible": true,
      "authorship_tag": "ABX9TyM2VmpRyVsvA4FTMKWREmJ9",
      "include_colab_link": true
    },
    "kernelspec": {
      "name": "python3",
      "display_name": "Python 3"
    },
    "language_info": {
      "name": "python"
    }
  },
  "cells": [
    {
      "cell_type": "markdown",
      "metadata": {
        "id": "view-in-github",
        "colab_type": "text"
      },
      "source": [
        "<a href=\"https://colab.research.google.com/github/harujem/dataAnalysis/blob/main/8%EC%9D%BC%EC%B0%A8_%ED%8C%8C%EC%9D%B4%EC%8D%AC%EA%B8%B0%EC%B4%88_%EB%AF%B8%EB%8B%88%ED%94%84%EB%A1%9C%EC%A0%9D%ED%8A%B8.ipynb\" target=\"_parent\"><img src=\"https://colab.research.google.com/assets/colab-badge.svg\" alt=\"Open In Colab\"/></a>"
      ]
    },
    {
      "cell_type": "markdown",
      "source": [
        "# 미니 프로젝트"
      ],
      "metadata": {
        "id": "lEUgPpSejxNV"
      }
    },
    {
      "cell_type": "markdown",
      "source": [
        "## 영어 단어장 프로그램 만들기\n",
        "\n",
        "① 프로그램이 실행되면 5가지 영어 단어장 ---선택메뉴--- 가 출력된다.\n",
        "\n",
        "② 키보드로 0,1,2,3,4 중 번호 하나를 입력하면 해당하는 기능이 작동된다.\n",
        "\n",
        "③ 메뉴 번호 중 0이 입력될 때까지 무한반복된다. 0이 입력되면 프로그램이 종료된다.\n",
        "\n",
        "④ 단어를 저장하기 위해서는 리스트 또는 딕셔너리로 사용합니다.\n",
        "\n",
        "⑤ 각 메뉴의 기능은 조건문을 이용하여 작성하며 각 기능을 함수로 정의하고 호출해도 좋다.\n",
        "\n",
        "(꼭 함수를 사용하지 않아도 됩니다.)\n",
        "\n",
        "⑥ 프로그램 작동 원리는 뒷부분 작동 결과를 참고하기"
      ],
      "metadata": {
        "id": "MqWsnynvkBP9"
      }
    },
    {
      "cell_type": "markdown",
      "source": [
        "1. 단어 등록 (함수명: w_add( ) )\n",
        "새 영어 단어와 그의 뜻을 입력 받고 dictionary 에 추가합니다\n",
        "2. 단어 검색 (함수명: w_search( ) )\n",
        "영어 단어를 입력 받아 그의 뜻을 출력합니다.\n",
        "미등록된 단어인 경우 ＇미등록 단어＇를 출력합니다.\n",
        "3. 단어 삭제 (함수명: w_delete( ) )\n",
        "영어 단어를 입력 받아 단어장에서 해당 단어를 삭제한다.\n",
        "미등록된 단어인 경우 '미등록 단어'를 출력합니다.\n",
        "4. 모든 단어 보기 (함수명: w_show( ) )\n",
        "딕셔너리에 있는 모든 단어 보여주기\n",
        "영어 단어장 기능\n",
        "0. 종료하기 (함수명: quit())\n",
        "프로그램 종료하기"
      ],
      "metadata": {
        "id": "yqWoHFIDlz-c"
      }
    },
    {
      "cell_type": "code",
      "execution_count": null,
      "metadata": {
        "id": "ZgibeWhmjqp2"
      },
      "outputs": [],
      "source": [
        "menu = '''\n",
        "---선택메뉴---\n",
        "1. 단어 등록\n",
        "2. 단어 검색\n",
        "3. 단어 삭제\n",
        "4. 모든 단어 보기\n",
        "0. 종료하기\n",
        "'''\n",
        "\n",
        "# 단어 리스트[,,,]와 딕셔너리{\"키\":\"벨류\",\"키\":\"벨류\"}\n",
        "vocabulary = {\n",
        "    \"apple\": \"사과\",\n",
        "    \"banana\": \"바나나\",\n",
        "    \"cat\": \"고양이\",\n",
        "    \"dog\": \"개\",\n",
        "    \"book\": \"책\",\n",
        "}\n",
        "\n",
        "# 총 단어수 함수\n",
        "def display_word_count():\n",
        "    total_words = len(vocabulary)\n",
        "    print(f\"총 단어 수: {total_words}\")\n",
        "\n",
        "# 단어등록 함수\n",
        "def w_add():\n",
        "    enWord = input(\"추가할 영어단어 입력: \")\n",
        "    koWord = input(\"추가할 한국어단어 입력: \")\n",
        "    new_word = {enWord: koWord}\n",
        "    vocabulary.update(new_word)\n",
        "    print('단어가 추가되었습니다.')\n",
        "\n",
        "# 단어검색 함수\n",
        "def w_search():\n",
        "    searchWord = input(\"검색할 단어를 입력: \")\n",
        "    found = False # 검색결과 여부를 확인하는 변수\n",
        "    for enWord, koWord in vocabulary.items():\n",
        "        if searchWord in enWord or searchWord in koWord:\n",
        "            print(f\"영어: {enWord}, 한국어: {koWord}\")\n",
        "            found = True\n",
        "    if not found:\n",
        "        print(f\"{searchWord}: 단어장에 없습니다.\")\n",
        "\n",
        "# 단어삭제 함수\n",
        "def w_delete():\n",
        "    deleteWord = input(\"삭제할 단어를 입력: \")\n",
        "    for enWord, koWord in vocabulary.items():\n",
        "        if deleteWord == enWord or deleteWord == koWord:\n",
        "            del vocabulary[enWord]\n",
        "            print(f\"영어: {enWord}, 한국어: {koWord}가 삭제되었습니다.\")\n",
        "            return\n",
        "\n",
        "# 프로그램 돌리기\n",
        "while True:\n",
        "    print(f\"{menu}\")\n",
        "    print('-' * 30)\n",
        "    select = input(f\"▶ 메뉴를 선택하세요.(0~4): \")\n",
        "    if select == \"0\":\n",
        "        break\n",
        "    elif select == \"1\":\n",
        "        w_add()\n",
        "    elif select == \"2\":\n",
        "        w_search()\n",
        "    elif select == \"3\":\n",
        "        w_delete()\n",
        "    elif select == \"4\":\n",
        "        display_word_count()\n",
        "        print(f\"{vocabulary}\")\n",
        "\n",
        "print('프로그램을 종료합니다.')"
      ]
    }
  ]
}