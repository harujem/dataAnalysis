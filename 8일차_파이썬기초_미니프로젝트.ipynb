{
  "nbformat": 4,
  "nbformat_minor": 0,
  "metadata": {
    "colab": {
      "provenance": [],
      "toc_visible": true,
      "authorship_tag": "ABX9TyMSpBVXCc+b+68BLg1yuFHP",
      "include_colab_link": true
    },
    "kernelspec": {
      "name": "python3",
      "display_name": "Python 3"
    },
    "language_info": {
      "name": "python"
    }
  },
  "cells": [
    {
      "cell_type": "markdown",
      "metadata": {
        "id": "view-in-github",
        "colab_type": "text"
      },
      "source": [
        "<a href=\"https://colab.research.google.com/github/harujem/dataAnalysis/blob/main/8%EC%9D%BC%EC%B0%A8_%ED%8C%8C%EC%9D%B4%EC%8D%AC%EA%B8%B0%EC%B4%88_%EB%AF%B8%EB%8B%88%ED%94%84%EB%A1%9C%EC%A0%9D%ED%8A%B8.ipynb\" target=\"_parent\"><img src=\"https://colab.research.google.com/assets/colab-badge.svg\" alt=\"Open In Colab\"/></a>"
      ]
    },
    {
      "cell_type": "markdown",
      "source": [
        "# 미니 프로젝트"
      ],
      "metadata": {
        "id": "lEUgPpSejxNV"
      }
    },
    {
      "cell_type": "markdown",
      "source": [
        "## 영어 단어장 프로그램 만들기\n",
        "\n",
        "① 프로그램이 실행되면 5가지 영어 단어장 ---선택메뉴--- 가 출력된다.\n",
        "\n",
        "② 키보드로 0,1,2,3,4 중 번호 하나를 입력하면 해당하는 기능이 작동된다.\n",
        "\n",
        "③ 메뉴 번호 중 0이 입력될 때까지 무한반복된다. 0이 입력되면 프로그램이 종료된다.\n",
        "\n",
        "④ 단어를 저장하기 위해서는 리스트 또는 딕셔너리로 사용합니다.\n",
        "\n",
        "⑤ 각 메뉴의 기능은 조건문을 이용하여 작성하며 각 기능을 함수로 정의하고 호출해도 좋다.\n",
        "\n",
        "(꼭 함수를 사용하지 않아도 됩니다.)\n",
        "\n",
        "⑥ 프로그램 작동 원리는 뒷부분 작동 결과를 참고하기"
      ],
      "metadata": {
        "id": "MqWsnynvkBP9"
      }
    },
    {
      "cell_type": "markdown",
      "source": [
        "1. 단어 등록 (함수명: w_add( ) )\n",
        "새 영어 단어와 그의 뜻을 입력 받고 dictionary 에 추가합니다\n",
        "2. 단어 검색 (함수명: w_search( ) )\n",
        "영어 단어를 입력 받아 그의 뜻을 출력합니다.\n",
        "미등록된 단어인 경우 ＇미등록 단어＇를 출력합니다.\n",
        "3. 단어 삭제 (함수명: w_delete( ) )\n",
        "영어 단어를 입력 받아 단어장에서 해당 단어를 삭제한다.\n",
        "미등록된 단어인 경우 '미등록 단어'를 출력합니다.\n",
        "4. 모든 단어 보기 (함수명: w_show( ) )\n",
        "딕셔너리에 있는 모든 단어 보여주기\n",
        "영어 단어장 기능\n",
        "0. 종료하기 (함수명: quit())\n",
        "프로그램 종료하기"
      ],
      "metadata": {
        "id": "yqWoHFIDlz-c"
      }
    },
    {
      "cell_type": "code",
      "execution_count": 21,
      "metadata": {
        "id": "ZgibeWhmjqp2",
        "colab": {
          "base_uri": "https://localhost:8080/"
        },
        "outputId": "51f4e29d-f216-4cf9-8635-7c15a67884a8"
      },
      "outputs": [
        {
          "output_type": "stream",
          "name": "stdout",
          "text": [
            "\n",
            "---선택메뉴---\n",
            "1. 단어 등록\n",
            "2. 단어 검색\n",
            "3. 단어 삭제\n",
            "4. 모든 단어 보기\n",
            "0. 종료하기\n",
            "\n",
            "▶ 메뉴번호 입력: 0\n",
            "------------------------------\n",
            "프로그램을 종료합니다.\n"
          ]
        }
      ],
      "source": [
        "menu = '''\n",
        "---선택메뉴---\n",
        "1. 단어 등록\n",
        "2. 단어 검색\n",
        "3. 단어 삭제\n",
        "4. 모든 단어 보기\n",
        "0. 종료하기\n",
        "'''\n",
        "# 단어 리스트[,,,]와 딕셔너리{\"키\":\"벨류\",\"키\":\"벨류\"}\n",
        "vocabulary = {\n",
        "    \"1\": [\"apple\", \"사과\"],\n",
        "    \"2\": [\"banana\", \"바나나\"],\n",
        "    \"3\": [\"cat\", \"고양이\"],\n",
        "    \"4\": [\"dog\", \"개\"],\n",
        "    \"5\": [\"book\", \"책\"],\n",
        "}\n",
        "\n",
        "# 단어 등록 함수\n",
        "def w_add():\n",
        "    enWord = input(\"추가할 영어단어 입력: \")\n",
        "    enWord = input(\"추가할 영어단어 입력: \")\n",
        "\n",
        "\n",
        "    def 단어추가():\n",
        "    영어단어 = input(\"추가할 영어 단어를 입력하세요: \")\n",
        "    한국어단어 = input(\"추가할 한국어 단어를 입력하세요: \")\n",
        "    단어장[str(len(단어장) + 1)] = [영어단어, 한국어단어]\n",
        "    print(\"단어가 추가되었습니다.\")\n",
        "\n",
        "while True:\n",
        "    print(f'{menu}')\n",
        "    select = input((f\"▶ 메뉴번호 입력: \"))\n",
        "    if select == '0':\n",
        "        break\n",
        "\n",
        "\n",
        "\n",
        "\n",
        "\n",
        "\n",
        "\n",
        "\n",
        "\n",
        "\n",
        "\n",
        "\n",
        "    elif select == '4':\n",
        "        print(f\"{vocabulary}\")\n",
        "\n",
        "print('-' * 30)\n",
        "print('프로그램을 종료합니다.')"
      ]
    },
    {
      "cell_type": "markdown",
      "source": [],
      "metadata": {
        "id": "36aSTwytW36x"
      }
    },
    {
      "cell_type": "markdown",
      "source": [],
      "metadata": {
        "id": "4DbOpxU8W3zR"
      }
    },
    {
      "cell_type": "markdown",
      "source": [],
      "metadata": {
        "id": "cc5geW09W3jh"
      }
    },
    {
      "cell_type": "markdown",
      "source": [],
      "metadata": {
        "id": "ZkqcpigYW3Zx"
      }
    },
    {
      "cell_type": "markdown",
      "source": [],
      "metadata": {
        "id": "2TxtSkUMW3Qq"
      }
    },
    {
      "cell_type": "code",
      "source": [
        "# 단어 리스트 및 딕셔너리\n",
        "단어장 = {\n",
        "    \"1\": [\"apple\", \"사과\"],\n",
        "    \"2\": [\"banana\", \"바나나\"],\n",
        "    \"3\": [\"cat\", \"고양이\"],\n",
        "    \"4\": [\"dog\", \"개\"],\n",
        "    \"5\": [\"book\", \"책\"],\n",
        "}\n",
        "\n",
        "# 메뉴 출력 함수\n",
        "def 메뉴출력():\n",
        "    print(\"---- 영어 단어장 프로그램 ----\")\n",
        "    print(\"1. 단어 추가\")\n",
        "    print(\"2. 단어 삭제\")\n",
        "    print(\"3. 단어 검색\")\n",
        "    print(\"4. 단어 목록 출력\")\n",
        "    print(\"5. 퀴즈\")\n",
        "    print(\"0. 프로그램 종료\")\n",
        "\n",
        "# 메뉴 선택 함수\n",
        "def 메뉴선택():\n",
        "    while True:\n",
        "        선택 = input(\"메뉴 번호를 입력하세요 (0~5): \")\n",
        "        if 선택.isdigit() and 0 <= int(선택) <= 5:\n",
        "            return int(선택)\n",
        "        else:\n",
        "            print(\"잘못된 입력입니다. 다시 입력하세요.\")\n",
        "\n",
        "# 단어 추가 함수\n",
        "def 단어추가():\n",
        "    영어단어 = input(\"추가할 영어 단어를 입력하세요: \")\n",
        "    한국어단어 = input(\"추가할 한국어 단어를 입력하세요: \")\n",
        "    단어장[str(len(단어장) + 1)] = [영어단어, 한국어단어]\n",
        "    print(\"단어가 추가되었습니다.\")\n",
        "\n",
        "# 단어 삭제 함수\n",
        "def 단어삭제():\n",
        "    삭제번호 = input(\"삭제할 단어 번호를 입력하세요: \")\n",
        "    if 삭제번호 in 단어장:\n",
        "        del 단어장[삭제번호]\n",
        "        print(\"단어가 삭제되었습니다.\")\n",
        "    else:\n",
        "        print(\"존재하지 않는 단어 번호입니다.\")\n",
        "\n",
        "# 단어 검색 함수\n",
        "def 단어검색():\n",
        "    검색단어 = input(\"검색할 단어를 입력하세요: \")\n",
        "    for 번호, 단어 in 단어장.items():\n",
        "        if 검색단어 in 단어:\n",
        "            print(f\"{번호}번: {단어[0]} ({단어[1]})\")\n",
        "    if 검색단어 not in 단어장.values():\n",
        "        print(\"검색 결과가 없습니다.\")\n",
        "\n",
        "# 단어 목록 출력 함수\n",
        "def 단어목록출력():\n",
        "    for 번호, 단어 in 단어장.items():\n",
        "        print(f\"{번호}번: {단어[0]} ({단어[1]})\")\n",
        "\n",
        "# 퀴즈 함수\n",
        "def 퀴즈():\n",
        "    while True:\n",
        "        번호 = random.randint(1, len(단어장))\n",
        "        영어단어 = 단어장[str(번호)][0]\n",
        "        한국어단어 = input(f\"{영어단어}의 한국어 의미는 무엇일까요? \")\n",
        "        if 한국어단어 == 단어장[str(번호)][1]:\n",
        "            print(\"정답입니다!\")\n",
        "        else:\n",
        "            print(f\"틀렸습니다. 정답은 {단어장[str(번호)][1]}입니다.\")\n",
        "        계속할지 = input(\"계속 퀴즈를 할까요? (y/n): \")\n",
        "        if 계속할지 != \"y\":\n",
        "            break\n",
        "\n",
        "# 프로그램 시작\n",
        "while True:\n",
        "    메뉴출력()\n",
        "    선택 = 메뉴선택()\n",
        "    if 선택 == 0:\n",
        "        break\n",
        "    elif 선택 == 1:\n",
        "        단어추가()\n",
        "    elif 선택 == 2:\n",
        "        단어삭제()\n",
        "    elif 선택 == 3:\n",
        "        단어검색()\n",
        "    elif 선택 == 4:\n",
        "        단어목록출력()\n",
        "    elif 선택 == 5:\n",
        "        퀴즈()\n",
        "\n",
        "print(\"프로그램 종료\")"
      ],
      "metadata": {
        "id": "Prz_sMuwNa4V"
      },
      "execution_count": null,
      "outputs": []
    }
  ]
}