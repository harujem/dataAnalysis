{
  "nbformat": 4,
  "nbformat_minor": 0,
  "metadata": {
    "colab": {
      "provenance": [],
      "toc_visible": true,
      "authorship_tag": "ABX9TyN84yaZ+hj7sKA82LtrOvg3",
      "include_colab_link": true
    },
    "kernelspec": {
      "name": "python3",
      "display_name": "Python 3"
    },
    "language_info": {
      "name": "python"
    }
  },
  "cells": [
    {
      "cell_type": "markdown",
      "metadata": {
        "id": "view-in-github",
        "colab_type": "text"
      },
      "source": [
        "<a href=\"https://colab.research.google.com/github/harujem/dataAnalysis/blob/main/1%EC%9D%BC%EC%B0%A8_%ED%8C%8C%EC%9D%B4%EC%8D%AC%EA%B8%B0%EC%B4%88_%EC%9E%90%EB%A3%8C%ED%98%95%EA%B3%BC%EC%97%B0%EC%82%B0.ipynb\" target=\"_parent\"><img src=\"https://colab.research.google.com/assets/colab-badge.svg\" alt=\"Open In Colab\"/></a>"
      ]
    },
    {
      "cell_type": "markdown",
      "source": [
        "# 1.파이썬 자료형과 연산자"
      ],
      "metadata": {
        "id": "LBYSEYFDbCoV"
      }
    },
    {
      "cell_type": "markdown",
      "source": [
        "## 1.파이썬 자료형 (오류)"
      ],
      "metadata": {
        "id": "FdmcmsELp7-o"
      }
    },
    {
      "cell_type": "code",
      "execution_count": null,
      "metadata": {
        "colab": {
          "base_uri": "https://localhost:8080/",
          "height": 184
        },
        "id": "jWo8b2iBp0B0",
        "outputId": "525fbe76-3ac7-433d-b09a-9a9dc27f55e2"
      },
      "outputs": [
        {
          "output_type": "error",
          "ename": "TypeError",
          "evalue": "unsupported operand type(s) for +: 'int' and 'str'",
          "traceback": [
            "\u001b[0;31m---------------------------------------------------------------------------\u001b[0m",
            "\u001b[0;31mTypeError\u001b[0m                                 Traceback (most recent call last)",
            "\u001b[0;32m<ipython-input-1-deee0b843977>\u001b[0m in \u001b[0;36m<cell line: 3>\u001b[0;34m()\u001b[0m\n\u001b[1;32m      1\u001b[0m \u001b[0ma\u001b[0m \u001b[0;34m=\u001b[0m \u001b[0;36m10\u001b[0m          \u001b[0;31m# number\u001b[0m\u001b[0;34m\u001b[0m\u001b[0;34m\u001b[0m\u001b[0m\n\u001b[1;32m      2\u001b[0m \u001b[0mb\u001b[0m \u001b[0;34m=\u001b[0m \u001b[0;34m'파이썬'\u001b[0m    \u001b[0;31m# string\u001b[0m\u001b[0;34m\u001b[0m\u001b[0;34m\u001b[0m\u001b[0m\n\u001b[0;32m----> 3\u001b[0;31m \u001b[0mprint\u001b[0m\u001b[0;34m(\u001b[0m \u001b[0ma\u001b[0m \u001b[0;34m+\u001b[0m \u001b[0mb\u001b[0m \u001b[0;34m)\u001b[0m\u001b[0;34m\u001b[0m\u001b[0;34m\u001b[0m\u001b[0m\n\u001b[0m",
            "\u001b[0;31mTypeError\u001b[0m: unsupported operand type(s) for +: 'int' and 'str'"
          ]
        }
      ],
      "source": [
        "a = 10          # number\n",
        "b = '파이썬'    # string\n",
        "print( a + b )"
      ]
    },
    {
      "cell_type": "code",
      "source": [
        "a = 10          # number\n",
        "b = '파이썬'    # string\n",
        "print( a , b )"
      ],
      "metadata": {
        "colab": {
          "base_uri": "https://localhost:8080/"
        },
        "id": "mq1kDH_YxVBu",
        "outputId": "810941a4-3d80-4ea9-e5a3-5af86824fa91"
      },
      "execution_count": null,
      "outputs": [
        {
          "output_type": "stream",
          "name": "stdout",
          "text": [
            "10 파이썬\n"
          ]
        }
      ]
    },
    {
      "cell_type": "markdown",
      "source": [
        "1. 파이썬 버전 출력"
      ],
      "metadata": {
        "id": "9QYaYdiPzOVu"
      }
    },
    {
      "cell_type": "code",
      "source": [
        "!python -V"
      ],
      "metadata": {
        "colab": {
          "base_uri": "https://localhost:8080/"
        },
        "id": "JUBPDGGmzRve",
        "outputId": "47e41539-aebe-43d0-a4af-fcacfe4b6b97"
      },
      "execution_count": null,
      "outputs": [
        {
          "output_type": "stream",
          "name": "stdout",
          "text": [
            "Python 3.10.12\n"
          ]
        }
      ]
    },
    {
      "cell_type": "code",
      "source": [
        "import sys\n",
        "sys.version       # 코랩에서 사용중인 파이썬 버전"
      ],
      "metadata": {
        "colab": {
          "base_uri": "https://localhost:8080/",
          "height": 35
        },
        "id": "4Wq_qye_zVeZ",
        "outputId": "82b7abae-6556-48c9-8de3-394f0b54afa0"
      },
      "execution_count": null,
      "outputs": [
        {
          "output_type": "execute_result",
          "data": {
            "text/plain": [
              "'3.10.12 (main, Nov 20 2023, 15:14:05) [GCC 11.4.0]'"
            ],
            "application/vnd.google.colaboratory.intrinsic+json": {
              "type": "string"
            }
          },
          "metadata": {},
          "execution_count": 17
        }
      ]
    },
    {
      "cell_type": "code",
      "source": [
        "import sys\n",
        "print('---',sys.version)\n",
        "sys.version       # 무조건 마지막에 있는 함수는 print를 안써도 보여줌"
      ],
      "metadata": {
        "colab": {
          "base_uri": "https://localhost:8080/",
          "height": 54
        },
        "id": "wmruK5_hzmQR",
        "outputId": "4b8a2e4e-612d-4cf3-fbd8-40e3354a18d7"
      },
      "execution_count": null,
      "outputs": [
        {
          "output_type": "stream",
          "name": "stdout",
          "text": [
            "--- 3.10.12 (main, Nov 20 2023, 15:14:05) [GCC 11.4.0]\n"
          ]
        },
        {
          "output_type": "execute_result",
          "data": {
            "text/plain": [
              "'3.10.12 (main, Nov 20 2023, 15:14:05) [GCC 11.4.0]'"
            ],
            "application/vnd.google.colaboratory.intrinsic+json": {
              "type": "string"
            }
          },
          "metadata": {},
          "execution_count": 8
        }
      ]
    },
    {
      "cell_type": "code",
      "source": [
        "# 2. 파이썬 설치 위치\n",
        "# import sys      # 위에서 한번 실행이 되었으면 임폴트 시스를 다시 입력 안해도 실행이 됨\n",
        "print(sys.executable)     # 리눅스 계열 content/sample_data (컨텐트 or 홈)"
      ],
      "metadata": {
        "colab": {
          "base_uri": "https://localhost:8080/"
        },
        "id": "Rf2dahGHz7FB",
        "outputId": "5bb4962a-8fe4-4bc1-9ad4-dc08280f6c2f"
      },
      "execution_count": null,
      "outputs": [
        {
          "output_type": "stream",
          "name": "stdout",
          "text": [
            "/usr/bin/python3\n"
          ]
        }
      ]
    },
    {
      "cell_type": "code",
      "source": [
        "# 3. 물리적 폴더 위치\n",
        "import os\n",
        "os.getcwd()"
      ],
      "metadata": {
        "colab": {
          "base_uri": "https://localhost:8080/",
          "height": 35
        },
        "id": "Obu3mLLt0rvB",
        "outputId": "1c164c96-7905-4a77-9f1a-4e351660e513"
      },
      "execution_count": null,
      "outputs": [
        {
          "output_type": "execute_result",
          "data": {
            "text/plain": [
              "'/content'"
            ],
            "application/vnd.google.colaboratory.intrinsic+json": {
              "type": "string"
            }
          },
          "metadata": {},
          "execution_count": 16
        }
      ]
    },
    {
      "cell_type": "markdown",
      "source": [
        "### [실습문제] 파이썬으로 표현사기 (산술 연산)"
      ],
      "metadata": {
        "id": "KGY11wDu3Fg4"
      }
    },
    {
      "cell_type": "code",
      "source": [
        "# 문제1: 10 + 3 x 4 결과 출력\n",
        "print(10 + 3 * 4)\n",
        "\n",
        "# 문제2: 아이폰 15대를 가지고 있다. 아이폰의 가격이 130만원 일 때 총 금액은?\n",
        "print (130000 * 15)\n",
        "\n",
        "iphone = 15\n",
        "price = 130000\n",
        "print(iphone*price)\n",
        "\n",
        "# 문제3: 주어진 임의의 자연수가 홀수인지 짝수인지 판별하는 방법은?\n",
        "a =  10\n",
        "b = 9\n",
        "print( a % 2 - 1)\n",
        "print('결과가 -1 이면 짝수')\n",
        "print( b % 2 - 1)\n",
        "print('결과가 0 이면 홀수')\n",
        "\n",
        "# print('짝수') if x % 2 == 0 else print('홀수')\n",
        "x = 10\n",
        "if x % 2 == 0:\n",
        "    print('짝수')\n",
        "else:\n",
        "    print('홀수')\n",
        "\n",
        "# 문제4: 2x2x2x5x5x5x5x3x3x3x3을 제곱형태로 나타낸 후 그 결과 출력하기\n",
        "print(2*2*2*5*5*5*5*3*3*3*3)\n",
        "print(2**3*5**4*3**4)\n"
      ],
      "metadata": {
        "colab": {
          "base_uri": "https://localhost:8080/"
        },
        "id": "E1Y_aKSq2KLn",
        "outputId": "6860d1da-a348-49d8-9ba6-ee7c15bb9000"
      },
      "execution_count": null,
      "outputs": [
        {
          "output_type": "stream",
          "name": "stdout",
          "text": [
            "22\n",
            "1950000\n",
            "1950000\n",
            "-1\n",
            "결과가 -1 이면 짝수\n",
            "0\n",
            "결과가 0 이면 홀수\n",
            "짝수\n",
            "405000\n",
            "405000\n"
          ]
        }
      ]
    },
    {
      "cell_type": "markdown",
      "source": [
        "### 파이썬 자료형(Data Type) 함수 확인:type()"
      ],
      "metadata": {
        "id": "tAe3XXj591JO"
      }
    },
    {
      "cell_type": "code",
      "source": [
        "print( type(123) )\n",
        "print( type(3.14) )\n",
        "print( type(\"123\") )\n",
        "print( type([123]) )\n",
        "print( type((123,)) )\n",
        "print( type({'123':123}) )\n",
        "print( type({123}) )\n",
        "print( type(True) )"
      ],
      "metadata": {
        "colab": {
          "base_uri": "https://localhost:8080/"
        },
        "id": "PtiNrEOT5Evv",
        "outputId": "bbb40e86-dd5a-46d3-cc15-c76af37bc284"
      },
      "execution_count": null,
      "outputs": [
        {
          "output_type": "stream",
          "name": "stdout",
          "text": [
            "<class 'int'>\n",
            "<class 'float'>\n",
            "<class 'str'>\n",
            "<class 'list'>\n",
            "<class 'tuple'>\n",
            "<class 'dict'>\n",
            "<class 'set'>\n",
            "<class 'bool'>\n"
          ]
        }
      ]
    },
    {
      "cell_type": "markdown",
      "source": [
        "\n",
        "\n",
        "---\n",
        "\n",
        "## 2.표준 입출력"
      ],
      "metadata": {
        "id": "lbBhjhUqCjnx"
      }
    },
    {
      "cell_type": "markdown",
      "source": [
        "### 문자열 데이터를 숫자로 변환하기"
      ],
      "metadata": {
        "id": "WypWKNCtDGDV"
      }
    },
    {
      "cell_type": "code",
      "source": [
        "# a = input('숫자를 입력하세요: ')\n",
        "# print( type(a) )\n",
        "# a = int(a)      # 정수로 변환하는 함수 int()\n",
        "# print( type(a) )"
      ],
      "metadata": {
        "id": "7vmeXE0qDNB_"
      },
      "execution_count": null,
      "outputs": []
    },
    {
      "cell_type": "code",
      "source": [
        "# a = input('숫자를 입력하세요: ')\n",
        "# a = int(a)\n",
        "\n",
        "a = int(input('숫자를 입력하세요: '))"
      ],
      "metadata": {
        "colab": {
          "base_uri": "https://localhost:8080/"
        },
        "id": "cLiOMq87EChc",
        "outputId": "7b968919-5eb4-4515-89cb-5ff289e1739d"
      },
      "execution_count": null,
      "outputs": [
        {
          "name": "stdout",
          "output_type": "stream",
          "text": [
            "숫자를 입력하세요: 7\n"
          ]
        }
      ]
    },
    {
      "cell_type": "code",
      "source": [
        "# 문자열 포맷팅\n",
        "a = input('키보드로 입력해주세요. ')\n",
        "print('변수 a의 값은', a, '입니다.')\n",
        "print('변수 a의 값은 %s 입니다.' % a)\n",
        "print(f'변수 a의 값은 {a} 입니다.')"
      ],
      "metadata": {
        "colab": {
          "base_uri": "https://localhost:8080/"
        },
        "id": "XGnuC135EVEE",
        "outputId": "c7ff2b1b-dd4c-4ace-9297-f55332cce787"
      },
      "execution_count": null,
      "outputs": [
        {
          "output_type": "stream",
          "name": "stdout",
          "text": [
            "키보드로 입력해주세요. 포도\n",
            "변수 a의 값은 포도 입니다.\n",
            "변수 a의 값은 포도 입니다.\n",
            "변수 a의 값은 포도 입니다.\n"
          ]
        }
      ]
    },
    {
      "cell_type": "code",
      "source": [
        "num1 = int(input('첫번째 숫자 '))\n",
        "num2 = int(input('두번째 숫자 '))\n",
        "print('-' * 30)\n",
        "print(f'덧셈: {num1} + {num2} = {num1 + num2:}')\n",
        "print(f'뺄셈: {num1} - {num2} = {num1 - num2:}')\n",
        "print(f'곱셈: {num1} * {num2} = {num1 * num2:}')\n",
        "print(f'몫  : {num1} // {num2} = {num1 // num2:}')\n",
        "print(f'나머지: {num1} % {num2} = {num1 % num2:}')\n",
        "print('-' * 30)\n",
        "print(f'덧셈: {num1} + {num2} = {num1 + num2:3}')   # 3자리로 표현해\n",
        "print(f'뺄셈: {num1} - {num2} = {num1 - num2:<10}') # 10자리 왼쪽정렬\n",
        "print(f'뺄셈: {num1} - {num2} = {num1 - num2:>10}') # 10자리 오른쪽정렬\n",
        "print(f'뺄셈: {num1} - {num2} = {num1 - num2:^10}') # 10자리 가운데정렬"
      ],
      "metadata": {
        "colab": {
          "base_uri": "https://localhost:8080/"
        },
        "id": "yR1iSJcPGy-U",
        "outputId": "213c7068-011b-429c-8f93-bbe66c49d2f4"
      },
      "execution_count": null,
      "outputs": [
        {
          "output_type": "stream",
          "name": "stdout",
          "text": [
            "첫번째 숫자 3\n",
            "두번째 숫자 2\n",
            "------------------------------\n",
            "덧셈: 3 + 2 =   5\n",
            "덧셈: 3 + 2 = 5\n",
            "뺄셈: 3 - 2 = 1\n",
            "곱셈: 3 * 2 = 6\n",
            "몫  : 3 // 2 = 1\n",
            "나머지: 3 % 2 = 1\n",
            "------------------------------\n",
            "뺄셈: 3 - 2 = 1         \n",
            "뺄셈: 3 - 2 =          1\n",
            "뺄셈: 3 - 2 =     1     \n"
          ]
        }
      ]
    },
    {
      "cell_type": "code",
      "source": [
        "val = input('첫번째 숫자: ')\n",
        "print(f'a의 값은: {val:>10}')  # val 값을 10자리로 오른쪽 정렬\n",
        "print(f'a의 값은: {val:<10}')  # val 값을 10자리로 왼쪽 정렬\n",
        "print(f'a의 값은: {val:^10}')  # val 값을 10자리로 가운데 정렬"
      ],
      "metadata": {
        "colab": {
          "base_uri": "https://localhost:8080/"
        },
        "id": "wEYKbg2vdLka",
        "outputId": "d1bd689c-6733-4664-c79d-56bd6d28a719"
      },
      "execution_count": null,
      "outputs": [
        {
          "output_type": "stream",
          "name": "stdout",
          "text": [
            "첫번째 숫자: 2\n",
            "a의 값은:          2\n",
            "a의 값은: 2         \n",
            "a의 값은:     2     \n"
          ]
        }
      ]
    },
    {
      "cell_type": "code",
      "source": [
        "velocity = input('속력을 입력해주세요(km/h) : ')\n",
        "distance = input('거리를 입력해주세요(km) : ')\n",
        "print('-' * 30)\n",
        "print(f'속력: {float(velocity)} km/h')\n",
        "print(f'거리: {float(distance)} km')\n",
        "print(f'시간: {float(distance) / float(velocity):.1f} h') # 소수점 한자리"
      ],
      "metadata": {
        "colab": {
          "base_uri": "https://localhost:8080/"
        },
        "id": "Ed171HiQLqU5",
        "outputId": "bb0f08dd-50aa-4c8a-fdc9-fcd1f1263aa8"
      },
      "execution_count": null,
      "outputs": [
        {
          "output_type": "stream",
          "name": "stdout",
          "text": [
            "속력을 입력해주세요(km/h) : 299\n",
            "거리를 입력해주세요(km) : 44\n",
            "------------------------------\n",
            "속력: 299.0 km/h\n",
            "거리: 44.0 km\n",
            "시간: 0.1 h\n"
          ]
        }
      ]
    },
    {
      "cell_type": "markdown",
      "source": [
        "### 내장된 수학함수"
      ],
      "metadata": {
        "id": "QcTWU-3eOvTw"
      }
    },
    {
      "cell_type": "code",
      "source": [
        "import math\n",
        "\n",
        "print(f'원주율: {math.pi}')\n",
        "print(f'절대값: {abs(-10)}')"
      ],
      "metadata": {
        "colab": {
          "base_uri": "https://localhost:8080/"
        },
        "id": "TmYPV2BEOzHW",
        "outputId": "34c44423-f86b-47e2-eac2-e7ec41ee40ca"
      },
      "execution_count": null,
      "outputs": [
        {
          "output_type": "stream",
          "name": "stdout",
          "text": [
            "원주율: 3.141592653589793\n",
            "절대값: 10\n"
          ]
        }
      ]
    },
    {
      "cell_type": "code",
      "source": [
        "import math\n",
        "# 문제1: 반지름이 4인 원의 넓이 출력\n",
        "r = 4\n",
        "pi = math.pi\n",
        "print(f'원의 넓이: {round(pi * math.pow(r,2), 4)}') # 반올림 round 하여 소수점 4자리까지\n",
        "\n",
        "# 문제2: 3.14 곱하기 2 나누기 7의 값을 반올림하여 계산 결과 출력\n",
        "print(f'계산결과: {round(pi * 2 / 7)}')\n",
        "\n",
        "# 문제3: 원주율을 3.14로 만들어서 반지름이 4인 원의 둘레의 길이 출력\n",
        "print(f'원의 둘레: {2 * pi * r}')\n"
      ],
      "metadata": {
        "colab": {
          "base_uri": "https://localhost:8080/"
        },
        "id": "GBqMr6EkQDVh",
        "outputId": "29dcc38e-2157-4a07-be8e-29046c63958d"
      },
      "execution_count": null,
      "outputs": [
        {
          "output_type": "stream",
          "name": "stdout",
          "text": [
            "원의 넓이: 50.2655\n",
            "계산결과: 1\n",
            "원의 둘레: 25.132741228718345\n"
          ]
        }
      ]
    },
    {
      "cell_type": "markdown",
      "source": [
        "---\n",
        "### [실습문제] 숫자 입력받아 계산하기"
      ],
      "metadata": {
        "id": "txHqV0OZG_80"
      }
    },
    {
      "cell_type": "code",
      "source": [
        "a = input('1~9까지의 정수 1개 입력: ')\n",
        "# print(type(a))\n",
        "# aa = int(a+a)     # 문자를 int 정수로 변경\n",
        "# aaa = int(a+a+a)\n",
        "print( int(a) + int(a+a) + int(a+a+a))"
      ],
      "metadata": {
        "id": "pJf1mvvHQ3Po",
        "colab": {
          "base_uri": "https://localhost:8080/"
        },
        "outputId": "3fa21b49-9693-4671-9f90-8d379a7d2b83"
      },
      "execution_count": null,
      "outputs": [
        {
          "output_type": "stream",
          "name": "stdout",
          "text": [
            "1~9까지의 정수 1개 입력: 7\n",
            "861\n"
          ]
        }
      ]
    },
    {
      "cell_type": "code",
      "source": [
        "a = input('1~9까지의 정수 1개 입력: ')\n",
        "a = int(a)\n",
        "aa = int(a+a)\n",
        "aaa = int(a+a+a)\n",
        "print(a)\n",
        "print(aa)\n",
        "print(aaa)\n",
        "print(a + aa + aaa)"
      ],
      "metadata": {
        "colab": {
          "base_uri": "https://localhost:8080/"
        },
        "id": "tZ9SCz7LHivK",
        "outputId": "c8ce7120-32a6-4bfb-9247-93cb9273fbd2"
      },
      "execution_count": null,
      "outputs": [
        {
          "output_type": "stream",
          "name": "stdout",
          "text": [
            "1~9까지의 정수 1개 입력: 7\n",
            "7\n",
            "14\n",
            "21\n",
            "42\n"
          ]
        }
      ]
    },
    {
      "cell_type": "code",
      "source": [
        "# eval() : 이벨이란 함수가 문자를 숫자로 인식하여 계산\n",
        "a = input('1~9까지의 정수 1개 입력: ')\n",
        "eval('7 + 77 + 777')\n",
        "calc = f'{a} + {a*2} + {a*3}'\n",
        "print(f'{calc} = {eval(calc)}')"
      ],
      "metadata": {
        "colab": {
          "base_uri": "https://localhost:8080/"
        },
        "id": "iEKOWKVaL3_I",
        "outputId": "deea8a3b-1b83-4de9-ed18-2a1782a1c8f9"
      },
      "execution_count": null,
      "outputs": [
        {
          "name": "stdout",
          "output_type": "stream",
          "text": [
            "1~9까지의 정수 1개 입력: 7\n"
          ]
        }
      ]
    },
    {
      "cell_type": "code",
      "source": [],
      "metadata": {
        "id": "0XPj8hCAM5nZ"
      },
      "execution_count": null,
      "outputs": []
    }
  ]
}