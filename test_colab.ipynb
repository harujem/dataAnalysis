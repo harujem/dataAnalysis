{
  "nbformat": 4,
  "nbformat_minor": 0,
  "metadata": {
    "colab": {
      "provenance": [],
      "toc_visible": true,
      "authorship_tag": "ABX9TyO7WCvuU+yE0ZtxBqnF0OBl",
      "include_colab_link": true
    },
    "kernelspec": {
      "name": "python3",
      "display_name": "Python 3"
    },
    "language_info": {
      "name": "python"
    }
  },
  "cells": [
    {
      "cell_type": "markdown",
      "metadata": {
        "id": "view-in-github",
        "colab_type": "text"
      },
      "source": [
        "<a href=\"https://colab.research.google.com/github/harujem/dataAnalysis/blob/main/test_colab.ipynb\" target=\"_parent\"><img src=\"https://colab.research.google.com/assets/colab-badge.svg\" alt=\"Open In Colab\"/></a>"
      ]
    },
    {
      "cell_type": "markdown",
      "source": [
        "# 파이썬 첫 수업\n",
        "## 제목\n",
        "#### 제목\n",
        "#### **제목**"
      ],
      "metadata": {
        "id": "Q1-iJLGMD_0N"
      }
    },
    {
      "cell_type": "markdown",
      "source": [
        "## 두번째"
      ],
      "metadata": {
        "id": "RrkfrtfbEdVm"
      }
    },
    {
      "cell_type": "code",
      "execution_count": 2,
      "metadata": {
        "colab": {
          "base_uri": "https://localhost:8080/"
        },
        "id": "CJjW-VLzDfDQ",
        "outputId": "5f3f839b-191e-4680-fb7b-3349e39008a5"
      },
      "outputs": [
        {
          "output_type": "stream",
          "name": "stdout",
          "text": [
            "코랩에서 작성하는 코드\n"
          ]
        }
      ],
      "source": [
        "print('코랩에서 작성하는 코드')"
      ]
    },
    {
      "cell_type": "code",
      "source": [
        "a = 10\n",
        "b = 20\n",
        "print(a + b)\n",
        "print(a - b)\n",
        "print(a * b)\n",
        "print(a % b)"
      ],
      "metadata": {
        "colab": {
          "base_uri": "https://localhost:8080/"
        },
        "id": "oP18ivrvFCu2",
        "outputId": "0ad9da6a-26a2-4add-bf00-ec50267f2348"
      },
      "execution_count": 6,
      "outputs": [
        {
          "output_type": "stream",
          "name": "stdout",
          "text": [
            "30\n",
            "-10\n",
            "200\n",
            "10\n"
          ]
        }
      ]
    },
    {
      "cell_type": "markdown",
      "source": [
        "## 파이썬 패키지 확인"
      ],
      "metadata": {
        "id": "pFiDtgjbEiPY"
      }
    },
    {
      "cell_type": "code",
      "source": [
        "!pip list"
      ],
      "metadata": {
        "id": "3Qagel49FeIe"
      },
      "execution_count": null,
      "outputs": []
    },
    {
      "cell_type": "markdown",
      "source": [],
      "metadata": {
        "id": "QeKfV2MGEqYl"
      }
    },
    {
      "cell_type": "markdown",
      "source": [],
      "metadata": {
        "id": "6Z2ABy6HFRnt"
      }
    }
  ]
}