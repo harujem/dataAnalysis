{
  "nbformat": 4,
  "nbformat_minor": 0,
  "metadata": {
    "colab": {
      "provenance": [],
      "toc_visible": true,
      "authorship_tag": "ABX9TyNT2My+cnyFSm7kEx/PftB8",
      "include_colab_link": true
    },
    "kernelspec": {
      "name": "python3",
      "display_name": "Python 3"
    },
    "language_info": {
      "name": "python"
    }
  },
  "cells": [
    {
      "cell_type": "markdown",
      "metadata": {
        "id": "view-in-github",
        "colab_type": "text"
      },
      "source": [
        "<a href=\"https://colab.research.google.com/github/harujem/dataAnalysis/blob/main/6%EC%9D%BC%EC%B0%A8_%ED%8C%8C%EC%9D%B4%EC%8D%AC%EA%B8%B0%EC%B4%88_%EC%A0%9C%EC%96%B4%EB%AC%B8%EC%8B%A4%EC%8A%B5.ipynb\" target=\"_parent\"><img src=\"https://colab.research.google.com/assets/colab-badge.svg\" alt=\"Open In Colab\"/></a>"
      ]
    },
    {
      "cell_type": "markdown",
      "source": [
        "# 제어문(조건문,반복문) 실습문제 풀이"
      ],
      "metadata": {
        "id": "B8hlW61fIwgg"
      }
    },
    {
      "cell_type": "markdown",
      "source": [
        "### [실습문제] while 반복문(퀴즈 맞히기)"
      ],
      "metadata": {
        "id": "K0M8tVCpKL9n"
      }
    },
    {
      "cell_type": "code",
      "source": [
        "print('프로그램을 작성할 때 일정한 구간의 명령을 \\n반복해서 실행하도록 구성한 구문을 무엇이라 하는가?')\n",
        "\n",
        "while True:\n",
        "    answer = input('정답 입력: ')\n",
        "    if answer == '반복문':\n",
        "        print('정답!')\n",
        "        break       # 완전히 빠져나감\n",
        "    elif answer == '반복':\n",
        "        print('좀 더 고민해보세요~')\n",
        "        continue    # 반복문으로 다시 돌아감\n",
        "    print('오답!!')\n",
        "print('프로그램 종료!!!')"
      ],
      "metadata": {
        "colab": {
          "base_uri": "https://localhost:8080/"
        },
        "id": "oYIHv0sfKTfP",
        "outputId": "3d6b54eb-b599-4590-91fa-3abddcd77316"
      },
      "execution_count": null,
      "outputs": [
        {
          "output_type": "stream",
          "name": "stdout",
          "text": [
            "프로그램을 작성할 때 일정한 구간의 명령을 \n",
            "반복해서 실행하도록 구성한 구문을 무엇이라 하는가?\n",
            "정답 입력: 제어문\n",
            "오답!!\n",
            "정답 입력: 반복\n",
            "좀 더 고민해보세요~\n",
            "정답 입력: 반복문\n",
            "정답!\n",
            "프로그램 종료!!!\n"
          ]
        }
      ]
    },
    {
      "cell_type": "markdown",
      "source": [
        "### [실습문제] 1000만원을 년 이자율 7%로 저금했을 경우 2000만원이 되는 데 몇 년이 걸리는지 계산하는 프로그램"
      ],
      "metadata": {
        "id": "eoFvDxBJJpVH"
      }
    },
    {
      "cell_type": "code",
      "execution_count": null,
      "metadata": {
        "colab": {
          "base_uri": "https://localhost:8080/"
        },
        "id": "0i0D5Ev3IlRw",
        "outputId": "b01f436f-7209-4f64-f3b4-2d5603388747"
      },
      "outputs": [
        {
          "output_type": "stream",
          "name": "stdout",
          "text": [
            "year:1, balance:10700000\n",
            "year:2, balance:11449000\n",
            "year:3, balance:12250430\n",
            "year:4, balance:13107960\n",
            "year:5, balance:14025517\n",
            "year:6, balance:15007304\n",
            "year:7, balance:16057815\n",
            "year:8, balance:17181862\n",
            "year:9, balance:18384592\n",
            "year:10, balance:19671514\n",
            "year:11, balance:21048520\n",
            "10,000,000원이 20,000,000원이 되는데 11년이 걸립니다.\n"
          ]
        }
      ],
      "source": [
        "seed, target = 10000000, 20000000\n",
        "balance, interest = 10000000, 0.07\n",
        "year = 0\n",
        "while balance <= target:\n",
        "    balance = balance + balance * interest\n",
        "    year += 1       # year = year + 1\n",
        "    print(f\"year:{year}, balance:{round(balance)}\")     # round 반올림\n",
        "print(f\"{seed:,}원이 {target:,}원이 되는데 {year}년이 걸립니다.\")"
      ]
    },
    {
      "cell_type": "markdown",
      "source": [
        "### [실습문제] 1~N 까지 3의 배수 합계구하기"
      ],
      "metadata": {
        "id": "0Mm5o6QAP0eu"
      }
    },
    {
      "cell_type": "code",
      "source": [
        "result = sum(i for i in range(1, 1001) if i % 3 == 0)\n",
        "print(f'{result:,}')"
      ],
      "metadata": {
        "colab": {
          "base_uri": "https://localhost:8080/"
        },
        "id": "Hux7va3XOfT-",
        "outputId": "1feaf675-248f-4a41-d0a7-b24eb310c2d4"
      },
      "execution_count": null,
      "outputs": [
        {
          "output_type": "stream",
          "name": "stdout",
          "text": [
            "166,833\n"
          ]
        }
      ]
    },
    {
      "cell_type": "markdown",
      "source": [
        "### [실습문제] 별찍기"
      ],
      "metadata": {
        "id": "3mGgh1ZMRSEM"
      }
    },
    {
      "cell_type": "code",
      "source": [
        "star = '⭐'\n",
        "numbers = input('숫자 여러개 입력(0~9): ')\n",
        "\n",
        "for number in numbers:\n",
        "    for _ in range(int(number)*2):      # 별의 수에 2 곱한만큼 range 반복\n",
        "        print(star, end='')             # 가로로 출력\n",
        "    print()                             # 다음 별수는 한칸 내려 출력"
      ],
      "metadata": {
        "colab": {
          "base_uri": "https://localhost:8080/"
        },
        "id": "cPOGhAawQf5z",
        "outputId": "ad698dd1-9e13-4961-e0c7-cfe87e096c6a"
      },
      "execution_count": 17,
      "outputs": [
        {
          "output_type": "stream",
          "name": "stdout",
          "text": [
            "숫자 여러개 입력(0~9): 23\n",
            "⭐⭐⭐⭐\n",
            "⭐⭐⭐⭐⭐⭐\n"
          ]
        }
      ]
    },
    {
      "cell_type": "markdown",
      "source": [
        "### [실습문제] 커피 자동주문 프로그램"
      ],
      "metadata": {
        "id": "MPyXkfFtUfpb"
      }
    },
    {
      "cell_type": "code",
      "source": [
        "menu = ''' [커피 주문 머신 메뉴]\n",
        "-------------------------\n",
        "- 아메리카노: 2500원\n",
        "- 카페라떼:   3000원\n",
        "- 카페모카:   3000원\n",
        "-------------------------\n",
        "원하시는 커피 종류와 잔수를 입력하세요. '''\n",
        "\n",
        "coffee1 = int(input('아메리카노 몇잔: '))\n",
        "coffee2 = int(input('카페라떼 몇잔: '))\n",
        "coffee3 = int(input('카페모카 몇잔: '))\n",
        "total = 2500*coffee1 + 3000*coffee2 + 3000*coffee3\n",
        "print(f\"지불하실 총 금액은 {total:,}원 입니다.\")\n",
        "\n",
        "while True:\n",
        "    print('-----------------')\n",
        "    money = int(input('돈을 넣어주세요: '))\n",
        "\n",
        "    change = money - total  # 거스름돈\n",
        "    if change < 0:\n",
        "        print(f\"돈이 부족합니다. {abs(change):,}원을 더 넣어주세요.\")\n",
        "        total = total - money\n",
        "    else:\n",
        "        print(f\"거스름돈은 {change:,}원 입니다. 커피 맛있게 드세요.\")\n",
        "        break"
      ],
      "metadata": {
        "id": "PofbKJqwS6wd",
        "colab": {
          "base_uri": "https://localhost:8080/"
        },
        "outputId": "8b4ea74c-5df4-442a-83f4-ca195236d6ad"
      },
      "execution_count": 16,
      "outputs": [
        {
          "output_type": "stream",
          "name": "stdout",
          "text": [
            "아메리카노 몇잔: 1\n",
            "카페라떼 몇잔: 1\n",
            "카페모카 몇잔: 1\n",
            "지불하실 총 금액은 8,500원 입니다.\n",
            "-----------------\n",
            "돈을 넣어주세요: 8000\n",
            "돈이 부족합니다. 500원을 더 넣어주세요.\n",
            "-----------------\n",
            "돈을 넣어주세요: 400\n",
            "돈이 부족합니다. 100원을 더 넣어주세요.\n",
            "-----------------\n",
            "돈을 넣어주세요: 200\n",
            "거스름돈은 100원 입니다. 커피 맛있게 드세요.\n"
          ]
        }
      ]
    },
    {
      "cell_type": "markdown",
      "source": [
        "### [실습문제] 무인호텔 관리 프로그램"
      ],
      "metadata": {
        "id": "W-NEtyC-Zsy5"
      }
    },
    {
      "cell_type": "code",
      "source": [
        "''' <메뉴 설명>\n",
        " 1. 체크인\n",
        "    방 호수(1번부터 시작)를 입력 받습니다.\n",
        "    방이 이미 입실 중이면 \"입실 중인 방은 체크인 하실 수 없습니다.\"를 출력하세요.\n",
        "    빈 방인 경우 \"입실 완료!\"를 출력하고 메뉴로 돌아갑니다.\n",
        " 2. 체크아웃\n",
        "    방 호수(1번부터 시작)를 입력 받습니다.\n",
        "    방이 빈 방이면 \"빈 방은 체크아웃 하실 수 없습니다.\"를 출력하세요.\n",
        "    체크인 상태인 경우 \"퇴실 완료!\"를 출력하고 메뉴로 돌아갑니다.\n",
        " 3. '방호수- 상태'를 출력합니다.\n",
        "    출력 예)\n",
        "    1호 : 빈 방\n",
        "    2호 : 입실 중\n",
        "    3호 : 입실 중\n",
        "    4호 : 빈 방\n",
        "    5호 : 빈 방\n",
        "    0. 종료\n",
        " 반복을 종료하고 '영업 종료' 를 출력합니다.\n",
        "'''\n",
        "\n",
        "print('호텔관리 시스템입니다.')\n",
        "menu = '''\n",
        "1. 체크인\n",
        "2. 체크아웃\n",
        "3. 입실현황\n",
        "0. 종료\n",
        "'''\n",
        "\n",
        "number = int(input('호텔 방의 개수 입력: '))\n",
        "hotel = [0 for _ in range(number)]\n",
        "print(f\"방 현황: {hotel} (0:빈방, 1:입실중)\")\n",
        "\n",
        "while True:\n",
        "    print(f'-------------------{menu}')\n",
        "    select = input('--> 메뉴선택: ')\n",
        "    if select == '0':\n",
        "        break\n",
        "\n",
        "    elif select == '1':   # 체크인\n",
        "        num = int(input(f'체크인 하실 방 호수 입력(1 ~ {len(hotel)}): '))\n",
        "        if hotel[num-1]:    # 참이면 이미 입실중 (인덱스가 0부터 시작해서 -1 붙임)\n",
        "            print(f\"{num}번 방은 이미 입실중입니다.\")\n",
        "        else:\n",
        "            hotel[num-1] = 1\n",
        "        continue    # 바로 위로 올라감 적절히 사용하면 에너지 소모 줄임\n",
        "\n",
        "    elif select == '2':   # 체크아웃\n",
        "        num = int(input(f'체크아웃 하실 방 호수 입력(1 ~ {len(hotel)}): '))\n",
        "        if hotel[num-1]:    # 체크아웃 처리\n",
        "            hotel[num-1] = 0    # 빈방 상태로 만듬\n",
        "            print(f\"{num}번 방은 이미 입실중입니다.\")\n",
        "        else:\n",
        "            print(f\"{hotel[num]}번 방은 빈 방입니다. 빈 방은 체크아웃 하실 수 없습니다.\")\n",
        "\n",
        "    elif select == '3':   # 현황보기\n",
        "        for idx, room in enumerate(hotel):  # [0, 0, 0]\n",
        "            if room == 0:\n",
        "                print(f\"{idx+1}호: 빈방\")\n",
        "            elif room == 1:\n",
        "                print(f\"{idx+1}호: 입실중\")\n",
        "\n",
        "print(f'-------------------')\n",
        "print('프로그램 종료!')"
      ],
      "metadata": {
        "colab": {
          "base_uri": "https://localhost:8080/"
        },
        "id": "LBfbW50gYacK",
        "outputId": "c0f34d41-7784-4770-d818-7a12e041f094"
      },
      "execution_count": 27,
      "outputs": [
        {
          "output_type": "stream",
          "name": "stdout",
          "text": [
            "호텔관리 시스템입니다.\n",
            "호텔 방의 개수 입력: 3\n",
            "방 현황: [0, 0, 0] (0:빈방, 1:입실중)\n",
            "-------------------\n",
            "1. 체크인 \n",
            "2. 체크아웃 \n",
            "3. 입실현황 \n",
            "0. 종료\n",
            "\n",
            "--> 메뉴선택: 1\n",
            "체크인 하실 방 호수 입력(1 ~ 3): 1\n",
            "-------------------\n",
            "1. 체크인 \n",
            "2. 체크아웃 \n",
            "3. 입실현황 \n",
            "0. 종료\n",
            "\n",
            "--> 메뉴선택: 2\n",
            "체크아웃 하실 방 호수 입력(1 ~ 3): 2\n",
            "0번 방은 빈 방입니다. 빈 방은 체크아웃 하실 수 없습니다.\n",
            "-------------------\n",
            "1. 체크인 \n",
            "2. 체크아웃 \n",
            "3. 입실현황 \n",
            "0. 종료\n",
            "\n",
            "--> 메뉴선택: 3\n",
            "1호: 입실중\n",
            "2호: 빈방\n",
            "3호: 빈방\n",
            "-------------------\n",
            "1. 체크인 \n",
            "2. 체크아웃 \n",
            "3. 입실현황 \n",
            "0. 종료\n",
            "\n",
            "--> 메뉴선택: 0\n",
            "-------------------\n",
            "프로그램 종료!\n"
          ]
        }
      ]
    },
    {
      "cell_type": "markdown",
      "source": [
        "# 난수"
      ],
      "metadata": {
        "id": "2_zZ_O08o6FB"
      }
    },
    {
      "cell_type": "markdown",
      "source": [
        "### [실습문제] 임의의 두수 합 구하기"
      ],
      "metadata": {
        "id": "D-FvqzP5rGey"
      }
    },
    {
      "cell_type": "code",
      "source": [
        "import random\n",
        "\n",
        "a = random.randint(1, 10)   # 1~10까지의 정수 중 하나 선택\n",
        "b = random.randint(1, 10)   # 1~10까지의 정수 중 하나 선택\n",
        "print(f'{a} + {b} = {a+b}')"
      ],
      "metadata": {
        "colab": {
          "base_uri": "https://localhost:8080/"
        },
        "id": "ae7tWA_CfqJp",
        "outputId": "9e24aa1a-b907-428c-e09e-ad597fef7c62"
      },
      "execution_count": 30,
      "outputs": [
        {
          "output_type": "stream",
          "name": "stdout",
          "text": [
            "6 + 9 = 15\n"
          ]
        }
      ]
    },
    {
      "cell_type": "code",
      "source": [
        "print(f\"로또번호 출력: {sorted(random.sample(range(1,46), 6))}\")    # sorted 정렬 함수"
      ],
      "metadata": {
        "colab": {
          "base_uri": "https://localhost:8080/"
        },
        "id": "Hg6xPlfAs99i",
        "outputId": "fd5da2d3-e0f6-446a-b172-7ec16ee135f0"
      },
      "execution_count": 33,
      "outputs": [
        {
          "output_type": "stream",
          "name": "stdout",
          "text": [
            "로또번호 출력: [8, 11, 13, 24, 29, 39]\n"
          ]
        }
      ]
    },
    {
      "cell_type": "markdown",
      "source": [
        "### [실습문제] 주사위 숫자별 빈도수"
      ],
      "metadata": {
        "id": "bWnTGYk7q7-r"
      }
    },
    {
      "cell_type": "code",
      "source": [
        "import random\n",
        "\n",
        "dice = [0,0,0,0,0,0]\n",
        "for _ in range(100):\n",
        "    x = random.randint(1, 6)\n",
        "    dice[x-1] += 1\n",
        "\n",
        "print(f\"숫자별 개수: {dice}\")\n",
        "sum(dice)   # 다 더하면\n",
        "\n",
        "maxValue = max(dice)    # 중복 발생떄문에 필요\n",
        "max_dice = [idx+1 for idx, v in enumerate(dice) if v==maxValue]\n",
        "# max_dice = []\n",
        "# for idx, v in enumerate(dice):\n",
        "#    if v==maxValue:\n",
        "#        max_dice.append(idx+1)\n",
        "\n",
        "print(f\"가장 많이 나온 주사위 숫자: {max_dice}, 횟수: {maxValue}\")"
      ],
      "metadata": {
        "colab": {
          "base_uri": "https://localhost:8080/"
        },
        "id": "oTvf7o7MpYwj",
        "outputId": "22c7d401-be4d-4675-ccb9-ebe1c98566f5"
      },
      "execution_count": 49,
      "outputs": [
        {
          "output_type": "stream",
          "name": "stdout",
          "text": [
            "숫자별 개수: [14, 16, 18, 19, 14, 19]\n",
            "가장 많이 나온 주사위 숫자: [4, 6], 횟수: 19\n"
          ]
        }
      ]
    },
    {
      "cell_type": "markdown",
      "source": [
        "# 리스트 컴프리헨션"
      ],
      "metadata": {
        "id": "PhySz7YHvz_Q"
      }
    },
    {
      "cell_type": "code",
      "source": [
        "rows = range(1,4)\n",
        "cols = range(1,3)\n",
        "\n",
        "cells = []\n",
        "for row in rows:\n",
        "    for col in cols:\n",
        "        cells.append((row, col))\n",
        "print(cells)\n",
        "\n",
        "# 튜플 리스트 컴프리헨션\n",
        "cells = [(row, col) for row in rows for col in cols]\n",
        "print(cells)"
      ],
      "metadata": {
        "colab": {
          "base_uri": "https://localhost:8080/"
        },
        "id": "fm1RDGjtyyxY",
        "outputId": "7a5bc21f-2cc2-46d8-9788-866c372b2304"
      },
      "execution_count": 74,
      "outputs": [
        {
          "output_type": "stream",
          "name": "stdout",
          "text": [
            "[(1, 1), (1, 2), (2, 1), (2, 2), (3, 1), (3, 2)]\n",
            "[(1, 1), (1, 2), (2, 1), (2, 2), (3, 1), (3, 2)]\n"
          ]
        }
      ]
    },
    {
      "cell_type": "code",
      "source": [
        "foods = ['떡볶이', '짜장면', '라면', '피자', '치킨', '삼겹살']\n",
        "sides = ['오뎅', '단무지', '김치']\n",
        "\n",
        "for food, side in zip(foods, sides):\n",
        "    print(food, '-->', side)\n",
        "\n",
        "tupList = list(zip(foods, sides))\n",
        "dic = dict(zip(foods, sides))\n",
        "print(f\"{tupList}\")\n",
        "print(f\"{dic}\")"
      ],
      "metadata": {
        "colab": {
          "base_uri": "https://localhost:8080/"
        },
        "id": "d0m2d_4tssSq",
        "outputId": "d11cd59d-f65a-4e55-8b53-1dc04fe167e3"
      },
      "execution_count": 59,
      "outputs": [
        {
          "output_type": "stream",
          "name": "stdout",
          "text": [
            "떡볶이 --> 오뎅\n",
            "짜장면 --> 단무지\n",
            "라면 --> 김치\n",
            "[('떡볶이', '오뎅'), ('짜장면', '단무지'), ('라면', '김치')]\n",
            "{'떡볶이': '오뎅', '짜장면': '단무지', '라면': '김치'}\n"
          ]
        }
      ]
    },
    {
      "cell_type": "code",
      "source": [],
      "metadata": {
        "id": "z7JIxabWx3Zw"
      },
      "execution_count": null,
      "outputs": []
    }
  ]
}