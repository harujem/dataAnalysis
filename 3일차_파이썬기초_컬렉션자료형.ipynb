{
  "nbformat": 4,
  "nbformat_minor": 0,
  "metadata": {
    "colab": {
      "provenance": [],
      "toc_visible": true,
      "authorship_tag": "ABX9TyN1BtMK5ypm8Rwrt7aJiOS/",
      "include_colab_link": true
    },
    "kernelspec": {
      "name": "python3",
      "display_name": "Python 3"
    },
    "language_info": {
      "name": "python"
    }
  },
  "cells": [
    {
      "cell_type": "markdown",
      "metadata": {
        "id": "view-in-github",
        "colab_type": "text"
      },
      "source": [
        "<a href=\"https://colab.research.google.com/github/harujem/dataAnalysis/blob/main/3%EC%9D%BC%EC%B0%A8_%ED%8C%8C%EC%9D%B4%EC%8D%AC%EA%B8%B0%EC%B4%88_%EC%BB%AC%EB%A0%89%EC%85%98%EC%9E%90%EB%A3%8C%ED%98%95.ipynb\" target=\"_parent\"><img src=\"https://colab.research.google.com/assets/colab-badge.svg\" alt=\"Open In Colab\"/></a>"
      ]
    },
    {
      "cell_type": "markdown",
      "source": [
        "# 3. 컬렉션 자료형"
      ],
      "metadata": {
        "id": "j32oI3M5OeTi"
      }
    },
    {
      "cell_type": "markdown",
      "source": [
        "## 3-1 리스트"
      ],
      "metadata": {
        "id": "Ofj44ylEOskZ"
      }
    },
    {
      "cell_type": "markdown",
      "source": [
        "### 리스트 생성"
      ],
      "metadata": {
        "id": "K1MuqnvMUDIB"
      }
    },
    {
      "cell_type": "code",
      "execution_count": 3,
      "metadata": {
        "colab": {
          "base_uri": "https://localhost:8080/"
        },
        "id": "wL5xvpNaOdla",
        "outputId": "a59a8ced-9af1-453d-b637-f2fc05a3bd7b"
      },
      "outputs": [
        {
          "output_type": "stream",
          "name": "stdout",
          "text": [
            "<class 'list'>\n",
            "[]\n"
          ]
        }
      ],
      "source": [
        "# 빈 리스트 생성\n",
        "a = []\n",
        "a = list()\n",
        "print(type(a))\n",
        "print(a)"
      ]
    },
    {
      "cell_type": "code",
      "source": [
        "# 초기 데이터 넣고 리스트 생성\n",
        "import math\n",
        "a = [1,2,3,4,5]\n",
        "a = [1, 'apple', '딸기', 3.14, math.pi, max({10,20,30})]\n",
        "b = [1, 2, a, ['사과', '포도'], {'k':'kiwi'}]\n",
        "print(a)\n",
        "print(b)"
      ],
      "metadata": {
        "colab": {
          "base_uri": "https://localhost:8080/"
        },
        "id": "mApk8q5OUNni",
        "outputId": "7a05e6e5-0751-4a25-ce39-37f0f460c59c"
      },
      "execution_count": 8,
      "outputs": [
        {
          "output_type": "stream",
          "name": "stdout",
          "text": [
            "[1, 'apple', '딸기', 3.14, 3.141592653589793, 30]\n",
            "[1, 2, [1, 'apple', '딸기', 3.14, 3.141592653589793, 30], ['사과', '포도'], {'k': 'kiwi'}]\n"
          ]
        }
      ]
    },
    {
      "cell_type": "code",
      "source": [
        "numlist = []\n",
        "for num in range(1,21,2):   # for 반복문, range(): 정수를 순차로 발생시키는 함수 (1부터 21미만까지 2씩 증가해)\n",
        "    numlist.append(num)   # 리스트에 데이터 추가\n",
        "print(numlist)"
      ],
      "metadata": {
        "colab": {
          "base_uri": "https://localhost:8080/"
        },
        "id": "tEzRCfgBUma0",
        "outputId": "482f9ccd-60fa-4c1c-8dc7-4beaa2827c99"
      },
      "execution_count": 16,
      "outputs": [
        {
          "output_type": "stream",
          "name": "stdout",
          "text": [
            "[1, 3, 5, 7, 9, 11, 13, 15, 17, 19]\n"
          ]
        }
      ]
    },
    {
      "cell_type": "code",
      "source": [
        "print(b)\n",
        "for i in b:   # for 반복문 (b란 이름의 리스트 안에있는 요소를 하나씩 출력하는 코드)\n",
        "  print(i)    # 탭키도 문법임 (탭 안하면 프린트가 안됨)"
      ],
      "metadata": {
        "colab": {
          "base_uri": "https://localhost:8080/"
        },
        "id": "VGzamL7uVatP",
        "outputId": "273884f4-619f-4381-c004-5e342a05f9ce"
      },
      "execution_count": 15,
      "outputs": [
        {
          "output_type": "stream",
          "name": "stdout",
          "text": [
            "[1, 2, [1, 'apple', '딸기', 3.14, 3.141592653589793, 30], ['사과', '포도'], {'k': 'kiwi'}]\n",
            "1\n",
            "2\n",
            "[1, 'apple', '딸기', 3.14, 3.141592653589793, 30]\n",
            "['사과', '포도']\n",
            "{'k': 'kiwi'}\n"
          ]
        }
      ]
    },
    {
      "cell_type": "code",
      "source": [
        "# 리스트는 인덱스로 요소에 접근할 수 있고 인덱스라는건 슬라이싱도 가능\n",
        "\n",
        "colors = ['빨강', '주황', '노랑', '초록', '파랑']\n",
        "print( colors[0] )\n",
        "print( colors[2:4] )\n",
        "print( colors[::-1] )   # 거꾸로 정렬\n",
        "\n",
        "for color in colors:\n",
        "    print(f\"나는 '{color}' 색상을 좋아합니다.\")"
      ],
      "metadata": {
        "colab": {
          "base_uri": "https://localhost:8080/"
        },
        "id": "QbR7G0DIWTpi",
        "outputId": "4b6bc332-3db0-4bf9-e8e8-d5ad64661ae3"
      },
      "execution_count": 22,
      "outputs": [
        {
          "output_type": "stream",
          "name": "stdout",
          "text": [
            "빨강\n",
            "['노랑', '초록']\n",
            "['파랑', '초록', '노랑', '주황', '빨강']\n",
            "나는 '빨강' 색상을 좋아합니다.\n",
            "나는 '주황' 색상을 좋아합니다.\n",
            "나는 '노랑' 색상을 좋아합니다.\n",
            "나는 '초록' 색상을 좋아합니다.\n",
            "나는 '파랑' 색상을 좋아합니다.\n"
          ]
        }
      ]
    },
    {
      "cell_type": "markdown",
      "source": [
        "### 리스트 요소 추가"
      ],
      "metadata": {
        "id": "DdYdtxa-YpDm"
      }
    },
    {
      "cell_type": "code",
      "source": [
        "print(colors)\n",
        "\n",
        "# 인덱스 2 위치에 '분홍'넣기\n",
        "colors.insert(2, '분홍')\n",
        "print(colors)\n",
        "\n",
        "# 맨 뒤에 추가하기\n",
        "colors.append('보라')\n",
        "print(colors)"
      ],
      "metadata": {
        "colab": {
          "base_uri": "https://localhost:8080/"
        },
        "id": "91_ZABp5Z0AW",
        "outputId": "d0a890d0-7fa9-454f-8b7d-d3d06f466631"
      },
      "execution_count": 38,
      "outputs": [
        {
          "output_type": "stream",
          "name": "stdout",
          "text": [
            "['빨강', '브', '분홍', '분홍', '라', '운', '스카이', '스카이', '분홍', '분홍', '분홍', '노랑', '초록', '파랑', '보라', '보라', '보라', '보라', '보라']\n",
            "['빨강', '브', '분홍', '분홍', '분홍', '라', '운', '스카이', '스카이', '분홍', '분홍', '분홍', '노랑', '초록', '파랑', '보라', '보라', '보라', '보라', '보라']\n",
            "['빨강', '브', '분홍', '분홍', '분홍', '라', '운', '스카이', '스카이', '분홍', '분홍', '분홍', '노랑', '초록', '파랑', '보라', '보라', '보라', '보라', '보라', '보라']\n"
          ]
        }
      ]
    },
    {
      "cell_type": "markdown",
      "source": [
        "### 리스트 특정 위치의 요소값 변경"
      ],
      "metadata": {
        "id": "UjMy5UVhZd6O"
      }
    },
    {
      "cell_type": "code",
      "source": [
        "colors = ['빨강', '주황', '노랑', '초록', '파랑']\n",
        "\n",
        "colors[3] = '스카이'\n",
        "print(colors)\n",
        "colors[1:3] = '브라운'\n",
        "print(colors)\n",
        "colors[1:3] = ['브라운', '남색']\n",
        "print(colors)\n",
        "colors[1:4] = '브라운'    # 주의! 인덱스 개수가 다르면 대체가 안되고 없어짐\n",
        "print(colors)"
      ],
      "metadata": {
        "colab": {
          "base_uri": "https://localhost:8080/"
        },
        "id": "s4xjUuPqY7yV",
        "outputId": "318a0fa5-439f-43ad-90cc-69525bd12ed2"
      },
      "execution_count": 42,
      "outputs": [
        {
          "output_type": "stream",
          "name": "stdout",
          "text": [
            "['빨강', '주황', '노랑', '스카이', '파랑']\n",
            "['빨강', '브', '라', '운', '스카이', '파랑']\n",
            "['빨강', '브라운', '남색', '운', '스카이', '파랑']\n",
            "['빨강', '브', '라', '운', '스카이', '파랑']\n"
          ]
        }
      ]
    },
    {
      "cell_type": "markdown",
      "source": [
        "### 리스트의 요소 삭제"
      ],
      "metadata": {
        "id": "O7CdYBEzbXm-"
      }
    },
    {
      "cell_type": "code",
      "source": [
        "colors = ['빨강', '주황', '노랑', '초록', '파랑', '노랑']\n",
        "\n",
        "# 맨 뒤에 있는 것 삭제(꺼내기)\n",
        "colors.pop()\n",
        "print(colors)\n",
        "\n",
        "# 요소값과 일치하는 것 삭제\n",
        "colors.remove('노랑')\n",
        "print(colors)\n",
        "\n",
        " # 전체 요소 삭제\n",
        " colors.clear()\n",
        " print(colors)"
      ],
      "metadata": {
        "colab": {
          "base_uri": "https://localhost:8080/"
        },
        "id": "fdmr-JJEZnEV",
        "outputId": "ef316608-64ca-4774-9494-5a594187fafa"
      },
      "execution_count": 44,
      "outputs": [
        {
          "output_type": "stream",
          "name": "stdout",
          "text": [
            "['빨강', '주황', '노랑', '초록', '파랑']\n",
            "['빨강', '주황', '초록', '파랑']\n"
          ]
        }
      ]
    },
    {
      "cell_type": "markdown",
      "source": [
        "### 리스트 자체 삭제"
      ],
      "metadata": {
        "id": "V4irIv_gctQ2"
      }
    },
    {
      "cell_type": "code",
      "source": [
        " # del() 구조 자체를 삭제했기 때문에 오류가 남\n",
        " del(colors)\n",
        " print(colors)"
      ],
      "metadata": {
        "colab": {
          "base_uri": "https://localhost:8080/",
          "height": 184
        },
        "id": "DUQeWcg3bpg8",
        "outputId": "a822ee74-d36d-4733-c22f-ab9bb108af4e"
      },
      "execution_count": 51,
      "outputs": [
        {
          "output_type": "error",
          "ename": "NameError",
          "evalue": "name 'colors' is not defined",
          "traceback": [
            "\u001b[0;31m---------------------------------------------------------------------------\u001b[0m",
            "\u001b[0;31mNameError\u001b[0m                                 Traceback (most recent call last)",
            "\u001b[0;32m<ipython-input-51-ea3f270c5e4d>\u001b[0m in \u001b[0;36m<cell line: 2>\u001b[0;34m()\u001b[0m\n\u001b[1;32m      1\u001b[0m \u001b[0;31m# del() 구조 자체를 삭제했기 때문에 오류가 남\u001b[0m\u001b[0;34m\u001b[0m\u001b[0;34m\u001b[0m\u001b[0m\n\u001b[0;32m----> 2\u001b[0;31m \u001b[0;32mdel\u001b[0m\u001b[0;34m(\u001b[0m\u001b[0mcolors\u001b[0m\u001b[0;34m)\u001b[0m\u001b[0;34m\u001b[0m\u001b[0;34m\u001b[0m\u001b[0m\n\u001b[0m\u001b[1;32m      3\u001b[0m \u001b[0mprint\u001b[0m\u001b[0;34m(\u001b[0m\u001b[0mcolors\u001b[0m\u001b[0;34m)\u001b[0m\u001b[0;34m\u001b[0m\u001b[0;34m\u001b[0m\u001b[0m\n",
            "\u001b[0;31mNameError\u001b[0m: name 'colors' is not defined"
          ]
        }
      ]
    },
    {
      "cell_type": "markdown",
      "source": [
        "### 2차원/3차원... 리스트 요소 접근"
      ],
      "metadata": {
        "id": "6aufIO6Hc5WN"
      }
    },
    {
      "cell_type": "code",
      "source": [
        "animals = ['사자', '호랑이', '곰',\n",
        "            ['고양이', '강아지', ['돌고래', '범고래'], '햄스터']\n",
        "           ]\n",
        "print(animals)\n",
        "print(animals[1])\n",
        "print(animals[3])\n",
        "print(animals[3][1])\n",
        "print(animals[3][2][1])"
      ],
      "metadata": {
        "colab": {
          "base_uri": "https://localhost:8080/"
        },
        "id": "7QCZ0RuBcdmt",
        "outputId": "52698e6a-0927-4f90-a8c2-d0d558246597"
      },
      "execution_count": 54,
      "outputs": [
        {
          "output_type": "stream",
          "name": "stdout",
          "text": [
            "['사자', '호랑이', '곰', ['고양이', '강아지', ['돌고래', '범고래'], '햄스터']]\n",
            "호랑이\n",
            "['고양이', '강아지', ['돌고래', '범고래'], '햄스터']\n",
            "강아지\n",
            "범고래\n"
          ]
        }
      ]
    },
    {
      "cell_type": "markdown",
      "source": [
        "### 리스트 길이 (요소의 개수)"
      ],
      "metadata": {
        "id": "x94cqzKMfZsl"
      }
    },
    {
      "cell_type": "code",
      "source": [
        "animals = ['사자', '호랑이', '곰',\n",
        "            ['고양이', '강아지', ['돌고래', '범고래'], '햄스터']\n",
        "           ]\n",
        "print( len(animals) )   # 가장 큰 대괄호의 길이\n",
        "print( len(animals[3]) )    # 인덱스 3번의 길이\n",
        "print( len(animals[3][2]) )"
      ],
      "metadata": {
        "colab": {
          "base_uri": "https://localhost:8080/"
        },
        "id": "ASokpUW4dovc",
        "outputId": "4859da42-f00e-46df-dfa3-35fa4bfed9c9"
      },
      "execution_count": 57,
      "outputs": [
        {
          "output_type": "stream",
          "name": "stdout",
          "text": [
            "4\n",
            "4\n",
            "2\n"
          ]
        }
      ]
    },
    {
      "cell_type": "markdown",
      "source": [
        "### 리스트 함수"
      ],
      "metadata": {
        "id": "9Svpt0wwgCQE"
      }
    },
    {
      "cell_type": "code",
      "source": [
        "colors = ['빨강', '주황', '노랑', '초록', '파랑', '노랑', '검정']\n",
        "print(colors)\n",
        "\n",
        "# 리스트 요소 정렬 (순차정렬 : 가나다 순)\n",
        "colors.sort()\n",
        "print(colors)\n",
        "\n",
        "# 리스트 요소 정렬 (역순정렬)\n",
        "colors.reverse()\n",
        "print(colors)\n",
        "\n",
        "# 리스트의 특정 요소 위치 찾기\n",
        "print(colors.index('빨강'))\n",
        "# 여러개 있을 경우 맨 앞의 인덱스 나타내기\n",
        "print(colors.index('노랑'))\n",
        "\n",
        "# 요소값 개수 세기\n",
        "print(f\"요소값 개수 세기: {colors.count('노랑')}\")\n",
        "\n",
        "# 리스트 정렬해서 새로운 이름으로 저장해서 사용\n",
        "new = sorted(colors)\n",
        "print(new)"
      ],
      "metadata": {
        "colab": {
          "base_uri": "https://localhost:8080/"
        },
        "id": "XujuOnX_fg8b",
        "outputId": "81967be5-0a02-4e4a-e2f4-39b6166ebbfe"
      },
      "execution_count": 63,
      "outputs": [
        {
          "output_type": "stream",
          "name": "stdout",
          "text": [
            "['빨강', '주황', '노랑', '초록', '파랑', '노랑', '검정']\n",
            "['검정', '노랑', '노랑', '빨강', '주황', '초록', '파랑']\n",
            "['파랑', '초록', '주황', '빨강', '노랑', '노랑', '검정']\n",
            "3\n",
            "4\n",
            "요소값 개수 세기: 2\n",
            "['검정', '노랑', '노랑', '빨강', '주황', '초록', '파랑']\n"
          ]
        }
      ]
    },
    {
      "cell_type": "code",
      "source": [
        "colors = ['빨강', '주황', '노랑']\n",
        "newColors = ['red', 'orange', 'yellow']\n",
        "print(colors)\n",
        "print(newColors)\n",
        "\n",
        "# 리스트 두개를 붙임\n",
        "colors.extend(newColors)\n",
        "print(colors)"
      ],
      "metadata": {
        "colab": {
          "base_uri": "https://localhost:8080/"
        },
        "id": "9W6horePgZXb",
        "outputId": "16c6931e-fb4b-4370-dff2-96d6a7353e55"
      },
      "execution_count": 65,
      "outputs": [
        {
          "output_type": "stream",
          "name": "stdout",
          "text": [
            "['빨강', '주황', '노랑']\n",
            "['red', 'orange', 'yellow']\n",
            "['빨강', '주황', '노랑', 'red', 'orange', 'yellow']\n"
          ]
        }
      ]
    },
    {
      "cell_type": "code",
      "source": [
        "colors = ['빨강', '주황', '노랑']\n",
        "newColors = ['red', 'orange', 'yellow']\n",
        "\n",
        "# 리스트 두개를 붙임 (더하기 연산자도 가능)\n",
        "colors += newColors\n",
        "print(colors)"
      ],
      "metadata": {
        "colab": {
          "base_uri": "https://localhost:8080/"
        },
        "id": "aaAcTqn3iYs8",
        "outputId": "993b89a0-a9f4-4ad7-912f-27245f8b70da"
      },
      "execution_count": 67,
      "outputs": [
        {
          "output_type": "stream",
          "name": "stdout",
          "text": [
            "['빨강', '주황', '노랑', 'red', 'orange', 'yellow']\n"
          ]
        }
      ]
    },
    {
      "cell_type": "markdown",
      "source": [
        "## 3-2 딕셔너리 (Dictionary)"
      ],
      "metadata": {
        "id": "RLlMr9Sqk9CL"
      }
    },
    {
      "cell_type": "markdown",
      "source": [
        "### 딕셔너리 자료 생성\n",
        "    \n",
        "*  Key를 통해서 Value에 접근할수 있다.\n",
        "\n"
      ],
      "metadata": {
        "id": "poeSI6oWnnGo"
      }
    },
    {
      "cell_type": "code",
      "source": [
        "# 딕셔너리는 순서가 없어서 인덱스로 접근할 수 없다.\n",
        "# 키로만 접근해야한다.\n",
        "\n",
        "dic = dict()    # 빈 딕셔너리 생성\n",
        "dic = {}        # 빈 딕셔너리 생성\n",
        "print( type(dic) )"
      ],
      "metadata": {
        "colab": {
          "base_uri": "https://localhost:8080/"
        },
        "id": "Q5bJI4LgtXFI",
        "outputId": "8d2ae484-8dd5-48ae-ab31-5dccbe8014d4"
      },
      "execution_count": 107,
      "outputs": [
        {
          "output_type": "stream",
          "name": "stdout",
          "text": [
            "<class 'dict'>\n"
          ]
        }
      ]
    },
    {
      "cell_type": "code",
      "source": [
        "# 딕셔너리는  Key:Value 구조\n",
        "members = {1:'이승철', 2:'박정현', 'BTS':['진','RM','뷔','지민']}\n",
        "print(members)\n",
        "print(members[2])   # 여기서 2는 인덱스가 아닌 키값이다.\n",
        "print(members['BTS'])\n",
        "print(members['BTS'][1])\n",
        "print( len(members) )   # 길이"
      ],
      "metadata": {
        "colab": {
          "base_uri": "https://localhost:8080/"
        },
        "id": "8Rh0NoG1tkBW",
        "outputId": "56c48dfa-b23c-43f5-f320-65ac27f8a280"
      },
      "execution_count": 75,
      "outputs": [
        {
          "output_type": "stream",
          "name": "stdout",
          "text": [
            "{1: '이승철', 2: '박정현', 'BTS': ['진', 'RM', '뷔', '지민']}\n",
            "박정현\n",
            "['진', 'RM', '뷔', '지민']\n",
            "RM\n",
            "3\n"
          ]
        }
      ]
    },
    {
      "cell_type": "code",
      "source": [
        "members = {1:'이승철', 2:'박정현', 'BTS':['진','RM','뷔','지민']}\n",
        "for key in members:\n",
        "    print(key)    # 키만 출력됨\n",
        "    print(members[key])   # 벨류만 출력\n",
        "    print(f\" Key- {key}, Value- {members[key]} \")"
      ],
      "metadata": {
        "colab": {
          "base_uri": "https://localhost:8080/"
        },
        "id": "QGxBnWl4uRB-",
        "outputId": "50907a02-d954-415e-92d4-028698db501b"
      },
      "execution_count": 80,
      "outputs": [
        {
          "output_type": "stream",
          "name": "stdout",
          "text": [
            "1\n",
            "이승철\n",
            " Key- 1, Value- 이승철 \n",
            "2\n",
            "박정현\n",
            " Key- 2, Value- 박정현 \n",
            "BTS\n",
            "['진', 'RM', '뷔', '지민']\n",
            " Key- BTS, Value- ['진', 'RM', '뷔', '지민'] \n"
          ]
        }
      ]
    },
    {
      "cell_type": "markdown",
      "source": [
        "### 딕셔너리에서 자주 사용하는 함수"
      ],
      "metadata": {
        "id": "wqhUzyyywTzl"
      }
    },
    {
      "cell_type": "code",
      "source": [
        "members = {1:'이승철', 2:'박정현', 'BTS':['진','RM','뷔','지민']}\n",
        "print( members.keys() )     # key만 모아둔 것\n",
        "print( members.values() )   # value 모아둔 것\n",
        "print( members.items() )    # (key, value) 쌍으로 모아둔 것"
      ],
      "metadata": {
        "colab": {
          "base_uri": "https://localhost:8080/"
        },
        "id": "WuXRJex1vWTI",
        "outputId": "48cdbd46-875d-4711-9bbd-d90489b56191"
      },
      "execution_count": 81,
      "outputs": [
        {
          "output_type": "stream",
          "name": "stdout",
          "text": [
            "dict_keys([1, 2, 'BTS'])\n",
            "dict_values(['이승철', '박정현', ['진', 'RM', '뷔', '지민']])\n",
            "dict_items([(1, '이승철'), (2, '박정현'), ('BTS', ['진', 'RM', '뷔', '지민'])])\n"
          ]
        }
      ]
    },
    {
      "cell_type": "code",
      "source": [
        "# for (key, value) in members.items():    # 보통 괄호를 쓰지 않음\n",
        "for key, value in members.items():\n",
        "    print(key, value)\n",
        "\n",
        "for key in members.keys():\n",
        "    print(key, members[key])\n",
        "\n",
        "for key in members:\n",
        "    print(key, members[key])"
      ],
      "metadata": {
        "colab": {
          "base_uri": "https://localhost:8080/"
        },
        "id": "nRstWcCbwuul",
        "outputId": "a8286bd3-7894-45f6-a7d5-3d123b5fe69f"
      },
      "execution_count": 85,
      "outputs": [
        {
          "output_type": "stream",
          "name": "stdout",
          "text": [
            "1 이승철\n",
            "2 박정현\n",
            "BTS ['진', 'RM', '뷔', '지민']\n",
            "1 이승철\n",
            "2 박정현\n",
            "BTS ['진', 'RM', '뷔', '지민']\n",
            "1 이승철\n",
            "2 박정현\n",
            "BTS ['진', 'RM', '뷔', '지민']\n"
          ]
        }
      ]
    },
    {
      "cell_type": "markdown",
      "source": [
        "### 딕셔너리에 요소 추가/수정/삭제"
      ],
      "metadata": {
        "id": "CX8N7qVhyF6G"
      }
    },
    {
      "cell_type": "code",
      "source": [
        "members = {1:'이승철', 2:'박정현', 'BTS':['진','RM','뷔','지민']}\n",
        "print(members)\n",
        "\n",
        "# 요소 추가 : 앞에 대괄호 [키] = 뒤에 벨류\n",
        "members[3] = 'NCT Dream'\n",
        "members['소속사'] = ['하이브', 'SM기획']\n",
        "print(members)\n",
        "\n",
        "# 요소 수정\n",
        "members[1] = '세븐틴'\n",
        "print(members)\n",
        "\n",
        "# 요소 삭제\n",
        "del(members['소속사'])\n",
        "print(members)\n",
        "\n",
        "# 딕셔너리 전체 삭제\n",
        "del(members)\n",
        "print(members)"
      ],
      "metadata": {
        "colab": {
          "base_uri": "https://localhost:8080/",
          "height": 257
        },
        "id": "hPLOUDe4w6Rx",
        "outputId": "5af6bf33-a72c-4884-82a9-82e9e03eb858"
      },
      "execution_count": 91,
      "outputs": [
        {
          "output_type": "stream",
          "name": "stdout",
          "text": [
            "{1: '이승철', 2: '박정현', 'BTS': ['진', 'RM', '뷔', '지민']}\n",
            "{1: '이승철', 2: '박정현', 'BTS': ['진', 'RM', '뷔', '지민'], 3: 'NCT Dream', '소속사': ['하이브', 'SM기획']}\n",
            "{1: '세븐틴', 2: '박정현', 'BTS': ['진', 'RM', '뷔', '지민'], 3: 'NCT Dream', '소속사': ['하이브', 'SM기획']}\n",
            "{1: '세븐틴', 2: '박정현', 'BTS': ['진', 'RM', '뷔', '지민'], 3: 'NCT Dream'}\n"
          ]
        },
        {
          "output_type": "error",
          "ename": "NameError",
          "evalue": "name 'members' is not defined",
          "traceback": [
            "\u001b[0;31m---------------------------------------------------------------------------\u001b[0m",
            "\u001b[0;31mNameError\u001b[0m                                 Traceback (most recent call last)",
            "\u001b[0;32m<ipython-input-91-40b43167917e>\u001b[0m in \u001b[0;36m<cell line: 19>\u001b[0;34m()\u001b[0m\n\u001b[1;32m     17\u001b[0m \u001b[0;31m# 딕셔너리 전체 삭제\u001b[0m\u001b[0;34m\u001b[0m\u001b[0;34m\u001b[0m\u001b[0m\n\u001b[1;32m     18\u001b[0m \u001b[0;32mdel\u001b[0m\u001b[0;34m(\u001b[0m\u001b[0mmembers\u001b[0m\u001b[0;34m)\u001b[0m\u001b[0;34m\u001b[0m\u001b[0;34m\u001b[0m\u001b[0m\n\u001b[0;32m---> 19\u001b[0;31m \u001b[0mprint\u001b[0m\u001b[0;34m(\u001b[0m\u001b[0mmembers\u001b[0m\u001b[0;34m)\u001b[0m\u001b[0;34m\u001b[0m\u001b[0;34m\u001b[0m\u001b[0m\n\u001b[0m",
            "\u001b[0;31mNameError\u001b[0m: name 'members' is not defined"
          ]
        }
      ]
    },
    {
      "cell_type": "markdown",
      "source": [
        "## 3-3 튜플 (Tuple)"
      ],
      "metadata": {
        "id": "ZDFk-bxFzfyD"
      }
    },
    {
      "cell_type": "markdown",
      "source": [
        "### 튜플 생성"
      ],
      "metadata": {
        "id": "432Btx7iz3g8"
      }
    },
    {
      "cell_type": "code",
      "source": [
        "tup = tuple()   # 빈 튜플 생성\n",
        "tup = ()        # 빈 튜플 생성\n",
        "print( type(tup) )\n",
        "\n",
        "a = [1,2,3,4]\n",
        "print(a)\n",
        "print( tuple(a) )   # 리스트를 튜플로 변환 (튜플은 소괄호)"
      ],
      "metadata": {
        "colab": {
          "base_uri": "https://localhost:8080/"
        },
        "id": "cnGhdLneyWTT",
        "outputId": "669a0979-003f-46aa-b26a-28a7b8c2fd10"
      },
      "execution_count": 96,
      "outputs": [
        {
          "output_type": "stream",
          "name": "stdout",
          "text": [
            "<class 'tuple'>\n",
            "[1, 2, 3, 4]\n",
            "(1, 2, 3, 4)\n"
          ]
        }
      ]
    },
    {
      "cell_type": "code",
      "source": [
        "tup = ('사과')    # 여기서 소괄호의 의미는 묶음 (string 문자로 인식)\n",
        "print( type(tup) )\n",
        "tup = ('사과',)   # 튜플에서 요소가 하나일때는 반드시 맨뒤에 ,쉼표를 추가해야 함 (그래야 튜플로 이해)\n",
        "print( type(tup) )"
      ],
      "metadata": {
        "colab": {
          "base_uri": "https://localhost:8080/"
        },
        "id": "aGe9GIkh0RPS",
        "outputId": "3681c1c8-8f4b-4bf1-c847-c8093a112a35"
      },
      "execution_count": 98,
      "outputs": [
        {
          "output_type": "stream",
          "name": "stdout",
          "text": [
            "<class 'str'>\n",
            "<class 'tuple'>\n"
          ]
        }
      ]
    },
    {
      "cell_type": "code",
      "source": [
        "help(tuple)   # 도움말"
      ],
      "metadata": {
        "colab": {
          "base_uri": "https://localhost:8080/"
        },
        "id": "pakNDwZO0hut",
        "outputId": "193550bb-0015-4a16-e87e-2be1aa6572f4"
      },
      "execution_count": 100,
      "outputs": [
        {
          "output_type": "stream",
          "name": "stdout",
          "text": [
            "Help on class tuple in module builtins:\n",
            "\n",
            "class tuple(object)\n",
            " |  tuple(iterable=(), /)\n",
            " |  \n",
            " |  Built-in immutable sequence.\n",
            " |  \n",
            " |  If no argument is given, the constructor returns an empty tuple.\n",
            " |  If iterable is specified the tuple is initialized from iterable's items.\n",
            " |  \n",
            " |  If the argument is a tuple, the return value is the same object.\n",
            " |  \n",
            " |  Built-in subclasses:\n",
            " |      asyncgen_hooks\n",
            " |      MonthDayNano\n",
            " |      UnraisableHookArgs\n",
            " |  \n",
            " |  Methods defined here:\n",
            " |  \n",
            " |  __add__(self, value, /)\n",
            " |      Return self+value.\n",
            " |  \n",
            " |  __contains__(self, key, /)\n",
            " |      Return key in self.\n",
            " |  \n",
            " |  __eq__(self, value, /)\n",
            " |      Return self==value.\n",
            " |  \n",
            " |  __ge__(self, value, /)\n",
            " |      Return self>=value.\n",
            " |  \n",
            " |  __getattribute__(self, name, /)\n",
            " |      Return getattr(self, name).\n",
            " |  \n",
            " |  __getitem__(self, key, /)\n",
            " |      Return self[key].\n",
            " |  \n",
            " |  __getnewargs__(self, /)\n",
            " |  \n",
            " |  __gt__(self, value, /)\n",
            " |      Return self>value.\n",
            " |  \n",
            " |  __hash__(self, /)\n",
            " |      Return hash(self).\n",
            " |  \n",
            " |  __iter__(self, /)\n",
            " |      Implement iter(self).\n",
            " |  \n",
            " |  __le__(self, value, /)\n",
            " |      Return self<=value.\n",
            " |  \n",
            " |  __len__(self, /)\n",
            " |      Return len(self).\n",
            " |  \n",
            " |  __lt__(self, value, /)\n",
            " |      Return self<value.\n",
            " |  \n",
            " |  __mul__(self, value, /)\n",
            " |      Return self*value.\n",
            " |  \n",
            " |  __ne__(self, value, /)\n",
            " |      Return self!=value.\n",
            " |  \n",
            " |  __repr__(self, /)\n",
            " |      Return repr(self).\n",
            " |  \n",
            " |  __rmul__(self, value, /)\n",
            " |      Return value*self.\n",
            " |  \n",
            " |  count(self, value, /)\n",
            " |      Return number of occurrences of value.\n",
            " |  \n",
            " |  index(self, value, start=0, stop=9223372036854775807, /)\n",
            " |      Return first index of value.\n",
            " |      \n",
            " |      Raises ValueError if the value is not present.\n",
            " |  \n",
            " |  ----------------------------------------------------------------------\n",
            " |  Class methods defined here:\n",
            " |  \n",
            " |  __class_getitem__(...) from builtins.type\n",
            " |      See PEP 585\n",
            " |  \n",
            " |  ----------------------------------------------------------------------\n",
            " |  Static methods defined here:\n",
            " |  \n",
            " |  __new__(*args, **kwargs) from builtins.type\n",
            " |      Create and return a new object.  See help(type) for accurate signature.\n",
            "\n"
          ]
        }
      ]
    },
    {
      "cell_type": "code",
      "source": [
        "help(list)   # 자료형에 대한 도움말"
      ],
      "metadata": {
        "id": "jb_jdBGO1aH6"
      },
      "execution_count": null,
      "outputs": []
    },
    {
      "cell_type": "markdown",
      "source": [
        "### 튜플은 변수를 정의할 때 / 함수의 파라미터의 정의에 사용"
      ],
      "metadata": {
        "id": "0BUzx9oH2D2F"
      }
    },
    {
      "cell_type": "code",
      "source": [
        "a, b = 100, 200\n",
        "a, b = 100, [1,2,3]\n",
        "print(a)\n",
        "print(b)"
      ],
      "metadata": {
        "colab": {
          "base_uri": "https://localhost:8080/"
        },
        "id": "sC0gFcYF1uPa",
        "outputId": "5399e4d7-b520-4214-d940-9060c453b6b0"
      },
      "execution_count": 104,
      "outputs": [
        {
          "output_type": "stream",
          "name": "stdout",
          "text": [
            "100\n",
            "[1, 2, 3]\n"
          ]
        }
      ]
    },
    {
      "cell_type": "code",
      "source": [
        "def nSum(a, b):   # parameter 파라미터\n",
        "    return a + b\n",
        "\n",
        "nSum(100, 200)    # argument 아규먼트"
      ],
      "metadata": {
        "colab": {
          "base_uri": "https://localhost:8080/"
        },
        "id": "sjgwKHjI2eSC",
        "outputId": "811d5e52-5261-4a80-b38f-95b691f62bb2"
      },
      "execution_count": 106,
      "outputs": [
        {
          "output_type": "execute_result",
          "data": {
            "text/plain": [
              "300"
            ]
          },
          "metadata": {},
          "execution_count": 106
        }
      ]
    },
    {
      "cell_type": "markdown",
      "source": [
        "## 3-4 집합 (Set)"
      ],
      "metadata": {
        "id": "I9ReAU_O3KV8"
      }
    },
    {
      "cell_type": "markdown",
      "source": [
        "### 집합 생성\n",
        "\n",
        "*   집합은 중복된 데이터는 배제한다.\n",
        "*   유니크한 데이터만 남는다.\n",
        "*   순서가 없다.\n",
        "\n"
      ],
      "metadata": {
        "id": "ZVS8byQh3Ous"
      }
    },
    {
      "cell_type": "code",
      "source": [
        "a = set()   # 빈 집합 생성\n",
        "print( type(a) )\n",
        "\n",
        "a = {1,2,3,4,2,2,4}   # 중복된건 배제하고 unique한 데이터만 남는다.\n",
        "print(a)"
      ],
      "metadata": {
        "colab": {
          "base_uri": "https://localhost:8080/"
        },
        "id": "G4pnQuEN290S",
        "outputId": "a27c0f2a-c21a-44bc-f38a-226a1d355c3e"
      },
      "execution_count": 113,
      "outputs": [
        {
          "output_type": "stream",
          "name": "stdout",
          "text": [
            "<class 'set'>\n",
            "{1, 2, 3, 4}\n"
          ]
        }
      ]
    },
    {
      "cell_type": "code",
      "source": [
        "a = [1,2,3,4,5,6,7,2,2,2,3,5,8]\n",
        "print(a)\n",
        "\n",
        "a = list(set(a))\n",
        "print(a)"
      ],
      "metadata": {
        "colab": {
          "base_uri": "https://localhost:8080/",
          "height": 221
        },
        "id": "qYH85m3P509w",
        "outputId": "0f5e38fd-8be0-45b6-bf45-372f28662eb5"
      },
      "execution_count": 124,
      "outputs": [
        {
          "output_type": "stream",
          "name": "stdout",
          "text": [
            "[1, 2, 3, 4, 5, 6, 7, 2, 2, 2, 3, 5, 8]\n"
          ]
        },
        {
          "output_type": "error",
          "ename": "TypeError",
          "evalue": "'list' object is not callable",
          "traceback": [
            "\u001b[0;31m---------------------------------------------------------------------------\u001b[0m",
            "\u001b[0;31mTypeError\u001b[0m                                 Traceback (most recent call last)",
            "\u001b[0;32m<ipython-input-124-fc094dbd6d72>\u001b[0m in \u001b[0;36m<cell line: 4>\u001b[0;34m()\u001b[0m\n\u001b[1;32m      2\u001b[0m \u001b[0mprint\u001b[0m\u001b[0;34m(\u001b[0m\u001b[0ma\u001b[0m\u001b[0;34m)\u001b[0m\u001b[0;34m\u001b[0m\u001b[0;34m\u001b[0m\u001b[0m\n\u001b[1;32m      3\u001b[0m \u001b[0;34m\u001b[0m\u001b[0m\n\u001b[0;32m----> 4\u001b[0;31m \u001b[0ma\u001b[0m \u001b[0;34m=\u001b[0m \u001b[0mlist\u001b[0m\u001b[0;34m(\u001b[0m\u001b[0mset\u001b[0m\u001b[0;34m(\u001b[0m\u001b[0ma\u001b[0m\u001b[0;34m)\u001b[0m\u001b[0;34m)\u001b[0m\u001b[0;34m\u001b[0m\u001b[0;34m\u001b[0m\u001b[0m\n\u001b[0m\u001b[1;32m      5\u001b[0m \u001b[0mprint\u001b[0m\u001b[0;34m(\u001b[0m\u001b[0ma\u001b[0m\u001b[0;34m)\u001b[0m\u001b[0;34m\u001b[0m\u001b[0;34m\u001b[0m\u001b[0m\n",
            "\u001b[0;31mTypeError\u001b[0m: 'list' object is not callable"
          ]
        }
      ]
    },
    {
      "cell_type": "markdown",
      "source": [
        "### 집합에 요소 추가/삭제"
      ],
      "metadata": {
        "id": "828-2wmr7zmI"
      }
    },
    {
      "cell_type": "code",
      "source": [
        "S = {1,2,3,'a','b'}\n",
        "print(S)\n",
        "\n",
        "# 요소 1개 추가\n",
        "S.add(4)\n",
        "print(S)\n",
        "\n",
        "# 요소 여러개 추가 (apple에서 중복되지 않는 유니크한 것만 들어감)\n",
        "S.update(['c','d',5])\n",
        "S.update('apple')\n",
        "print(S)\n",
        "\n",
        "# 요소 1개 삭제 (삭제할때는 apple 하나로 인식)\n",
        "S.discard('a')\n",
        "print(S)\n",
        "S.discard('apple')\n",
        "print(S)\n",
        "# S.discard('p','d')    # 이렇게 사용할 수 없어서 오류남 그래서 한개씩만 삭제함\n",
        "\n",
        "# 특정 요소 삭제\n",
        "S.remove(1)\n",
        "print(S)\n",
        "\n",
        "# 임의의 요소 삭제 (뭐가 삭제될지 모름)\n",
        "S.pop()\n",
        "print(S)"
      ],
      "metadata": {
        "colab": {
          "base_uri": "https://localhost:8080/"
        },
        "id": "VwnHBVJn7TjR",
        "outputId": "2f8ddf3a-9683-4c5a-e9ad-e05de4a9ba23"
      },
      "execution_count": 129,
      "outputs": [
        {
          "output_type": "stream",
          "name": "stdout",
          "text": [
            "{1, 2, 3, 'a', 'b'}\n",
            "{1, 2, 3, 4, 'a', 'b'}\n",
            "{1, 2, 3, 4, 5, 'b', 'e', 'p', 'l', 'a', 'd', 'c'}\n",
            "{1, 2, 3, 4, 5, 'b', 'e', 'p', 'l', 'd', 'c'}\n",
            "{1, 2, 3, 4, 5, 'b', 'e', 'p', 'l', 'd', 'c'}\n",
            "{2, 3, 4, 5, 'b', 'e', 'p', 'l', 'd', 'c'}\n",
            "{3, 4, 5, 'b', 'e', 'p', 'l', 'd', 'c'}\n"
          ]
        }
      ]
    },
    {
      "cell_type": "code",
      "source": [
        "# 집합 전체 삭제\n",
        "del(S)\n",
        "print(S)"
      ],
      "metadata": {
        "colab": {
          "base_uri": "https://localhost:8080/",
          "height": 184
        },
        "id": "wXMPATKm8S7Y",
        "outputId": "916beb00-5047-4e08-e9dd-662fc038d34f"
      },
      "execution_count": 130,
      "outputs": [
        {
          "output_type": "error",
          "ename": "NameError",
          "evalue": "name 'S' is not defined",
          "traceback": [
            "\u001b[0;31m---------------------------------------------------------------------------\u001b[0m",
            "\u001b[0;31mNameError\u001b[0m                                 Traceback (most recent call last)",
            "\u001b[0;32m<ipython-input-130-31f33d23ae24>\u001b[0m in \u001b[0;36m<cell line: 3>\u001b[0;34m()\u001b[0m\n\u001b[1;32m      1\u001b[0m \u001b[0;31m# 집합 전체 삭제\u001b[0m\u001b[0;34m\u001b[0m\u001b[0;34m\u001b[0m\u001b[0m\n\u001b[1;32m      2\u001b[0m \u001b[0;32mdel\u001b[0m\u001b[0;34m(\u001b[0m\u001b[0mS\u001b[0m\u001b[0;34m)\u001b[0m\u001b[0;34m\u001b[0m\u001b[0;34m\u001b[0m\u001b[0m\n\u001b[0;32m----> 3\u001b[0;31m \u001b[0mprint\u001b[0m\u001b[0;34m(\u001b[0m\u001b[0mS\u001b[0m\u001b[0;34m)\u001b[0m\u001b[0;34m\u001b[0m\u001b[0;34m\u001b[0m\u001b[0m\n\u001b[0m",
            "\u001b[0;31mNameError\u001b[0m: name 'S' is not defined"
          ]
        }
      ]
    },
    {
      "cell_type": "markdown",
      "source": [
        "### 교집합/합집합/차집합"
      ],
      "metadata": {
        "id": "qIN6S55i-iSJ"
      }
    },
    {
      "cell_type": "code",
      "source": [
        "S1 = {1,2,3,4,5}\n",
        "S2 = {3,4,5,6,7}\n",
        "print(S1)\n",
        "print(S2)\n",
        "\n",
        "# 교집합\n",
        "print(S1 & S2)\n",
        "print(S1.intersection(S2))\n",
        "\n",
        "# 합집합\n",
        "print(S1 | S2)\n",
        "print(S1.union(S2))\n",
        "\n",
        "# 차집합\n",
        "print(S1 - S2)\n",
        "print(S1.difference(S2))\n",
        "print(S2 - S1)\n",
        "print(S2.difference(S1))"
      ],
      "metadata": {
        "colab": {
          "base_uri": "https://localhost:8080/"
        },
        "id": "4VxD65oA-NM_",
        "outputId": "94f62688-1e21-4d11-91c4-dca9a1b381d2"
      },
      "execution_count": 137,
      "outputs": [
        {
          "output_type": "stream",
          "name": "stdout",
          "text": [
            "{1, 2, 3, 4, 5}\n",
            "{3, 4, 5, 6, 7}\n",
            "{3, 4, 5}\n",
            "{3, 4, 5}\n",
            "{1, 2, 3, 4, 5, 6, 7}\n",
            "{1, 2, 3, 4, 5, 6, 7}\n",
            "{1, 2}\n",
            "{1, 2}\n",
            "{6, 7}\n",
            "{6, 7}\n"
          ]
        }
      ]
    },
    {
      "cell_type": "code",
      "source": [
        "S1 = {1,2,3,4,5}\n",
        "S2 = {3,4,5,6,7}\n",
        "S3 = {5,6,7}\n",
        "print(S1)\n",
        "print(S2)\n",
        "print(S3)\n",
        "\n",
        "# A.intersection_update(B, C) --> 계산 결과를 A로 다시 변경\n",
        "print( S1.intersection_update(S2, S3) )\n",
        "print( S1 )\n",
        "\n",
        "# A.intersection_update(B) --> 계산 결과를 A로 다시 변경\n",
        "print( S1.intersection_update(S2) )\n",
        "print( S1 )"
      ],
      "metadata": {
        "colab": {
          "base_uri": "https://localhost:8080/"
        },
        "id": "znytUVxm_QY_",
        "outputId": "751bce23-46ad-4a9f-c512-0d4e9b89b026"
      },
      "execution_count": 142,
      "outputs": [
        {
          "output_type": "stream",
          "name": "stdout",
          "text": [
            "{1, 2, 3, 4, 5}\n",
            "{3, 4, 5, 6, 7}\n",
            "{5, 6, 7}\n",
            "None\n",
            "{5}\n",
            "None\n",
            "{5}\n"
          ]
        }
      ]
    },
    {
      "cell_type": "code",
      "source": [],
      "metadata": {
        "id": "NkqfHCBOAYnf"
      },
      "execution_count": null,
      "outputs": []
    }
  ]
}