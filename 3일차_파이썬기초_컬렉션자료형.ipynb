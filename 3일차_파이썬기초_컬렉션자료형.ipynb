{
  "nbformat": 4,
  "nbformat_minor": 0,
  "metadata": {
    "colab": {
      "provenance": [],
      "toc_visible": true,
      "authorship_tag": "ABX9TyO/mkJsVpV1PFbdFGBcfI0y",
      "include_colab_link": true
    },
    "kernelspec": {
      "name": "python3",
      "display_name": "Python 3"
    },
    "language_info": {
      "name": "python"
    }
  },
  "cells": [
    {
      "cell_type": "markdown",
      "metadata": {
        "id": "view-in-github",
        "colab_type": "text"
      },
      "source": [
        "<a href=\"https://colab.research.google.com/github/harujem/dataAnalysis/blob/main/3%EC%9D%BC%EC%B0%A8_%ED%8C%8C%EC%9D%B4%EC%8D%AC%EA%B8%B0%EC%B4%88_%EC%BB%AC%EB%A0%89%EC%85%98%EC%9E%90%EB%A3%8C%ED%98%95.ipynb\" target=\"_parent\"><img src=\"https://colab.research.google.com/assets/colab-badge.svg\" alt=\"Open In Colab\"/></a>"
      ]
    },
    {
      "cell_type": "markdown",
      "source": [
        "# 3. 컬렉션 자료형"
      ],
      "metadata": {
        "id": "j32oI3M5OeTi"
      }
    },
    {
      "cell_type": "markdown",
      "source": [
        "## 3-1 리스트"
      ],
      "metadata": {
        "id": "Ofj44ylEOskZ"
      }
    },
    {
      "cell_type": "markdown",
      "source": [
        "### 리스트 생성"
      ],
      "metadata": {
        "id": "K1MuqnvMUDIB"
      }
    },
    {
      "cell_type": "code",
      "execution_count": 3,
      "metadata": {
        "colab": {
          "base_uri": "https://localhost:8080/"
        },
        "id": "wL5xvpNaOdla",
        "outputId": "a59a8ced-9af1-453d-b637-f2fc05a3bd7b"
      },
      "outputs": [
        {
          "output_type": "stream",
          "name": "stdout",
          "text": [
            "<class 'list'>\n",
            "[]\n"
          ]
        }
      ],
      "source": [
        "# 빈 리스트 생성\n",
        "a = []\n",
        "a = list()\n",
        "print(type(a))\n",
        "print(a)"
      ]
    },
    {
      "cell_type": "code",
      "source": [
        "# 초기 데이터 넣고 리스트 생성\n",
        "import math\n",
        "a = [1,2,3,4,5]\n",
        "a = [1, 'apple', '딸기', 3.14, math.pi, max({10,20,30})]\n",
        "b = [1, 2, a, ['사과', '포도'], {'k':'kiwi'}]\n",
        "print(a)\n",
        "print(b)"
      ],
      "metadata": {
        "colab": {
          "base_uri": "https://localhost:8080/"
        },
        "id": "mApk8q5OUNni",
        "outputId": "7a05e6e5-0751-4a25-ce39-37f0f460c59c"
      },
      "execution_count": 8,
      "outputs": [
        {
          "output_type": "stream",
          "name": "stdout",
          "text": [
            "[1, 'apple', '딸기', 3.14, 3.141592653589793, 30]\n",
            "[1, 2, [1, 'apple', '딸기', 3.14, 3.141592653589793, 30], ['사과', '포도'], {'k': 'kiwi'}]\n"
          ]
        }
      ]
    },
    {
      "cell_type": "code",
      "source": [
        "numlist = []\n",
        "for num in range(1,21,2):   # for 반복문, range(): 정수를 순차로 발생시키는 함수 (1부터 21미만까지 2씩 증가해)\n",
        "    numlist.append(num)   # 리스트에 데이터 추가\n",
        "print(numlist)"
      ],
      "metadata": {
        "colab": {
          "base_uri": "https://localhost:8080/"
        },
        "id": "tEzRCfgBUma0",
        "outputId": "482f9ccd-60fa-4c1c-8dc7-4beaa2827c99"
      },
      "execution_count": 16,
      "outputs": [
        {
          "output_type": "stream",
          "name": "stdout",
          "text": [
            "[1, 3, 5, 7, 9, 11, 13, 15, 17, 19]\n"
          ]
        }
      ]
    },
    {
      "cell_type": "code",
      "source": [
        "print(b)\n",
        "for i in b:   # for 반복문 (b란 이름의 리스트 안에있는 요소를 하나씩 출력하는 코드)\n",
        "  print(i)    # 탭키도 문법임 (탭 안하면 프린트가 안됨)"
      ],
      "metadata": {
        "colab": {
          "base_uri": "https://localhost:8080/"
        },
        "id": "VGzamL7uVatP",
        "outputId": "273884f4-619f-4381-c004-5e342a05f9ce"
      },
      "execution_count": 15,
      "outputs": [
        {
          "output_type": "stream",
          "name": "stdout",
          "text": [
            "[1, 2, [1, 'apple', '딸기', 3.14, 3.141592653589793, 30], ['사과', '포도'], {'k': 'kiwi'}]\n",
            "1\n",
            "2\n",
            "[1, 'apple', '딸기', 3.14, 3.141592653589793, 30]\n",
            "['사과', '포도']\n",
            "{'k': 'kiwi'}\n"
          ]
        }
      ]
    },
    {
      "cell_type": "code",
      "source": [
        "# 리스트는 인덱스로 요소에 접근할 수 있고 인덱스라는건 슬라이싱도 가능\n",
        "\n",
        "colors = ['빨강', '주황', '노랑', '초록', '파랑']\n",
        "print( colors[0] )\n",
        "print( colors[2:4] )\n",
        "print( colors[::-1] )   # 거꾸로 정렬\n",
        "\n",
        "for color in colors:\n",
        "    print(f\"나는 '{color}' 색상을 좋아합니다.\")"
      ],
      "metadata": {
        "colab": {
          "base_uri": "https://localhost:8080/"
        },
        "id": "QbR7G0DIWTpi",
        "outputId": "4b6bc332-3db0-4bf9-e8e8-d5ad64661ae3"
      },
      "execution_count": 22,
      "outputs": [
        {
          "output_type": "stream",
          "name": "stdout",
          "text": [
            "빨강\n",
            "['노랑', '초록']\n",
            "['파랑', '초록', '노랑', '주황', '빨강']\n",
            "나는 '빨강' 색상을 좋아합니다.\n",
            "나는 '주황' 색상을 좋아합니다.\n",
            "나는 '노랑' 색상을 좋아합니다.\n",
            "나는 '초록' 색상을 좋아합니다.\n",
            "나는 '파랑' 색상을 좋아합니다.\n"
          ]
        }
      ]
    },
    {
      "cell_type": "markdown",
      "source": [
        "### 리스트 요소 추가"
      ],
      "metadata": {
        "id": "DdYdtxa-YpDm"
      }
    },
    {
      "cell_type": "code",
      "source": [
        "print(colors)\n",
        "\n",
        "# 인덱스 2 위치에 '분홍'넣기\n",
        "colors.insert(2, '분홍')\n",
        "print(colors)\n",
        "\n",
        "# 맨 뒤에 추가하기\n",
        "colors.append('보라')\n",
        "print(colors)"
      ],
      "metadata": {
        "colab": {
          "base_uri": "https://localhost:8080/"
        },
        "id": "91_ZABp5Z0AW",
        "outputId": "d0a890d0-7fa9-454f-8b7d-d3d06f466631"
      },
      "execution_count": 38,
      "outputs": [
        {
          "output_type": "stream",
          "name": "stdout",
          "text": [
            "['빨강', '브', '분홍', '분홍', '라', '운', '스카이', '스카이', '분홍', '분홍', '분홍', '노랑', '초록', '파랑', '보라', '보라', '보라', '보라', '보라']\n",
            "['빨강', '브', '분홍', '분홍', '분홍', '라', '운', '스카이', '스카이', '분홍', '분홍', '분홍', '노랑', '초록', '파랑', '보라', '보라', '보라', '보라', '보라']\n",
            "['빨강', '브', '분홍', '분홍', '분홍', '라', '운', '스카이', '스카이', '분홍', '분홍', '분홍', '노랑', '초록', '파랑', '보라', '보라', '보라', '보라', '보라', '보라']\n"
          ]
        }
      ]
    },
    {
      "cell_type": "markdown",
      "source": [
        "### 리스트 특정 위치의 요소값 변경"
      ],
      "metadata": {
        "id": "UjMy5UVhZd6O"
      }
    },
    {
      "cell_type": "code",
      "source": [
        "colors = ['빨강', '주황', '노랑', '초록', '파랑']\n",
        "\n",
        "colors[3] = '스카이'\n",
        "print(colors)\n",
        "colors[1:3] = '브라운'\n",
        "print(colors)\n",
        "colors[1:3] = ['브라운', '남색']\n",
        "print(colors)\n",
        "colors[1:4] = '브라운'    # 주의! 인덱스 개수가 다르면 대체가 안되고 없어짐\n",
        "print(colors)"
      ],
      "metadata": {
        "colab": {
          "base_uri": "https://localhost:8080/"
        },
        "id": "s4xjUuPqY7yV",
        "outputId": "318a0fa5-439f-43ad-90cc-69525bd12ed2"
      },
      "execution_count": 42,
      "outputs": [
        {
          "output_type": "stream",
          "name": "stdout",
          "text": [
            "['빨강', '주황', '노랑', '스카이', '파랑']\n",
            "['빨강', '브', '라', '운', '스카이', '파랑']\n",
            "['빨강', '브라운', '남색', '운', '스카이', '파랑']\n",
            "['빨강', '브', '라', '운', '스카이', '파랑']\n"
          ]
        }
      ]
    },
    {
      "cell_type": "markdown",
      "source": [
        "### 리스트의 요소 삭제"
      ],
      "metadata": {
        "id": "O7CdYBEzbXm-"
      }
    },
    {
      "cell_type": "code",
      "source": [
        "colors = ['빨강', '주황', '노랑', '초록', '파랑', '노랑']\n",
        "\n",
        "# 맨 뒤에 있는 것 삭제(꺼내기)\n",
        "colors.pop()\n",
        "print(colors)\n",
        "\n",
        "# 요소값과 일치하는 것 삭제\n",
        "colors.remove('노랑')\n",
        "print(colors)\n",
        "\n",
        " # 전체 요소 삭제\n",
        " colors.clear()\n",
        " print(colors)"
      ],
      "metadata": {
        "colab": {
          "base_uri": "https://localhost:8080/"
        },
        "id": "fdmr-JJEZnEV",
        "outputId": "ef316608-64ca-4774-9494-5a594187fafa"
      },
      "execution_count": 44,
      "outputs": [
        {
          "output_type": "stream",
          "name": "stdout",
          "text": [
            "['빨강', '주황', '노랑', '초록', '파랑']\n",
            "['빨강', '주황', '초록', '파랑']\n"
          ]
        }
      ]
    },
    {
      "cell_type": "markdown",
      "source": [
        "### 리스트 자체 삭제"
      ],
      "metadata": {
        "id": "V4irIv_gctQ2"
      }
    },
    {
      "cell_type": "code",
      "source": [
        " # del() 구조 자체를 삭제했기 때문에 오류가 남\n",
        " del(colors)\n",
        " print(colors)"
      ],
      "metadata": {
        "colab": {
          "base_uri": "https://localhost:8080/",
          "height": 184
        },
        "id": "DUQeWcg3bpg8",
        "outputId": "a822ee74-d36d-4733-c22f-ab9bb108af4e"
      },
      "execution_count": 51,
      "outputs": [
        {
          "output_type": "error",
          "ename": "NameError",
          "evalue": "name 'colors' is not defined",
          "traceback": [
            "\u001b[0;31m---------------------------------------------------------------------------\u001b[0m",
            "\u001b[0;31mNameError\u001b[0m                                 Traceback (most recent call last)",
            "\u001b[0;32m<ipython-input-51-ea3f270c5e4d>\u001b[0m in \u001b[0;36m<cell line: 2>\u001b[0;34m()\u001b[0m\n\u001b[1;32m      1\u001b[0m \u001b[0;31m# del() 구조 자체를 삭제했기 때문에 오류가 남\u001b[0m\u001b[0;34m\u001b[0m\u001b[0;34m\u001b[0m\u001b[0m\n\u001b[0;32m----> 2\u001b[0;31m \u001b[0;32mdel\u001b[0m\u001b[0;34m(\u001b[0m\u001b[0mcolors\u001b[0m\u001b[0;34m)\u001b[0m\u001b[0;34m\u001b[0m\u001b[0;34m\u001b[0m\u001b[0m\n\u001b[0m\u001b[1;32m      3\u001b[0m \u001b[0mprint\u001b[0m\u001b[0;34m(\u001b[0m\u001b[0mcolors\u001b[0m\u001b[0;34m)\u001b[0m\u001b[0;34m\u001b[0m\u001b[0;34m\u001b[0m\u001b[0m\n",
            "\u001b[0;31mNameError\u001b[0m: name 'colors' is not defined"
          ]
        }
      ]
    },
    {
      "cell_type": "markdown",
      "source": [
        "### 2차원/3차원... 리스트 요소 접근"
      ],
      "metadata": {
        "id": "6aufIO6Hc5WN"
      }
    },
    {
      "cell_type": "code",
      "source": [
        "animals = ['사자', '호랑이', '곰',\n",
        "            ['고양이', '강아지', ['돌고래', '범고래'], '햄스터']\n",
        "           ]\n",
        "print(animals)\n",
        "print(animals[1])\n",
        "print(animals[3])\n",
        "print(animals[3][1])\n",
        "print(animals[3][2][1])"
      ],
      "metadata": {
        "colab": {
          "base_uri": "https://localhost:8080/"
        },
        "id": "7QCZ0RuBcdmt",
        "outputId": "52698e6a-0927-4f90-a8c2-d0d558246597"
      },
      "execution_count": 54,
      "outputs": [
        {
          "output_type": "stream",
          "name": "stdout",
          "text": [
            "['사자', '호랑이', '곰', ['고양이', '강아지', ['돌고래', '범고래'], '햄스터']]\n",
            "호랑이\n",
            "['고양이', '강아지', ['돌고래', '범고래'], '햄스터']\n",
            "강아지\n",
            "범고래\n"
          ]
        }
      ]
    },
    {
      "cell_type": "markdown",
      "source": [
        "### 리스트 길이 (요소의 개수)"
      ],
      "metadata": {
        "id": "x94cqzKMfZsl"
      }
    },
    {
      "cell_type": "code",
      "source": [
        "animals = ['사자', '호랑이', '곰',\n",
        "            ['고양이', '강아지', ['돌고래', '범고래'], '햄스터']\n",
        "           ]\n",
        "print( len(animals) )   # 가장 큰 대괄호의 길이\n",
        "print( len(animals[3]) )    # 인덱스 3번의 길이\n",
        "print( len(animals[3][2]) )"
      ],
      "metadata": {
        "colab": {
          "base_uri": "https://localhost:8080/"
        },
        "id": "ASokpUW4dovc",
        "outputId": "4859da42-f00e-46df-dfa3-35fa4bfed9c9"
      },
      "execution_count": 57,
      "outputs": [
        {
          "output_type": "stream",
          "name": "stdout",
          "text": [
            "4\n",
            "4\n",
            "2\n"
          ]
        }
      ]
    },
    {
      "cell_type": "markdown",
      "source": [
        "### 리스트 함수"
      ],
      "metadata": {
        "id": "9Svpt0wwgCQE"
      }
    },
    {
      "cell_type": "code",
      "source": [
        "colors = ['빨강', '주황', '노랑', '초록', '파랑', '노랑', '검정']\n",
        "print(colors)\n",
        "\n",
        "# 리스트 요소 정렬 (순차정렬 : 가나다 순)\n",
        "colors.sort()\n",
        "print(colors)\n",
        "\n",
        "# 리스트 요소 정렬 (역순정렬)\n",
        "colors.reverse()\n",
        "print(colors)\n",
        "\n",
        "# 리스트의 특정 요소 위치 찾기\n",
        "print(colors.index('빨강'))\n",
        "# 여러개 있을 경우 맨 앞의 인덱스 나타내기\n",
        "print(colors.index('노랑'))\n",
        "\n",
        "# 요소값 개수 세기\n",
        "print(f\"요소값 개수 세기: {colors.count('노랑')}\")\n",
        "\n",
        "# 리스트 정렬해서 새로운 이름으로 저장해서 사용\n",
        "new = sorted(colors)\n",
        "print(new)"
      ],
      "metadata": {
        "colab": {
          "base_uri": "https://localhost:8080/"
        },
        "id": "XujuOnX_fg8b",
        "outputId": "81967be5-0a02-4e4a-e2f4-39b6166ebbfe"
      },
      "execution_count": 63,
      "outputs": [
        {
          "output_type": "stream",
          "name": "stdout",
          "text": [
            "['빨강', '주황', '노랑', '초록', '파랑', '노랑', '검정']\n",
            "['검정', '노랑', '노랑', '빨강', '주황', '초록', '파랑']\n",
            "['파랑', '초록', '주황', '빨강', '노랑', '노랑', '검정']\n",
            "3\n",
            "4\n",
            "요소값 개수 세기: 2\n",
            "['검정', '노랑', '노랑', '빨강', '주황', '초록', '파랑']\n"
          ]
        }
      ]
    },
    {
      "cell_type": "code",
      "source": [
        "colors = ['빨강', '주황', '노랑']\n",
        "newColors = ['red', 'orange', 'yellow']\n",
        "print(colors)\n",
        "print(newColors)\n",
        "\n",
        "# 리스트 두개를 붙임\n",
        "colors.extend(newColors)\n",
        "print(colors)"
      ],
      "metadata": {
        "colab": {
          "base_uri": "https://localhost:8080/"
        },
        "id": "9W6horePgZXb",
        "outputId": "16c6931e-fb4b-4370-dff2-96d6a7353e55"
      },
      "execution_count": 65,
      "outputs": [
        {
          "output_type": "stream",
          "name": "stdout",
          "text": [
            "['빨강', '주황', '노랑']\n",
            "['red', 'orange', 'yellow']\n",
            "['빨강', '주황', '노랑', 'red', 'orange', 'yellow']\n"
          ]
        }
      ]
    },
    {
      "cell_type": "code",
      "source": [
        "colors = ['빨강', '주황', '노랑']\n",
        "newColors = ['red', 'orange', 'yellow']\n",
        "\n",
        "# 리스트 두개를 붙임 (더하기 연산자도 가능)\n",
        "colors += newColors\n",
        "print(colors)"
      ],
      "metadata": {
        "colab": {
          "base_uri": "https://localhost:8080/"
        },
        "id": "aaAcTqn3iYs8",
        "outputId": "993b89a0-a9f4-4ad7-912f-27245f8b70da"
      },
      "execution_count": 67,
      "outputs": [
        {
          "output_type": "stream",
          "name": "stdout",
          "text": [
            "['빨강', '주황', '노랑', 'red', 'orange', 'yellow']\n"
          ]
        }
      ]
    },
    {
      "cell_type": "markdown",
      "source": [
        "## 3-2 딕셔너리 (Dictionary)"
      ],
      "metadata": {
        "id": "RLlMr9Sqk9CL"
      }
    },
    {
      "cell_type": "markdown",
      "source": [
        "###"
      ],
      "metadata": {
        "id": "poeSI6oWnnGo"
      }
    },
    {
      "cell_type": "code",
      "source": [],
      "metadata": {
        "id": "Z-dRyZJFjI9a"
      },
      "execution_count": null,
      "outputs": []
    }
  ]
}