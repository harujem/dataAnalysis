{
  "nbformat": 4,
  "nbformat_minor": 0,
  "metadata": {
    "colab": {
      "provenance": [],
      "toc_visible": true,
      "authorship_tag": "ABX9TyNtmB7mIX68XXwNecqmi0JF",
      "include_colab_link": true
    },
    "kernelspec": {
      "name": "python3",
      "display_name": "Python 3"
    },
    "language_info": {
      "name": "python"
    }
  },
  "cells": [
    {
      "cell_type": "markdown",
      "metadata": {
        "id": "view-in-github",
        "colab_type": "text"
      },
      "source": [
        "<a href=\"https://colab.research.google.com/github/harujem/dataAnalysis/blob/main/7%EC%9D%BC%EC%B0%A8_%ED%8C%8C%EC%9D%B4%EC%8D%AC%EA%B8%B0%EC%B4%88_%ED%81%B4%EB%9E%98%EC%8A%A4.ipynb\" target=\"_parent\"><img src=\"https://colab.research.google.com/assets/colab-badge.svg\" alt=\"Open In Colab\"/></a>"
      ]
    },
    {
      "cell_type": "markdown",
      "source": [
        "# 7.클래스"
      ],
      "metadata": {
        "id": "FKi5piTm-wk5"
      }
    },
    {
      "cell_type": "code",
      "execution_count": null,
      "metadata": {
        "colab": {
          "base_uri": "https://localhost:8080/"
        },
        "id": "qRbjRjYo-sxf",
        "outputId": "80239478-70b7-463c-b861-249cc41f996b"
      },
      "outputs": [
        {
          "output_type": "stream",
          "name": "stdout",
          "text": [
            "<class 'list'>\n"
          ]
        }
      ],
      "source": [
        "data1 = list()   # list 는 어딘가 클래스로 만들어져 있다. list 는 일종의 class 이다.\n",
        "data2 = list()   # list 라는 클래스를 가져다 사용하는 data1, data2 는 인스턴스이다.\n",
        "print(type(data))\n",
        "\n",
        "data1.append(100)   # 생성하여 지정한 인스턴스에 속성을 바꿀 수 있다.\n",
        "data2.append(200)"
      ]
    },
    {
      "cell_type": "code",
      "source": [
        "# help(list)"
      ],
      "metadata": {
        "id": "WpScisSB-7xS"
      },
      "execution_count": null,
      "outputs": []
    },
    {
      "cell_type": "markdown",
      "source": [
        "## 생성자 - 초기화시키는 함수"
      ],
      "metadata": {
        "id": "7v1fKHB4BQcg"
      }
    },
    {
      "cell_type": "code",
      "source": [
        "class Car:\n",
        "    color = \"\"\n",
        "    speed = 0\n",
        "\n",
        "    def __init__(self):     # 던더 인잇 던더\n",
        "        self.color = \"빨강\"\n",
        "        self.speed = 0"
      ],
      "metadata": {
        "id": "m1pE_GIBBWnU"
      },
      "execution_count": null,
      "outputs": []
    }
  ]
}