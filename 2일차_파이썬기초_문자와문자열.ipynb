{
  "nbformat": 4,
  "nbformat_minor": 0,
  "metadata": {
    "colab": {
      "provenance": [],
      "toc_visible": true,
      "authorship_tag": "ABX9TyM9zeTjyjLN5J6O6NcLm62B",
      "include_colab_link": true
    },
    "kernelspec": {
      "name": "python3",
      "display_name": "Python 3"
    },
    "language_info": {
      "name": "python"
    }
  },
  "cells": [
    {
      "cell_type": "markdown",
      "metadata": {
        "id": "view-in-github",
        "colab_type": "text"
      },
      "source": [
        "<a href=\"https://colab.research.google.com/github/harujem/dataAnalysis/blob/main/2%EC%9D%BC%EC%B0%A8_%ED%8C%8C%EC%9D%B4%EC%8D%AC%EA%B8%B0%EC%B4%88_%EB%AC%B8%EC%9E%90%EC%99%80%EB%AC%B8%EC%9E%90%EC%97%B4.ipynb\" target=\"_parent\"><img src=\"https://colab.research.google.com/assets/colab-badge.svg\" alt=\"Open In Colab\"/></a>"
      ]
    },
    {
      "cell_type": "markdown",
      "source": [
        "# 1. 파이썬 자료형과 연산"
      ],
      "metadata": {
        "id": "5IKfxYpdGge7"
      }
    },
    {
      "cell_type": "markdown",
      "source": [
        "## 문자열"
      ],
      "metadata": {
        "id": "7z5uI148OsY5"
      }
    },
    {
      "cell_type": "code",
      "execution_count": 4,
      "metadata": {
        "colab": {
          "base_uri": "https://localhost:8080/"
        },
        "id": "iMHBXNQfFqiu",
        "outputId": "7d5db0ed-18a3-477b-8498-2d4b653047c7"
      },
      "outputs": [
        {
          "output_type": "stream",
          "name": "stdout",
          "text": [
            "사과\n",
            "사과\n",
            "Yes, I can't\n",
            "\"사과는 정말 맛있지?\"라고 이야기 했다.\n"
          ]
        }
      ],
      "source": [
        "# 큰 따옴표(or 작은 따옴표)로 표시\n",
        "# 큰 따옴표 안에는 작은 따옴표, 작은 따옴표 안에는 큰 따옴표\n",
        "a = '사과'\n",
        "b = \"사과\"\n",
        "c = \"Yes, I can't\"\n",
        "d = '\"사과는 정말 맛있지?\"라고 이야기 했다.'\n",
        "\n",
        "print(a)\n",
        "print(b)\n",
        "print(c)\n",
        "print(d)"
      ]
    },
    {
      "cell_type": "code",
      "source": [
        "# 한줄 이상 문장 --> 따옴표 3개 사용\n",
        "menu = ''' 파이썬 카페 메뉴판\n",
        "- 아메리카노 : 1,000원\n",
        "- 카페라떼 : 2,000원\n",
        "- 카페모카 : 3,000원 '''\n",
        "\n",
        "coffee = input(f'{menu}\\n  주문하실 메뉴를 골라주세요: ')     # \\n 한칸 내려감\n",
        "print(f\"{'-' * 30}\\n  주문하신 메뉴는 '{coffee}' 입니다.\")"
      ],
      "metadata": {
        "colab": {
          "base_uri": "https://localhost:8080/"
        },
        "id": "nqHptpqcRfVG",
        "outputId": "af07c4bd-503d-44ce-e98d-0eda8b8c01bb"
      },
      "execution_count": 15,
      "outputs": [
        {
          "output_type": "stream",
          "name": "stdout",
          "text": [
            " 파이썬 카페 메뉴판\n",
            "- 아메리카노 : 1,000원\n",
            "- 카페라떼 : 2,000원\n",
            "- 카페모카 : 3,000원 \n",
            "  주문하실 메뉴를 골라주세요: 아메리카노\n",
            "------------------------------\n",
            "  주문하신 메뉴는 '아메리카노' 입니다.\n"
          ]
        }
      ]
    },
    {
      "cell_type": "markdown",
      "source": [
        "## gTTS 모듈 사용하여 텍스트를 음성으로 읽어주기"
      ],
      "metadata": {
        "id": "4brORzVIU5IC"
      }
    },
    {
      "cell_type": "code",
      "source": [
        "!pip install gTTs"
      ],
      "metadata": {
        "colab": {
          "base_uri": "https://localhost:8080/"
        },
        "id": "ELccUVW7SAUU",
        "outputId": "d0bcfa8a-47ed-4ecb-b4a0-e2261f39452e"
      },
      "execution_count": 11,
      "outputs": [
        {
          "output_type": "stream",
          "name": "stdout",
          "text": [
            "Collecting gTTs\n",
            "  Downloading gTTS-2.5.1-py3-none-any.whl (29 kB)\n",
            "Requirement already satisfied: requests<3,>=2.27 in /usr/local/lib/python3.10/dist-packages (from gTTs) (2.31.0)\n",
            "Requirement already satisfied: click<8.2,>=7.1 in /usr/local/lib/python3.10/dist-packages (from gTTs) (8.1.7)\n",
            "Requirement already satisfied: charset-normalizer<4,>=2 in /usr/local/lib/python3.10/dist-packages (from requests<3,>=2.27->gTTs) (3.3.2)\n",
            "Requirement already satisfied: idna<4,>=2.5 in /usr/local/lib/python3.10/dist-packages (from requests<3,>=2.27->gTTs) (3.6)\n",
            "Requirement already satisfied: urllib3<3,>=1.21.1 in /usr/local/lib/python3.10/dist-packages (from requests<3,>=2.27->gTTs) (2.0.7)\n",
            "Requirement already satisfied: certifi>=2017.4.17 in /usr/local/lib/python3.10/dist-packages (from requests<3,>=2.27->gTTs) (2024.2.2)\n",
            "Installing collected packages: gTTs\n",
            "Successfully installed gTTs-2.5.1\n"
          ]
        }
      ]
    },
    {
      "cell_type": "code",
      "source": [
        "from gtts import gTTS\n",
        "from IPython.display import Audio\n",
        "\n",
        "# eng_wav = gTTS('Hello World!')\n",
        "# eng_wav.save('eng.wav')\n",
        "# kor_wav = gTTS('안녕 세상아!', lang = 'ko')\n",
        "kor_wav = gTTS(menu, lang = 'ko')\n",
        "kor_wav.save('kor.wav')\n",
        "\n",
        "display(Audio('kor.wav', autoplay=True))"
      ],
      "metadata": {
        "colab": {
          "base_uri": "https://localhost:8080/",
          "height": 74
        },
        "id": "FfPSaGedUtJd",
        "outputId": "f7da317d-4a17-4180-e9a5-3fbf4d31d323"
      },
      "execution_count": 16,
      "outputs": [
        {
          "output_type": "display_data",
          "data": {
            "text/plain": [
              "<IPython.lib.display.Audio object>"
            ],
            "text/html": [
              "\n",
              "                <audio  controls=\"controls\" autoplay=\"autoplay\">\n",
              "                    <source src=\"data:audio/x-wav;base64,//NExAAQuNYwAHjGcD2ByGIn0PVd3794rGQQiAAAAAYGBgYGBgYGBgAAAAAAAAAAAAYGBgbu4d0RERAggEwfB8Hz7gxy4Pg+H/L+oEAwIDIChzgu2joSX9dOJuzJZU/V//NExBASiOI0ANGEcDHCgYKOJESxqKKJE0tkqOpkTZkbbc50JVg0iHweAsMC6NSmNKo/IayKUijNY2KIY9yDrQ7/pq9P0sTVMniT8RSncdmD/0lHAkfafYlVnOlsVas1//NExBgSiQ44AVsYAElDQXcZXUAB0DiilIUHA2isE8lFwjluCDv6NFMULiUH2DgxNLCh97yHR5e/o69HilnLqjamhNU1xpfU6smRajL96dpx4tQ2cqeUzgPJQBUlpNIl//NExCAWaWpEAZswAKpksjuXiZU4nGVvLZC3ycbGRfSCWxheTmd2/v+nyP851tUCUORggc6wRKR71fp1iYY1Hv3/kyO8WMWBcE+ZGDzW6SnuwHQvHT9r17b2pqNCUJYw//NExBkXMXqQAZiAABFADgQa6GgYpSSIiThtoNMGc9IoaKLjN9BNNapdPF8mEG/700DdBmQMC+ZfopeBBcXPf6gQHvMIACwEDn/S76QwUARFI2LyM+j+trVrNKzPk9Cy//NExA8WUXKgAc9IAKo21WyElQ4v5nKwUgHOkyEiJRXJHSSll9ucrb9/JQpS5QKQqaFEh1dvWPfv/PDKjvhai6WPBAIjmIfto0n9baNMolRxSn6EYcZklT5UpUAAwAeH//NExAgTuTKkAHvMcIUPwli08TJc1pYbx6z7NYKxCLnSQx6xFAuUcrUWhUYSHJX2vGzYL/Zt8Y/Tbek8rMJchtx/2PYomoKIeBSocT/8vd/1tlA8mcJIc6KIWnpKBTta//NExAwVWXqwAMYKlIBplXBCe1G42IgkxWWuKPLkMRTkQBy6BknUo7VM4ncvd/Pcxz/pO/pcQHUGnjAJQ4usBB0o9qCmfiDVTGi+L7f/bbP/4XUYGqJ1xyg0qxx3Lg8J//NExAkUGYq4AM4OlHtNwWbhNkJsrqO2CDyGtAcc/SsisWOTuNt9dX0V68az5/Uk5+rve3C9S7VGzwgbCM7H2yLUNyuefnkaEEoWbJf22Xf7lvV9KvqEAEGNVJErxgbB//NExAsRCVrAAHvOlKl8ALC1k7Q0o3SaV1g3rawlt9fWa6RKi3cd7lW7TnC4eUDNh8tiMWqOcvntm98q+RUo8u4t//t/9FX90htU3nYmJSn7yWxQG3HEU4GWC2sma4/q//NExBkSaW60AMPWlF12/H56xfpXT1XZcr8nhN4OGNRgodvG2mUIFsplvRIvTj1PmOVbvdvy6KVMFf///LLeoNEEr/3GMl8KWoVHXF11siKicUGWeN6i9mLZg8yKOYvO//NExCISIWa0AMtSlATYvVBLM6TCTxFTrpneV/w63NWvqf9w/xvIs76N2o////+3///+mssYaMaRM6legFawxWHAU8+clZZcm6i3MejnDfMmrPOtAkVODdBjeXd7Q/rN//NExCwR8WasAMtSlP5C7FwopEqGIdC36n/Fn9bdVc9P+S//////6ar830MeYeIt5jZ2FZsrtY/BIdUUPjmrd8x8nnC+gHFnEIRUtdEdNynqP1F9BycP6S0SAzqetF6R//NExDcREW6oAMnalPakb1GT3fq//s///qqq/T1gmVKG4o2NM166228HHEQXFqMrVbTS/3ex1SOqkDQHS8pX7Hcm1vQqZIInPNQ6o8ip64f/0f35A57wxklV9P9lqtgV//NExEUQwRKsAMlWcIgEcPJkkiana+v///+Wwov/+9f//+b83pvu7pIzZyNzsTIRJ10ohD6mV2DuDPnK5XABpTuQiDHBiyFAwQg6OAM0OdLkABDEEK3KApbf//////6///NExFUSqxK4AFhEuf/n6j+NY7r6WtG4Zu7i7thoinG28EirHW7TBcnluHAjkCwVYfIncNjKEERxpRogCIwuKj2BYIgkQPzBphOKIsQL//////b6abUZj3d2Weahm5zj//NExF0SKx64ACgQvJNJigYOEs9BoN0KDpBBgaIYaxYqTE43Ki4RhsA6D1xHFNx8kEorDwhFwQERuOgtFZ4446UB1xrk//////z/H///3//+lzdq4f8msLPEXB2kbqwX//NExGcSoxq0AAgOvTUcHxMIR5LtB8jFHwLFiowGwcGjJPWRpwdiEISCVA4GKJBDNHlzjHEEWJDgy+keDZw83F7cE69Z8y0Lg0MyOWKnkiRTy/8Hyy+/zL7NVRNdnZm///NExG8SQyK8AAgQvGxG/l7u09lVGJXhHGJG81yrlFpZiQGGNNIlotqZFW+cZ3iu7lzGzhaMo4dpHKJETUZSAheVhycoz+BKyp1hj6iKCkAKlABNQDUCAY5IEUYkxhMy//NExHkYQx60AEhMvF8kACziqe4dceo9a9ITAJQn6JhZtqeJXDBN6MlvneviTdb7+b/W879ZzEHCc6MggKKQAxdhMDyh8HEWFBXYvoY0pfarUd2broqrr5WT0OrnMco4//NExGsc8m6kAMvKuGON/wapQPM+VvuswNvoeQn4maY1enR4PoGBJUl+TOT14ABBIFgaoNtC+oIKirLgrgIlFxykJq7FEhNz1RX0SpnT2g9ZpmJXoC+ScoAEyGghRAwe//NExEoacnqoAMzOuHAsPjoUU8Uh7oe2v/ndu3exn///9TVcqpViVVfI/equx1BINpZblUHjb2KLjk5VR0MRqkbA3PJZyMEenkwlnkS0HVK9Mgmo1zNttS6tm5+PhmwH//NExDMSkW64AMwElEXUTgTUASKDHr/79VNP6pSLiUUFzjn6qu8nw0JQeilQle3XJTJx6zERUL0wA/Nc+DXtsMV/H45EdWzDjyTfdd/x/8D8afL31fC1ZA14x8LXBWhQ//NExDsSeVq0AMPKlLPMzn///xzHmh5meNt719V3gEMSSZNlSMt0AUGEw6/1QwpoCvHnEqkDG3hE5zFE+ZtymVvDVF/at+8T+g+go+bV6DUhMBhapqo+R5xZIQBnUY9n//NExEQSoWawANPKlP//9ehYlpWliS8TPYdKxbyuQEqW0ZjCxxBM99LPkp88QVsA9PVs1e4kgNpJfO4vX0+T2ZSuzi41Hez5lYEecYrTdsvK+Z1KJv/////ol0CprHaC//NExEwRgWacANsElKUOzLSQoMWIX4kCI5EK36R5ZuUAzaYL84+j2vhfyKBm2838wq+jrfb9YmJTCUqD8WsEYB2Yv3t9/ae08jR///p/3MNrqPugkNowgto4YjFQRA2///NExFkSgXKMANvOlGwhUowXRdS7wFMcPeA2Zu1a/Sf2kK7yLfQlz6Z+En64lrkcsGR4vMEJjBIrQR3VDhN33J7f/QHv9QeNqpmPEIBMzRFId9BCBTJ4CbeRGFgIi1S0//NExGISiPqEAOPScNJ+3GjFNUFKP1I5MrJxu8recN8rPVGedKNEiLdEeR9Zi13//9Hv93///T///1I9eEJ+uqq3KUvzJc8GiU0wLBdGyM0hhkJRavMZ91DQWICcAKbd//NExGoSkj6IAONEuLTR65R3r9xwSuzXk1WNOksd61/6/t+Rv//+5X///+uip5BZU67xItFPUKgAwoRTXEvBxQBQaMCgAtCxRTVI1bkalNbcy/JRIYwE7FCgRyhSp/on//NExHIRujqAAOIEuPoZTOUvoy0dPo/3f//8pSmer////+jrKJZaizztChkQmBgKYHCZtXHGewoGBhX4OCrisCU2jNJFojnKa1n7t3vc8d7CjYTOh0ql4VDRsKlCihY0//NExH4SGkJoAOCEuESJVTR7WaS7DvW5Ux/0d3pUW29NNWIByVFpTHSZ1n5FZbcBD/sNzCfCCbcA4Yt5FBmwsOC6FbwuEE2hjMWQCBIHroEREl8gjPh5i+VxS5a/QQZN//NExIgSWH5EAVwQADkUIYxaR/3QZBCmZm6iqeYg//OEEJ83oNhjgfGIVHco8mkaf/6/9kGOpulpoUf//2Tc3MDRP+ZnjEzLw6FE2TikqkvHdIDh1MRvAxdMGCAgIwRm//NExJEfyxp4AZiYAArZBKsYoKMoQIgDlUkgfuGn03FnQcSZLeBpjWeKMt5IzxEAK+yrQvMruDSDDhxWNmfqVneVVlfKo9xKa3vO/v0o81uA8z4FKwImf961N3kSoUvf//NExGQdMXqQAdp4AOj9M0MImSaK0EjAoIt2LpeqrSF6DU04Fl0QGnkFUgjcNKjS0jHqWpyolEtzrYqDQimUOeOmgFDD7GIKu280xJX+6V0op2SQ/fuzsv3S0FjGpGOV//NExEIfsnKgANYQud5Zfuo79vOZn/xIqVM2Ep9jQaGFCcFlOHjqOBYZNX////vzpX373wnxXz/zP1VVdRT3NpTsQgRx4+5P7/LtmjAXFxWYKT3y2OgTgxpgISNfDJGu//NExBYX+XqwAMYQlN7YzAm5hE51MGwFv4PibBGL/uAr29wjD493eqauQ8qCaygDVZIn5R+JvauUfY1MQRSmD4UooVPz3+iqIJxdMJjwGWJ2Na9yr9ch/5QZ7NpnDZcb//NExAkUsXqwAMPOlHGEPEoc5sSMgLlAKRnJMys02h9mLAH2AvLURFCNbgP3X7vWJHfzDI43aPlqgeMIYJK5LZ9+SyhGo+WmDswcF3/ep//s0S0tRJetxp2eHBOgNjSd//NExAkQwP6gAMvGcCoKzlvlbWCtcUbpw0HMcNmstqEvWU/UNM8B1CtWW5PDwEAgJNSZmXqxtuqRhSZgIRB2e0xFPKBoTB2G1pkLQf/SKTRZQxWg4LIjAwhrULZk05Cl//NExBkQ8WZkANvKlTIVmrDS0FxV3JCYvNkHLFtK8pmuN4t8f/V7btYsBTGM6l6P75cYYwkHm60KA8rARgkLnZtaYOELSgsFx4S23hLauIJRUAMjr8ddS06D3KxWadeA//NExCgSOO5EAOMKcCoIHNvcrpM6k1NQWERh6GOExsgLzoaSg6yTu3ZL8UV/1jAYPKDgIQkbrpBisOBAUZaq2JSSLa7WqX+Xv3zl7d/CqODBwShoGmnHmqyz9sJlrAMr//NExDIROHJAAVwQAHCz77tN+nf1or7h1v3IjDCf+9dqA8aKFIcwLuu2xL0hH2ToVuw2/8ONYzZNyyOQZmw4CrumV0yKCtCfI4hpd7yCFQlR7YQXIkA2CzxBf8pFR0Uk//NExEAf+m58AZmAAESgTAswnymR7fl9j7E+piogwudy4U/+xu6NS1sZn3YnJOHi//+pbLUktj1bJ1pqYuImJub/6i7ZQ5zQREyAcE4uoDsTgJOBbXqYy4PV6VhjdliM//NExBMSOV6cAc9YALAf1je2NuYmVLt5aSTA6O4lDa8NaXJpqcuKTOILjsHWaTz3Vd9NdzUR/xtYvIcDS/Uv//1r08L9syLFtWnhLbxiMp+KMCw0HwTNsPC1kXblPLb2//NExB0RgO60AMIYcBzdjc04CQ9aJAj5q/KsGEXL1blQM4P0KOFHCBxw4CDQz///////+UeTrVZIOadbHaBmOKqAtu58OLXwqv4eP7xfiD/Ag6xDcfDVbjRTjjWt3CHl//NExCoSGVa8AMPQlIVyAdNQHAW1REbvUu3BBNSMvLJNggkUf////////Qr8rIOWp63BCe9y4VDEdsdNKaobGlbZN5bkR8kVTonCMihmM0RYstg47Fl7wH7HMO/C9aHw//NExDQRaVK4AMNWlHeTE75NbCgKAdwG////////VfwlYAi89h0xp1HKhiw1LH2jraZryQf5herHkT2DuvJAgaIAAQTZWPT+MK5wGjDAIapT+ktyF/qb6V/mTbRR/xVy//NExEER+WK4AMLSlD///////9L9zBD6txJeAPqCHEecQwFrwPTxS9zeFrIJ1pqrhgl03lk7y2K2LpszljXSthtSGuN8f0zX0t961jULdpnwENDj3///////9FXU2SAG//NExEwRyUK4AMIecHcp4vsYRrJYwokZiaJJkB0xiTnESQuntV5jMB9AnVYlMi6WXRCJzycAUDuLe545EmTkxrckk2m16c6dr31rvz3snuy0JmVhCeIYBjn5CTIaKZnC//NExFcSYUakAMsYcQPAZU4IBKhEtL+wQFeqYjAroz2FHfFtQ1djKHUr1YrjdWoJqTrQg6MBBWFVfZsnRL/+7/9LOpUCCxIEHIRh14IBDQHoJlIIIBwxYLTOFQ2HE4lR//NExGAQ0NKEAOPGcL22sI9ZtY2rtWWP27obBlttNfv1T1D1eMUhRSQrD1N32m0oqFbqrNX//k0L/Soq6hnbwYO4GPU5j6icQbg4RAAMHNAVFzcQcm3mgRl7XDQ6kwc5//NExG8SWM54AVtIALapVBEURLh6XFuaXcRGnSts6ZeC6EoxCiuLjmGrGN+PsQwkpknd97z/jHzvrWY7JuN//r+9/E/8sRPruJe3////373//9oXAzW/5Q5LvKhseIv+//NExHggIcqAAZt4AH1/lgCoabD4yhV4EQOPNJF2mupvuF0k9SGACcBEw1A7kvm1ueUTXATawzqNqcIr5tSL9gYz9gOleqSgP03T8J+aQXg/kaQsu5CxiHOW84X0O+to//NExEodmW6wAZh4AJPNkgZxDH+q4MelpYD6v9qs8HevPAmcsGf/+36TrktxO+3Wz8WcLGn8XSIB1d5CjJYyEs5xKVs00DTQJ2a28N/5R9XD8+f2Zixrpaq1swVWlRaH//NExCYSkQ64AdhgACOp0WjTT5acxwFZFALnMP7/0vi7w0Cw0OgsGw0fd///////+hXKyjmuGJAw88oqtzMYG5mcM9RJGotKttW2z9c7ah3DmyUm4CxLNxTAhJW0Ke9A//NExC4SSVa4AMLSlEIpH6RTjCMd9e8uPj51Fd0iKf///9v//Feu5KrUfC2LhsjA4yryEdMXJQF5XBpqQZw35u2G1e1H37r+XbcqkRE4AgNH0MYIpTktdMyRJoZEtKnx//NExDcRSQKsAMpScMoGQ0W////70f/3ZaIkVWul1jUMoBLxgBeb4oLYBBeFQZrghAlcIB1NCghAChWNI63j1uUTCpyn6lsYVMBgl3qv1mIlGgW4xHDDKr2gt3///0N9//NExEQRgQKIANsGcB/qlKnRh80Z0AN6YqOlYMreYcHosQ7E5yHmCwG2Ok6NWnKpZm5///2aKCLMIZsZubH8RkYUQMUUaUAAQCL2fwJ///9xBD7etb2lFdXR1ULiLw4Z//NExFESEQ6UANpMcAcclVYeOUlKApQghAkk3BJ61r/P3v8KqCk2JiYMIENQjWSytQKHZIT7E04ZdOnaMjUZwCW/////tW8Z/xytBJLcaRMoayJ6uRKwMXV8Kzs5ZVl///NExFsROT6kANIScJc/NqpF+if+v0grQeDXh5DxbU7cq25Uvw2OmbWZ3Wsxqca3GYOiNgSNEn/////KCrw3tS0LhjxiWpSgOnLcmBEBUZpBmH6f7t5WdEg5ZGcyY4iT//NExGkR+TakAMrYcBS5YVN0RCbFisokJJFCetaXlLf69blSyUsjE8JQ2r////6lSQiMf8Kr3SmBbnFcK7VXNctRZWIIihMSmB9NaQk6E8H4/VFU/AQLyylQx1vGuIDM//NExHQSgTKkANJScMYg5lElIVSHASghRv/t9GoBGEz2f////iGGiSptRACmoSYYBmGBZpDOYUDKzjoEAKQ1SMUUU/kKzUnx5XitgiFJykJJZLwlPnLlq7zT1XcAzjxU//NExH0RSTaYANMEcAQMiLI92WPf7uR////h2hwCM2PgqZnaHRqxUj0EGIhDAgaMGDSzLoLmgbczehqxnZ3jYjW7xRLTs6ypsYy5qpaXYyP3Ut7XMhuokM5eTaWp//l+//NExIoRYK5wANvYTN+xD2p/0USQ/6ZF8aNKQATep3frJuRY2ZMFLN7wxUzedJ3W0LSAb4b77IukoD0ANwLgA623ZXgt48wKAOQen2dWuJWYIDAVfW/8jj0RJcnjnC8f//NExJcSeUZAAVsQAP/vGEHgF7GHHmsvmB9SHr/bWm2rMGHuPc+FoGEHgC3j3NyU3//3bqqbboTAlDQe44x5iMCMDwGDJc3VLYDyDi18jJCFLyTpghR7dNJqKmlrwRDR//NExKAh0ypUAZpoANFSXiHpwJaCBPBLaeVNxlRmiQnSrHrnWPAxLHfSP6Vg4e6zB1u0dWTWpmsBhXGPJmkkHed/dVJFvNnHu223v5p7U+7Y/tit7f/0p8Vzb718a3re//NExGsg6jKMAZh4AHev6QeNQHImEaFMKuivQLmnOW+sSBg/FkqMjWS1iMqIYCuiuYRq/RsMyAchn8SLSKwg0KugMeJKEsFquwoIrAugIeP8l6LYVG0vnSsq/l94+/um//NExDob8XqMAdh4AO8feoe7+94N41KvIN4lNwaQNYz7U+ff4991vApXEofrv4Vckmz+w4gQUiQuaQiflKDT8Glsophwm3OmiiWaMosijWYQfhE8sgv3NPSBRQ6mVlFZ//NExB0Y2l6kANPKuA18BjPF0H2PqSdOreJCspATm9t+N+TPhxviLb5n8Bkjdjb/l3pTi84foIFqMNIOnD7IA4tIKP///7////8jFUXcH7ee/TI112oewsttsoQJ42BY//NExAwVKW6wAM4QlAszQiEb7q+AWWeuqrubk2VxN8VRpcX3Uuyj6Ce/2AIr+U7/4Wf8UuhA928qoxFtgnqXEbky8h+CV2N8UvIa9f+nRFf/eLmmoMrLk+RxyeYHCHmt//NExAoSsW60AMvKlLPGc2JtCqxcKZtw3D91kwzx28OafB+xoJIzch3Z4m4Eb5ffNxWQ85dxXVkYGU6ZWoZ4k9xVkGsrisTTP///6yxKxpkOJylCUFoWJxiLBcMtLMCo//NExBIR6QakANMecTE1kJmoA6XWbEU94eia6mAcjLompkxFyy1w5W72u4MWuo1twcfMWun1tsUJKKhHQnishUJ4LZpbZIVBSnR8XWYYhxGlCwgGAMvThozN5I0C1C6L//NExB0R0Q6MANvYcHvVt5jft7i2rsJn9Sqdvl7wfN3d93rRbezOxmK14/Uxad/////rX/3j5JVx5aqge2SGMgZgI6Z+LO9CzFwluambFpQ+j5XIw2SXTFJL6e3jYFez//NExCgQwQaMAVtIAAUErgwZwoOLQna+x2dzrwd9hjDF2rqSggT/6yoGcIKZJuntYNFldAscqQs+XbKg5ZxvDICBxCp0IgvBIlMJsFgC1gt4BhhnJcdgXAyDdAZ4jY/g//NExDggmm6sAZloAHuAA+IccpoX0XQLSUJYlFiZnxxkcmKqPZQL5LmJvHObGoyym3a90EDBBM0NzhgS5kcL6f+t/5/////000E/1rRMXd/40XD84s1x6sZF2jEDLEzK//NExAgRcQbEAc94AV0u1U+ROFIQk3SXmUh7yMX9YTjWnUWuCQEpMMk6NVDnGc6QL1peW+aXlpiDrOPX4rfc9yExG/K7VRlEqOPy+AkugepX6MrpF3ck3RUIhkSpQodd//NExBUSgW64AH4MlETVFcZVFJSrVSl84OT9XtYfrl+RfR8qzn2OXcOZyr9cp+R2U8CGK8Tc5mfN1fjTrc3dT7mL8oh05PSPqgdH5Y92jB6vTuEZV5cFcaKraiatBpwh//NExB4RyWq8AHvGlWccJ7A6Wg31bAfWrnEWu/etLZ1lPJjRg+JHDpHNjMofHtMMkFgwRJJeVfqCSbiDCiMoiun6kzd2zQ2u5tEXDsVolZCqPtga9LKdEFOBsQuIv282//NExCkRUV60AMPKlSTeq/XzrYlUdSu8qIKmDyq1Oj1RRZQgpxzlZ7aVxpge+zYCyGIEsZkDcmOooqCs5cFgpZASFN4jISjIlE5oRgagFBGL3cZrR6bfa2W6tVLEkCuC//NExDYRmVqgAMsElXBCjCjAVSysv/NCiSgLRceKQSI0H6SIBwUCG7KCgknfRdwsEfhwqSgnNyrPCj1M/HItQjyiTmPEe6YHeXKsHeJcwNZjdS9qgzrnINgQedJf1WFL//NExEISaOKIAVp4AP///WKsHhJFMBdjHGMxMbOWSzC4024aDjwLBotLGYhRroGaKTMscmHFTmYBY6EUz7QE87lODBilyjsHOU7Ubf5NVj8Pv2ukZUBVSqtuciT7Q3D0//NExEshMXKIAZvAAInMRFZBEVzOjQX+7/2a1r+vzT5iVempZR+t4d3l36SzvWqKXRmGaa6AvfyrPSd+piGSFF3//6xUoBm61kg5Tjnhx6CKwXZU0zABrJ5awKMTz60l//NExBkWsVaoAdlgADUOdLScrW60VvRnlVqtaTS2uHYICaIgHyaSHEIz9DPHCGJCwhF0nwwObSmb+518rS9vgZv7NggA0f///+n/5P6GpZXD5BdFrRKhitOSHEmQ4wpR//NExBER+VK0AMLQlBvVRIxQjcH/OetyvwttOQiX5UGjAeIzh3F0DVGFoQWTQI7JPuU4fl7lKh3JdzRwEV///////9SCYqQdbk4g5JOtrwoENDIm5MW+4OuYe7r04tnd//NExBwSoVqwAMMSlJvScvN1/NlhouATLKsDr7YqhAhuYhtsDV9A/5v3PnuO/f3bSjVJ4r///u////lagFxQpHQrhgaFl9AEKMGOUOQqWkGlCALBo3DxVVn+zts5TW2S//NExCQScTaUANJScKZUMpAsCTSGYWJooXSWtC0ieSoWaltS2MclKazW2hOiIjdTjmem1OhfkB/vAgJNoBoClQKXh6Mw58rXxK/db+UjFoXLXv39NMusdgK5PiEMPFkI//NExC0VEUqYAMsQlH8xUQgwHBFZRe3MkXvj/gxBou7uQD74oWMhs84kLCwsFQqv+7//+ur6pA2UlWAueRmyEdBInso++X8LZPztjh7ap62nLFTTEtcJmPdMcG2TyBHg//NExCsSAVaoAMtMlAtooKTFi3Fj3JoQIaDlMQJkxasM0X///6f//8Tpx6KEk6URILR7XpK6hFLWwyHUkNkSaaKNMzarS209eSTmIVUlDcCjDnFlkrqDNKNcvnwNKjda//NExDYSYU6kAMtSlLRtczQ1tOHtIhgZX///T/0f/PEqqtkMCgP6CDdMFdacarqukF+Q7yhFSv28c21tOv4pzmtY5ziogwJTpAhrmx6pY493EpHvummrbbtmnGzzEts///NExD8R+U6YAMLWlM1////9fiV3JW4mDMHJyJ6AoIWuMwLDAKCbFuquZy/SoOtWf7Wwy/+N9I1YjRMJZMjlbRJIlWHeUcnP//MzOfS5Eox/Xtb///q/2N/9SmEAmQbI//NExEoRGU5kANDMlMnoFg40CnpEEZFDj6Q9Jw4AmdFqa1363T/s/x1y0zS1FCfS4o1gK9TSJUiYQeEIbelxU6ni4qCiWW+79HRetTupjaf+mnEBUWekOgIkQSPo7k3T//NExFgSYOJIANDMcEauW5ZfF1igwEDwUBEQtKVMFXOBsqoVPMS4rLVtuuuuTUtVAo9+rrb+uj6DjfW9/+lw6JnteIsgx/CAIJEt/xiFVgqQlR4VQZfDE44xaR8oaYNR//NExGEPwDpIAVsYAAoYN4AsXC+wEAA/sLePk8QQcw1Nw7YoEXAPY7f0GnzBpPMUCz/mjJmmgYGZoXjxfKP/XTTUfZ5QLhcFiJwhyKRe//+35OpmaDGJkYJKY0//+hM3//NExHUg6xqEAZiQAC+X0De303oGRVGcWsvORShIZKC6xadiEgJiRC3C5+eLNS8rhaaxEKxYFyyAlGUEZnji7cVKDLQ6klQwNkEN+GC5xkJUkiKg8GB17tya/bp+j63a//NExEQREMagAclIAJWCl4GRRoAvReaD734zTkQyAsB6MkCQTLEzHlyRZS6EeFgxJpyvThZo898Q7POQ1V+7FYi6+YLP7G1VB1r9ClLS27/1bOpzyKqo7Rm1g4EyUVhI//NExFIRyPqcAMMMcBmCMiTDVCzAugIxAwgeoXALsBKOgl0NDirjpFsVRP4xfyEIaAaHQSCEp1xVgtEf5gSVHjTiyDT4HgoLAACADhhsYzj365uekt2pKDhSrRNJYvYt//NExF0ZMY6cAMvQlH//r+5gnLhKqIcziB+gW2uvOWrIaa3BkLokR4ZD6JcwCYrJ1O1wol2raMUZDVKox2nouUYrXCHBhRtWntfBTmtEyqz2ODHJuR+9tf+vnfGdjeTR//NExEsUcXakAMPMlQL4Og2TsmqVDA8OwR0jDpXo8TKBy3Umm/bROqOoSyhIllbfJ1lszSvZ3rinjyOVQ2ZsQt5xbedZ1zSnGRIw0pg6gGFjW//pR9SmDyv////9VV1u//NExEwSWWqYANPKlCDbCVUEyU8LjmbErmkRgscYClnDYZl8+jvpcsoyFv82g4a2ovyOexQN/OVzf9ivuS0PVHOLgxeDDBvf76zvn////4t1Kk3SRCNCB0zQeAEwgY6G//NExFURiP6AANvMcDgEwW6wVBA4EkLqWB8IZYoELBIcKh4XCwVx3Bw8gHTllXfcljoKS/lzK5JBYcDBnCEECB1O2TOr3/0YIIqGRko4S3KOuF11lrMfc3QZUYrYqwWa//NExGESoWaEANsElD12XBEkHZo7ArkIPYMA5AP6QHWolyhEhErK0yop9aGerS2IPqwosefIu23LstVxuk6CJ3WozM4zGdgrEiLR1GhGcCKkCBiCs4wGLdVVo3wg+urA//NExGkSWPaYAMvMccBSiOAQz8TSqY1TNLqFWsXgQRli17g2DwkHhWeoUXDjmk0LcdOUf///9tTUAidscEfw1PFQxGDB1cIYAIxxQbMwYNULdIWFvogUnwstAIW6V3Eo//NExHISeJ6cAM4eTOymlwv1rqkKWeWlmRtbm08lBB0y2VU4QEkjOgr////5+U0V1gG7SYh+Gz6hklNRIZw3S+cT1MSkprYF3I6h8UUPCWV3K5D2Pfyj1cx1Xb/X7zUH//NExHsSmPKYAM6GcGi0qvQIS5hxFKrmov///6pgF2JdJUr4IBYGUBZ8LNm6ApCxAC5gb16jjLfgYHuLAKnWDB0wxKmafUXgmzyW/UyIFF3tSqdSq1g8VaH2kAEFUHmV//NExIMRaQKUAM5EcFyVov///7AO1RJc+2MqlLhAMHTGRYOAMDKdog1BQ0MosDEyQhfoUmDZ4WWAJRCULai4gv+IOUUDIvnkEa9H/tXXb70oVy6Uq1q/pTW1XUcv///7//NExJASkH6UANZwSALKOPyluDKppiJOHY2mqNPuAYRhfERYWagEElOu/iegMCI8eJKgK6BVbjMzTDxEsqedpr/i5VxNz/quecMt///80XEzN+TrrDF4toQrAutP9IRu//NExJgSaYaUANRElMAh9ki2QGu0uWTVBom0ZRAiykRh8xERusO8TN/rMfBCy/Qv1i4wf9rG2tEJZX///rGDgQE0OKet0vJKmhhmRyF1HnAGDShAF7DHgmrAoKNHIerS//NExKEQgHKUAM4eSLmdoCHqWpUtZLbOMFJ2PT0Mwu02XXbt0InnhxrRr2WWJamhYhWOoVqkQmyv2t//VJAEqEEiwmPla2UmN0YG1QYaEy8TajKi+QhAQweX2g6MhCkn//NExLIRmJaMAM4eTIXzBohoSUbJlhV2S+/Oyi/Zr7y5upa7r8u4/z9b1p18u7fvncdV+rVBI44Mu00Wt/R//pDUGixGaOYugYOMBgYGGEQ8YzBgBAyuloqOGaI3WBjN//NExL4UQJqAANZYTBUp+jujLIHTIpnrjSRd7hEWEp0q5S7nvWMuUbEUSxYciJTvuf0////QijEjDWCzxqybKsd4ViwI7zdhPRtMVyUg5TyFtSqlVu3sJXOPrWsEawOp//NExMAUcVpwAN4ElDyRwOjDa5snFGAqDQMl4CHFlhJQmhoYbIhObsJP+zq/XVQg0GPNLAcBBwUiqxWktfLuopNQXGCXTK2Ukvuqs7erW4t0qS9LT4pQl4JXefWIlNa9//NExMERIHpkAOPYSCxgCdOA4kzT/UdLv2ciltd1S6tyq+KltKpZhgpHqo1Nr0M2LVzLLtHHhgPdtEXE5RnZr+lSxVLk2JDLQzQjaqXjYCNljdJIaZVRLRSQzyX9ugUV//NExM8SaIZAANPeSGCH14olUVWkWpQiP+mlgyoEqIU9bYrqFXEZSJjgQw4OgYcDHAxhAR5Md0k6Ubwr+5ct/m+mlCDUgbqi+U+HPvzR1D3e/Lf/favPfz/+fr5XHVaq//NExNgSiPosANpGcNiFb9taitj/RNGqudL7NSdMZs1Zbjz9458Zey6qbZksiASJJZx1nAyXSQSvXx6K28iS7zV9KcLK9I+pkYZ1Ip1QGP7MVlg/ublT772UZT/XM7+3//NExOASUQIoAMmGcO/wKhY6WeBb/1df7vd/sM72vrIGUX/XzMiKFirmZufHw6qdMO6qplsEN8hZkZNMEECuNUJ4GGYWA5VBw4JlIDAje8yGFyY5r2rPKQyapMTbXdpZ//NExOkUWJIgAHjGTfU8iYIKoClrTJOsmgrVl1bIIqQdaDKR5lc0JjGNYFh4UIkSKJDhNkwaiBZcCzVTcWSkB3QtrkUkp2GzJngyh1mytrpn0v3pM/CfbZvK5HmdSfsX//NExOoVwOoQAMGMcd/3OsWZ+f0zMj+Dlf3XztnPBgZJJq2od7pyUyATbGgyI3M6oKYVNjM00LPhUQCV1mvBo8yImusLQy8oKzFE23oF9Kotsep9nvNBGPf+1ea/tjfk//NExOYS6SYQAJjGcMdydlScWO/Oyo6mSgZqzrW7OipVRheUIGYk68Ds7pr2s/KE3S+w5MxpCULVPaPUZhKkZUhRpKopnOKhEhGOxWdaFTzOm32FEJuWshvTn+Zzz6Re//NExO0WMs4MAJjGuXzJecLy7oKD1N0sMMbqych6DwZrr10GupFaaM2WGfWUoKIUKGSBY8vlqqNK+ZhmSDklIlrPBMPNN3kjyq6QWayKzBtTh5Et406efmX+fEfOaGX3//NExOcTIYIQAJhGlaZnf7xvQERv504GciaQUla5kSTP9gZKup3S1Iexw7ZsTqj0E8ueHzqGqUT7U4RuaCCzPI+lIoISDDLyZYYfEwZSEzoZUAuLtSt6M6PKnXMHVXuA//NExO0WOqoMAJjGubWVXUkajZeF0JeyXNoqBiJJrILSZ6DrPaGZynrFOgkQKCcmxMQxKEpkILVpnsKYxYTqEMGF2CagN1bMlfYijYrV1Ep5liOMQ+qinmrFvPe1V9KD//NExOcVeoIMAJjGuQ2waFsdQC/we4W+0YtOJBEf+EOYiT0KpqWi/oq81TpRgSnDzOKRpCocnyeuKIovXbMr5m1IkfChlEzJPHlxySFMNmOk865D5T07nO+/3Blc5/+v//NExOQS0SoQAJjGcH/m/+Hyff1Uy6TQf+q/HvdKBiJBGru9BR8wsnn6bvuxvzU3/zr5rOxySEa7jmTZDvNeen788cyigLIdzuZRaRTAMpCoIHVxpzDCGR0ORTrnM5FN//NExOsWqaYIAKDGlT1vPfcfs+ZSWzurIkjJbXLS523tnU6q9RaawjJ2UgZRffvddeqHkeZ2kimyE1ILqFIqWRm3nxu2N/C2YkgjO60F54S8mTKDhpAKPFFigOE2qOzS//NExOMTeSYQAJjGcdGuEWE8WyCRbF3u3n0hB1bmGGCMkMoGcr31Mp6RkdtY/ya05yFrGKg45JnmZKfpHqHw+TKEdy16ZP6Q4vkYKPvGiooGURktVSX72LUYcPSlLEIf//NExOgX8uYIAKGKuTDryaEzqJZzFwYiUhdFF3qfPYIUYkWk60JyCjILFiwQtAkFKEDWCUVSE9OMrKiGNXimuqGNmW/grGTbNZPLeFYyKTUd5z19q3x22X1m77zHoy+k//NExNsSoX4QAJjGlFZGpWRr8FP+nH9O23+uR7Yvf5rc+kIGSrV9W6k9LsY9U2e5uZIHKByxOGU09TmZ7lLhEPlT4WRmZq0PyQyJxYAkAXDuFXW3lK3c/TGzoo/OS1dh//NExOMReYYUAJDGlCuNphkXSIz962qqBiJ2etSrKUuqC0lyJGzMKObBwodCUcGGHoSiEJX4Fy2Q4LCApudgikMpCi/hA38xit3Kk3dLgiM0UTFW5KR+TqYLXCYif/pW//NExPAX+foIAKDMmZMFrjSma1cvrXk81W+jLnQs+QZpLspFbqUtl1ofsVt7WrSx/CCZxz/dUmzxeuOwvaqnyf7h6vNBmKhZoMOWXUm7ojyKjkREBMyI4Z3dVCs1Tt/3//NExOMR0WoQAJjGlF5OezKr381VXMnVerHS5er4+SVye+IjBHXHgiWZ556z17kSmRtz2dmi3JhXZmRHQcOv7tTNvpW0Uy4g4JLPCMUAUqoi6/WZEmy0BnWrWuMLGWvI//NExO4WegoIAKDGmTyyInXKMFLmzWtlp6o+uhPgoCSKSwgT7dJMVKWUUlXsNxccAEDpCvWK9VtOsLVnOVX5S98p1ctSdxfnue03SutXovbgSRescn67T7zz9Dk9NCjp//NExOcVut4MAJmEuYJTnKZpTbeESR6/EREQocSa7i3Ou8QvQoVqmx5kT59dy4V7S+963/lpvUTDumozqqPiTjAgwrBIpD1WUUlNGJNIo5OWY/cgTB8YAjEUoqO2mIQW//NExOMSgQoUAMCGcPZMs/BabQy9d9mddO+5lw3u7R5kvBNN8NuH7PGRmv3b/3n7fde+/+v+s/fO4H2vvjvUms+7y9srUf+t21fR/N8f98B/540Guu8dbEvG+Xl3nT01//NExOwc0xoUAMsGvGlF3C/qvtCpBJEunDzrpJKaU1Mafd1umeSMzZKtq7tZ5fUUKKa/qdTa2JEeZ1BNjb/rTX2oDgHoNoVMJ2kFsC+DCf/rTVe7M1giglAA+CzGWCtj//NExMsaqb4kAVswAaolpKl8d3//1trTdBqHjCEoORBMkRhzchiWDwWZkuoXDRP//////V+tN//TdT3oL3pquykjAxQMWP5gtZ2o0cvplMlR6CYGhYaj85oTyweheHqX//NExLMfmypYAZloAML0F/TOomilnDRJnSHwvjwKjhLiMEqXyeZD2EnCTlMkiiMcT8cxKkMnF9aa00F05uz0MsPlZWOM2LiZIkM2Mz68lTQbhykMd48j58uDsLhIFKpq//NExIchUyqkAYJoACFn7EnLFnBEXrRWHs7REVnUzKhk5z9+kEKzfe/7////83ZyY7G3n8aqVVb12iA95soIQUC4rkAgqMrMEQkcOEglERWm3GNewdaYCRkVERZgTHYG//NExFQhYw6oAcZIAVWn8mWI2RDb1lmmJIqks92L6em+slaqzRskRnWEQhSeBkiDxMMtlWVjWv+rizMji/G6se2V4pqVlypE5pCoUXC4bLtJEGkaqiXD5Gmj3s17Uat1//NExCEaSiKoAEpQmeRu8zK//e/+KyQHYqLI0e+/EyLwQERYNQa0NFVoWLWlKFjoLUdEr3TFCx0WuqqsdRxzbEsosQW+JuzsZfy/mQ235VBX/ix+U1XCyITnvYOnB9Ky//NExAoT8WKkAMPGlDU3h1TNU89H4LJWPWZR1rgvCvIG/bHRpkoiw25yxr5vvf/zr1+Jr/nkWb7NHY0utJgwo41NAZMKeVaHfHhri6XfV2dGz62gjMlMREUygZwho5V8//NExA0SKR6wANYKcIAIsOdq0QnX/SN2EUHItPShhYmlpl8JdSvBY7kCqxR/JufV1nzEsjVPsH3OKC4J0qISEM2////4WE44utZTo1dFi3Khp+VRD91KWmVK99SjDA5L//NExBcSCm64AMRKuUoCtTxmUwGyTxqPoqOsiyqzTW2d1pd9fXqfZ6hRscs7UGI8X0bZ/////////6kqoivV+YX2Y7iHD34JQKNz+xMCF1BZY+yVQglS0HB3HoNj0k0t//NExCESGU6kANLElB6PlIgeR2rbG1mNeh8jaPl5sE8wEilE7Nq0wVix5TxR////+uDQiUqGnRC4EaliAZyZa7JqAS5EFEga3zO1BsGJtTha8UayutUu+acemtrCXcTG//NExCsSqT6QANvOcGJGg1d4sxAZjLyptBsXwDWdD9DKDjKetyu2c////1zNsRdQA7eoOwN/KSt3IpUl4bYc/PQKF1bkpFDRWelKOGFlWdt5unYdn82DXjwxiVng3hyq//NExDMRiTqUANYOcBG2NLlS1Qudg6Wov5aoO7Gn7fUqqzS2QvxXLKqoKeTmxgcEQX4lY6hDQ0T4ERpoB+ACsC0kGBBtGZfHNedMNM9mL1lzhmIj8bx2IjqhHk4Jij3H//NExD8RSUqkANTKlEnZ////9VXt6RldCccmlxzDbmRlRpDD1UYGNf7RJUX6rdjCl37jAgc+BbUe7+whJ1LcnlePvl+/Mx8/Es+pjxSTdCcG3gvb////6U///SrLb4Ek//NExEwR2T6sAMYOcAcq7HBI4+fWRmdAU/BkombmS+pNe0oI2epcClLnKaL1MUDWiTYhsP1eo3tkLYJvjXqJukOPUdIzN////+UGUrqOwuQAEg9yLwwTSuTTwhIITbS1//NExFcQ4UKwANYKcD+mfKQ1PhLOF5Dbj1bBPnHUZL09Zv4f/gfqmo9LbtYAV4tqE5MKZ0HOBX////9pv//1HEWIypuoBol7YXGyYxCIbZ0CjOGS8QMuLw7FtmRFdpCW//NExGYRqVK0AMPElH7vAFU+pVdiH06imZdmQZcRoJw7Th2Q7Pm1bLWFDRZ/////PIp//6h6p3kQjOcRR8aWbYMZX0eWFl9CZUzUoWmMvhkuV24493y67Wi1ltUICoaS//NExHIR6U6sANMElE7asqcxJ3S5OQKa40t04EiPyqP3TD0VobvWCoCChG3//7U/7DAmXXSTtJAyBMLGA4RKdioDmDZCJBxEwCEAWEmYyiDrXJkDSps4LTytYx3lzN5f//NExH0UKRKIANvYcMsW1vaob/7m+dwp+59nf3KrPyhxez9M2vexG1/OdQnezPsmYytLhnqlvps////rZSfq//mQ8dKWt0GBWcRhYOeq1ggGGeCWiRFACNggG2pxpVrB//NExH8Yun58AO4EuNgImZgUqHQLUrIwOfvbPm+MVkn3AZt4e6ljssjYnmWRkN1ktHx9/7zXVubVJruv+34Rui///6kVVRy2VRZkBn6BOZJf/3pqkCbhCznqAphwCIwg//NExG8YkkJ8AOPEuAQCWAJWsUAQMGvpA1uznYd6z+OXd83wwZ9N/lKhi91KWqhSAQEKfq9X+vOgk//8iTJVHiw9TwDVMW0Q08kzApEOvhMGmM16TDI4qJQMYxDyJRg8//NExF8QyPp8AVsQAA8lS65do3fnjVxUtDUDhfaNo1TLOuaBJLkpin8tMv4KkD8NnbP1e+aY+H3F3FzXPsi43sPzx1z/7G+fndNd1yyPh9T9fdzFVe72u6vhsdczcNjn//NExG4fmx5MAZxYAY5+12xUXf7v+4PubLzd6ErKlEAKqEwCGRwdb67DoFxC7+HurG4XZMy/HwognRJkQijnHGMGkJaAFaFyA9hwBbAnpLj0KBcNI3F06SpQKRm5kj+d//NExEIgCwKYAZhoAUnUtA8cum/61qZNR0oNbNSWMzeggX03mg9lnCio2SQKZ5MzrV//t7OtFVautmWizezJvQ/3ZBVzyP+5o1jeVbsoeY6R1SstEAjixFWYSFLlN8BT//NExBQW2WKsAdl4AcvNKlKDIAhqKK2QbQrzVfIIEBznckjAI44j8JyzLhOM+X76sB5Es8g2hx5rR2rpxQMd49t3vTFM+9d5vA8SseSI3zv49Gi7SsdQCAmb430Io1HI//NExAsUgW64AMYMlFZSgiDDs6uISbHF4KsyoWAT9CoO61IzBIHFw0zrXwF3te9uvPfyp32i55KYBB1AMQlcU7S9/xP8d9zDFUnRFzyJd///+7aY+SAACGJcL33FOpcT//NExAwVSXK4AH4SlILzZugO69twuu3umRtBwZ+x228Cd8CwUny+ecYlvM5DzU5/0+PJs53e284jJYlzWUzlR/zPUcpm6fHo2YrpSKIUnP//9imrouTV/bGh7c/K0xqm//NExAkRoWq4AMPGlAxOTPurFRTYcStsuWrdyWxaDtPHhsDy2VA4mbSi1iDF+9fH+RPApQjJcgoIwVIm9j8v+HdbAqoDNsv///6VuwgKxAPIty5CwaCpf1K5yHHUFajB//NExBUSiWaMAMvKlWOFJR0S4Q2VFHUW4vTKMEsAgRKU0eTczVvR9/XVa79WVsSagsgSBhwDCpmNR1/6qyqQTFUTKqQSQCUVOtAi7JCDCQktossYYIokx1NF8q+lmEfp//NExB0RyWJYANvKlNLLR9GrthYi3JkW0fq+8UqE7e11vG86/+hlZMRIHjiQBM3/XfXlKUVCdFUCAhhpOYPDhZoBSqIgJM+DpE/z7R7tLUjNTG7YqXsu/ZyeGBAQ7GBg//NExCgQMIpAAVsQAEws6ZShc4JpUZYA2WUAs9rBzP//vwP+1ilT4SynqtsyHz9XlHYcpQcGrBrPLxAAnxQc3SQPCaEinaiqoYAeoSMLQ7dGS6kBPR7BgGQafq3wV8Iu//NExDogMxpUAZloARfw4CEJR6H7qceQmB0TgTcdSd/0GrddCaGZ1NAeg4B4If6tTqq1IIc0Yl1F8cIyh4BVB4IIKb//egh7fzRRgcHobIsVpBo9LcEJfrjeX/doGGqn//NExAwQ2WKUAc8wAKeF6PdQMHR5ve9Nr9AwiQHvQ6UQUo4gdCLFijaEuMUSGBAoM+R/+/7P/n/voK8MQKL2fHdv/uNqjrnBQ46JDQAVw3VAOy9fDBH9MA6AMjJyxG6D//NExBsSQPqcAMpScHnn7hKWR/e10rW5O8RzDrZdHXmzBOetyLELIIAYUBBj2ChBcREXBH///////+r4ip0Kde2qgjkVdeQ4OZJBSEQ0B4RTktJcdF07pFHPu+5Rw0TG//NExCURCP60AMIYcACkC9ehTRj6XY/ElHGKh84ooUsYHhAo5X////////RVyqtLCfRaMIQV6YRKRyaIAmGs5n+87GxPpIuczxdx5tPL9C04cm5TK4CF5oEB7GsmIp2f//NExDMRaRK4AMPYcbI22zR/D3PitVvmuAMj0zaXn5KkboYhhCnELxo0qPjqEBqKgC9MfQdwz32ryrWytYwI1qVQ+Sl6GDa4clBeYgJAyJwirWCc827M29Kes8DSn0NB//NExEASgPKkAVhgAFAx4FcFSwUsW+kqUGDQOYGUEKYDYo6AoOPGhQQ3HzcIiMrbpZBhZfOK/hrbOj0WdY8lA8zVWn+n1QRkKcnQC2/ZzQVDj8pCE2NBwo4lShzbUSu3//NExEkgYaaQAZl4AMy0jRFepGzCshM2K+976iTXgS3q8zDgv9v8V1TH+KSQLiZxwwIouz3Fx7BkoMR5ShHwSdjZ3ItiKn+BixUIGiVUkik9RG8dEgYl+i+XYeA3lY6Y//NExBoX2XK0AZh4AMCUChgq4lqBP4vJxLCLZC7H8vE6LCQk6S5BqE85bfMTDI5vm9WQ2pqb2r516+smfnrU0fer/Oq+3zS76an3q7+Bkn5rpRWpuiEKoE+S06UcuB/Z//NExA0SKP64Ac9gAQlqBF0AwjtL0uEtBO942O4jQ7PTovDyPYdJhxEYmmTFbtXu5eL7RO2gQ6JZah+DoQHz3btzrDg0DiYb0veAeDYIicbJaeqD8FYhZAwW0uDmb08V//NExBcRyP60AMPecZmxyalLRW9jcV+LUepDhou0Lmh6gvsRs4vbx4ubYrWI5PoMuIOuL35/ookaUBKiClWqSCLxtEFjs4f2BFb1N0CnWUyhUyIugVNl3F5UmXUt9Z61//NExCISgXKkAMMGlBchBUHYQ+9Gmeaehi1dbs3Vom2AJKVKl///T24fQorNIad//9n/hWiWjNA6oQzYZOdDsnUhWW9SNYLHQp9aXjZatWu22s2xlbWe9IuAch/HwdTy//NExCsQqPp4ANMWcEk1rW7nXWiatn/ckbDzv+68K9Ho///8ghAOmQGxqMIMDJjhSYsCmEkwcHp0hAjLOFLOb7UGFS1aIZ7UauWauqkNl0LPHgYBtEkYoSuETelmRu31//NExDsROKJEANvSTJ2pX//u/Nf//9ccNTsLYz1EMDCACKApaTNhnE+Cle0gvVX0ZWRogjd1Ali3NaWtviSA9FRwboEUPwotpEMAOwo9uLOaLTKkWbNLDL3elur9X/+h//NExEkSMKI8ANsMTDAgc7hWHrYuMIQxj0fgOlQTIlhNyeTNE7LMKoLJHvDBazD5IUEwhNSynUvBZgpCRwY9aBZw933hKRH0WoIb663y7UOoU9//2YuqZQbBJ2gS1mTu//NExFMSSJY4ANmGTBgLQmUS8YT2ChaTgMqAnCqKAIVa0UtLoltgFa2lx7cqQHxTZixsisXihcY04wgTWQqYhUIoj8BQBxqU2v7EVSEyeJM7z2LLaACh9I2RtBWPBOMO//NExFwRyFo4AMpMJB44o80+G1GDZ97qVUjlrNiafRcwUcyUG59vFzBN58wiPaKkLlEehdeFWCqgCQWkA/QZjUnK1QKpOsGLeOI4tDYt51pBjLOY/hN5Yc+9eww0roSQ//NExGcSUFI8ANJEJOmuZNnU9anfq7nVd++/W/WazziCO9NG16I5dzd+5FWXekusbH0Cgxzq93QqbrMzrOgLLEajvS+CD4IHnMH89S+sEK4K4iB6BXEIYEtuHAWxuIAA//NExHASCXJEAVoQAJAtILvgKAWBTgSAgAvBiPiASvwthcCEJiw/GpQQhIhv8ai2TlhXFs8iVY+C6b/ioSOhiMe0fGmlpzr/+7PMOMmLRlWcpYZiCJSL//9z0afcxm85//NExHogEyqAAZpQAPfMYhmEZeoKrmwIILTVWUBNnUzyzpbHyDu+JnjJVQOf9Thi6+VfyKMzUDw5G4NkcoqUc45MRj0gc2Luw1hnzAluN7GpaXXRGjb0XUAAdVOt9Hcj//NExEwhaXqgAZnAADEqKly3DrO6CFWM4CYIxyLyzD8ey6QRfPdy9LKsbq4cvxC5XqYea5T+gn4jEwQ5dPrDxt31U+sTl0WrWIEoQlqFhryf6eGYpcg5ASfdeItvbj05//NExBkYuXKsAdl4AEtNemdfQzQWCkqskZ3jCcjApRgGwNEUZc0cyMrvLCtuT1UK1afqg82NgkxDl9743u/99/e6fUePSO/amyNFDYY////tv//trPOS/Bl7HKEYPA9t//NExAkUWXa4AMPSlDhm0thINaAbUNwVfXd5XXgwK2iYvSr1+2scZXNGSYqYvJnR2FxFZUsZYNxEOAyHtJpqXLIb6+5f+far5C6aqXci4////////XXKqOvdWaLcM2qp//NExAoUSXa0AMPQlMX9IzS6ZY5BgILMGNpu/a9eP8OPld6a7zHsrpxkktRI6csYfMDk2D5zgrEU0ChGgbaX2vV88x/xe5tGHMHBzEm////7v//JquU4WquOCRr0siJQ//NExAsU6XasAMMMlBmxCdrEFqBrhqFh8vOr+euUVYxajfNrn7LrmZyvKQRLgMrDN0WSWYRMC1LEAowIJGQusyW+t/n+991362PMvFg23////Uv//136EhE64hTOv44M//NExAoQmPq0AMPecTrG5M1wXFJl7MVKs7Zlxm3elo296tbVY9Y16u6qnJM4kdXSPfSDLa9oL1zYZs1ktW/zud+18bhdCsoYHmuiWom2DWl9yJ9n5Z+/WAyIg05u07Zx//NExBoSMWqwAMLKlMl7oujuzbCB5hqCWW9G5Oc4oIoKMNAYIC4IBBYWdnRV0/6tQjkEVEhkK9O7//+q9OxmroCTYDg6J6fR0Zt/HfjxuRyMcM8+59133v27e4PrImQx//NExCQScW6wAMLMlB3GpUsdCRSbCoSKBzSK4kvZbNbX7/9v29RubzeSbIt///+lN/+m4VSN4XDeVcMpdSIyiH0kSSwycK5VKZ5r03C8+NZ/3jaaHbEyih4SAiE2osMb//NExC0RcPqoAMPMcHeEbhFKkDgERRPKaMD41Asg6ZFHvf///6a8xIo6DJv2iU/kExF/4dUiAwFAsFwVAZVA6T7u/43/Ko3P5fWaIwqCpLCRqKEqeVZi0tSaS3pseotA//NExDoSGQqcAMJScM4xgMFA6W1NtAZb///CVYiOxSiQYUESDWaR+MujK3ViQGl1AsjAzGiIm2W/P/fuGmViOCnBSHZtMSOokcq1fHKs0mu6niJx0FaqYibzv///PN////NExEQRWQ6EANJQcMSqC4E71s0BNSwUJmWEsVh6rKcIe7VpaAgosiIJPaJHI9f+WpqdktKsAuCkRYCoYcm5QESyidShquUP+l+woKJhPfUNv/XRUVVNUu8C04OEoImJ//NExFERiVpIANGGlUOVMLVerXDswDkJBChyTM7mOGc56GqMGg7A6XJxApQ8NLOhdS1q2/6tf55PZ06+lirsd16uhSpAaQOPakNnGg2HaWqLc8zwoResTPTIhQpYzrKe//NExF0QCMosANDGcEMWKoOi+gi4DuNJpLiW0O6h36dFJKm+v8LymtZewGU6di6jSFLqEqpE3orZ1vLQU1JVio5KpKzjeTVczxlKGYUNrEICF6DDxh1Q4sthVUY9ixyj//NExG8QUKokAMDGTG14bfQhJaSuGMY+bzQcbGUFF3pesAERueijGIUaBmkydLBWRQuZoJ02dj4ZoYkSUm7GDkJUNbFGD2x0RHYji1aTGDs2uz9fI+vZG1SJT7poTuRd//NExIASgJ4YAMDGTEm6lbvM/yOpyx1pUz438Q31M/Cuk8hxeLh9gd3bGDQz1OKsMQpEU66Oy67HEDN6psgSEKQQKLcFhhsFDcDUEAGHjo+diiMW4UW6KRHoGcE5dBcC//NExIkWemYMAJjGubgqTOoU8HTVW5Ucm+jLIpIFlBlvT6TKshGhje0yzyLh7+Khnf/zxe2TW2ktn5oNdtkGatddN7ppZRTnaxkbgmFb6lOCEdqEXCqjxZOBopmOsg7n//NExIIYAnIIAKDGuWYzk7oigizOL5knwiMFBTOub9fuoJ/YdUc7x9Vjpdt+/Ckcmm52riGsd97tXwduZQZn3VriuLykbmUUTHSmWRkSTOZlfwxGdmdUzuDEtRFBQiMQ//NExHUUYY4MAJjGlQ4ERCLhJ1tjA9Ky6ostqEEkql42ECduduRQfrvt1rUK5+mndHg2f6XZSQyeUeEIKBu2LZeI3JC6d/MTmngMyeh82w8aJlQiFgufO15qGGvU0PW9//NExHYQYSYUAJBGcItiy2qLqXsZQzOixIfMqgZ2+tDWzzc6vTm3mzcUxmpkSNf/5FZzOnyuUPfMstTPmxZFizKvc8VSI60z6591l40jNequnuoN9j2QI8ubFekGUXd9//NExIcQiQoUAJDGcK1lUDtttIzPoBDI0+JXC2REJDlhV+ry5LHr0x9dM5TRp8az1RszrKCoOkCCp89nkk61PSewMJWrShK2VGAIpSbDplRsshcGcvegtHu6Mh/o+Xj0//NExJcQAVoUAJDGlFU12S5EOjGRmRxiI3ziGfvDDiDbetZDPqmpdLLkUwULg6lgk3osh52tbhcdQToWxz6tLlteesdehQZRl1t72ViBf7aE5qFXvy0xZiLUFbdY+JeF//NExKoSeZoQAJjGlNlUsnnsDEcUao+qMnJVj0xwtxZ+3H7I0N72Tc12/L/retdv8ls8k1/IvZ9iX7qzfzoGU69W1bnjat4O7bxTE3J0dWruRAqWzgni17FUs2uDqotG//NExLMRYZoUAJCGlJn5IczfGGXbZHUn4f39u9iRbsLDmn4V727DLdpC1+83yv3371bHmv5Z9soGU6t71pKTK+Z+ym7LqVYMbgo0M9eq//bdgaESkdkbKjbEnkSYzfDM//NExMASuSYQAJjGcd4VMEQoNDyow4os65oHuURsGJEE3vQyg2GRZzixlA4LMSym4xUK1XQZqaDXU6RW5O/CgyCvJTfMTaT3E5ov0Ra3vKzX9PPvXeXDXnzNjyXDChEk//NExMgTMWIQAJjGlbxvqMMizvwIAqia8lq1p9O+uYHCtbtd9l4iUTZbj8TWT3i+uaO0BkqtdmpupS+P6ehlCkMXaSmP8GhU2BGqq/1QSdNjRZOTEEJpHZWBwCUA6Ymg//NExM4TGYoQAJjGlMnmoaWZetzhcVquNDnyw97iwyfUmYaMoFkMIEa5kWcmBkqddaKSnW60rOTubG42dQ6ai2My5FvMyz1Kv0pT0WzIGNtuh7qU1aqK1vYI2LwOgTCj//NExNQU+U4MAJjMlYedSOE6zlJQmYaxKqDjUriiFI9JqtAAFZgKk+t9THBuIkuVyoRaHyMzFFDtwUI+5rtmuRGxBVCuLvkNpnqowwMWAxCWF3qNoOVOpPnYxkkszKGo//NExNMTMVIQAJjGlEXuWbAMcIIIishCgjJnKi9ZKgpEq69p1JSSaKDM5JKWPmEnH7kxaTptLrt9ZtJnua2bBePSkl6Z4EM0JXY2JMFfaFNpSBuQ5owWqmFKwqRGcQz9//NExNkTAW4QAJjGlCl2Xedp8c7+RyFCmsk8y4Rl27f+XHPgTApb6jrVCpXUz6/UpDW0jEr1r8shlpUUcURts+pQtSNp5FZ5/bar26NJ+8BakVc9a4px59/fQr2N7veE//NExOAS4SoQAJjGcJRwsj+8PcjzoLTaQW1V/H6bctrfv3TIBlPZSa9KYvbOrjqamaKJkSzgsjdzcnU0GC3yQNlulwo/rgg8oIgcJgwEBYXWQKh4ShxYdQBFvnGk0E+v//NExOcXWuYIAKGGuZNbhZT5WHKqSw9LT1CztxKiCtVP2de6cwTOmYDrIchs3FRlOoww8U2URYjsZk5wmsN4gSXLFMlZLJNOMlM8oUYSZWzTznthLObdLjHJfhkXbmZk//NExNwTOZoQAJjGlZMmMvTyP8zP975/+xHn9UHsImK6Bmn0FM6dSQ8LVUXD0KjxAarGHwAkdRzBilrovcTB9KTe/71Fwg++NUx38YjzEi+Eq/BG277+fnfPNMax/r6t//NExOITMSIQAJjGcEFjvLev//2Xxh3q34orY6qJ2grVl9S3ZNSln5O3x9lKULB7OtCbCKpGEqKG6gMnze5rllDwkaGZw7gw6Slrk6xu122lgWKtCVAZExQY2t7HIWG0//NExOgVYvIMAJjGuD2utY40We6OQ4NgCDUP7hsGaum1NG7UmNBG6Gf0XRnKhoHw4mBygNujkxj6O+XQctVTEDK2LoL0YsEU0I9pDwqB/x9FcoqR9y4zZHXRf5etu97o//NExOUUISYMAJjGcRxe3OZ4CtfFMUt9uEyLpSzsrvnVBmO6e10PggIzUxlYxzmYh45HTRlL0LLeTYbYAzB9RFgSM3LJkVhYVGvhFNj3ocJmJnZy2nCyKn69DcjOEiak//NExOcUObIMAJjGlNiikMoozADydqz85G88Kk5N2ocxldPQ44Sec0BTLYiyCUr5GRHK7qZkeW6aUG8iSBKYivAOc+wZDI/znk7lkU6U/mZ/J8juRGlJzkf9POCD0ecQ//NExOkVkXYMAJjGlRsI9nbwF3vMBQwx9Ij+rkJURiQ4YO1nQ2J3+WdCQmrOhpAczSGAoDBAZVlF3upQCYJhttRAQMekEMuc9gjRzrKhBMMMCMDZ8QGP0DCkM/qE9/Uy//NExOUQqPYUAJBGcHSbguTyQIEAoiAoHhghgLgvKAQCCwUGi4uyJ1/f////////GifSSDcRyBTqrRXF70/+on3/RJLV4pJfccnIwwXPlRcsXPkXFzx9jVGZjhmWlJig//NExPUXsoYUAMDGubmxfRtAKMARlgMoijMHBjeROX/GMrRPQqrwRcx3L59ZTTykKu7Djg9jooFZaTiOvxz8p23mlJmk2WklmwIaI/jwcVHWN5ueIQew/kMBACAZG41m//NExOkjKxpQANpQvYiaS7/////////974rhlPZL00GdPZ3MfDIZT3v2M4OUmfegTJUOEJzONXIEFbzhmGJZRHl7TY5kHHMWMdF20aMmPaobn3MKNlKOP3H+N+X+Frz///NExK8iErp8ANsWuLzwM2X0rYYDNY6MR4+t3znH9MQ90nQofDIikM6yxoCh8uDYPhNAkJAfAYOCIb9/////////zf++XHNTPnOYlemVEsUhNZq7+652vv7e16EWP5qj//NExHkfwr6QANvWuAUchXefFoyyoxxcCG5uZxRKGHavTEiaH7pMRS+hkHO2I72cp0y2o/W8zpFjqMZwhuYjIg6h4EkRzzoXKc68zehPFwyUMkwHCPY8ZkgoeQwA9gdp//NExE0guraQANtauAzobo8jgtSWSLUV6/1If/+t7VGCB1dJlOg60GcxRMj7lZiZF9RkfOJMxkpaCnfsszWdgquz1KsGCOgrhuhobylkQHRs9AbEL272s+SV5Llt9652//NExB0ZGrKgANKUuE2TKo4YHoKFGJ83SqTciMOIiQ4KdhVFggNIEGJIaEokIAvjCIndNf7d//777orFXYw0xMzMzLHmGHmZ6u6nOp2Q61IzThP9dcrJbooL4pMrJF0Q//NExAsTClKsAMHEuLXHd/eeGO6PR//1auazkjVByj0/6qbUoDZSFKUpSlKzSlKVL2/7bV00+1aKiPZ/UzGdndt2HHB4KGqdxJAMhr31KpVDJmZkUpeZA5BV1Za2VvX+//NExBEQ2MaIAMiEcEMUgE8zl/83/lYoUSY9y3PFhdx30iEJXZX+/eoSnZIieU8iMnRKd1qZypYFQVcJbDvytVD4qKbQWdIBQiACEPOtJdaU1bP1cf/u/yy1/O71+1V6//NExCAQ2VJQAVoQAIYUZy1Sv+7XKGFZiq1JqsBPPFfb0keQzwzo607Yu483/oJdSjEkvgtcmqFUt1ebOe1ahzn/97P88Pcp/4w45zcTP/rJdxzpf/ubmBomVDw/3tx+//NExC8dayJkAZhoARgCTAHwXQuZJ//3XxhyGI2CThfwBDEEC4I//9rakFuIICkDCCYGoSAgkuABAMUSsN////sq2rymfA9wKOfBIx3FglBikUyN+/r//////////8/p//NExAwVWyLMAYE4AbJzGdZNXQyymDx5cxFFCD0qVcwaF0PGi3Y9aGCc4kaEZMgWVlKlhMcSKxWPMprGMqMZ/7GjyFi08XuxAwnuUKILBeMCSPjxw6BK2P2QRlWTv7r6//NExAkQyr7IAcEoAX20///6ndkT/6OSUYNAYpyHREdSmFnI5kfQ7MVEQtUsZxXWtF1KU3fR3y7afylLKIqwkeG541r7TflV8gLAAEDoViglfKtTJxgTjywkEQY5RhNi//NExBgPeVq0AHoElJRQdjEOoqbWGbg5q/6GM//pCgImVKp9NUFLASgqrip0O8NZ2M/W+wKgNc5TOpfv7eoSIfylg9K9IAPFPH6RdnpmMjaTA8nza++VZTMOn3r/O84+//NExC0R0VK8AMPElPbryMp6RBHACIOSYQzlRgQYBhogV////33F6vqPGb7XaFBlv7zZUut7YLR0oHiBUlme3ozoolkXJ2x+xV3l7vya/t8War1TXrURH2BEMH6ipLib//NExDgRWWK8AMPKlIkIvs4kFhL////6gvN15fWgcYG1CaBAJj0sEYVfkUspXU20eUsI+E/Tna44b1DuGdDvK6jbq+/jf3i/GfUvX1uh4OccoDVjUsjoQlUMzBxKgX////NExEUR8Wq0ANPGlP/VrY05IBGDxV9NdGEyMJJgleooIo1vQjlBh+IrI9RRrbopntW1sjwFTG2WdkzqZUm+M/H1jOIMfJtQkaHVBy68CsbO9P//7f/rlLPCFBBsQzOZ//NExFARwQKYANvQcDEFMDAbeCgiJE9PaDpuHReC2IJ+2KGjAXy0Qclo0E57CP7U9jmtJrA9wo3NP+CE6F2vDwu5Cwoge361syMu4c0Gp4p7GJGCUUmAJGLC0ZXmHLwv//NExFwQ4QqUANvMcJbemqLQoqBSh8s3WX5czifPktQY2JVAjweps3eY9QGdWr22cgRpO9dH///+pZp4So4NKdZ8m+Dzb0xMzBcmBS1DqRKqjIUuqOsnXYj4KvuNtVfn//NExGsRIT6gAN4EcCvWt18vTz+MaKUUkVUhwhTUCYIpR1QCED0lGitv///9KZoM6Mp1L4bfsmUpNMOb2OmDXOBsARPRVQ6pJ00rFi7SwJZaE0y5JDGKbDfOxuV9s+r0//NExHkSgQagANYGcGo1HxbCbofGNQUUH0w+pxD////1ANXcoGZgPT/qKCiYYh8gq3k6CZFW31LEWqjwoRVqIBCsFtmSrNU8zFORzZwHnE8mqZM7SZHnaHGcgqqmoajC//NExIIRESqoANZKcM4eLuCILnif////QhXGsSPDmWZGTui7+BhovABgPB18Kil11fGWL/zmUy41WSojRWgbSWXabv0n7v/+P/n8mjUztCCqPtmzPXCYSwNzP///++OV//NExJASUTqwAMZKcMaYYFK+JsVNCCrgwARGShfARqLTqGMgtvPO+/v6iE/KY/GZ1uDfy0bDlqIcm7zRfw3y/Ty5fDrFHH8EtE6aHnhMaEpR3///9KJpvS8ABADvFbDA//NExJkRUV64AMYElJLMHEmsGAkhlQkoshKBroakg1U9ToZYBpMncsZgP5CVNUEAoRsRItKmPFKlWNtT005WGrCoWQgi9gBCSKBKyVcRX///6f1qRzRPMAPA4sZQCACU//NExKYScQKwAM4ScHY9yR4IgUCmJCe2lkHhvIUaocARpZU5IyJ7efXgFicFYq6RJYrkq+rq6vU0SH2JFVDhLJ2BpYSCfRgxaBHhOKiiRKCxRYqg8ZUhSHs//MjrrPqF//NExK8UAP6UANvScEGVZ+TDYwDDjOozDA0YEFhjokhwGCgBMjiioxIuVSSpeEPukSDlm3BgSzKXN3KmbXqaLUWF7ql1qpVaqcwWXHeNEvmA7JiMvHh0fOxUDUX0GiEW//NExLIYIP6AAOPYcFkKu7p/9ZQA0FDmrsDCXynsAG8D0ciUYAGhncXMfSEMeBmA6BMGE0SmT3aEdZY9oMCFHw2mTnMXWKfEHWoLjpvZd0ZrSxKXZHHuaVrLFz8f/m/p//NExKQXqPp8AOYYcP/1T/1sXT///VKamKjhQaMDBuuWbCDAY5HON/JhkWM7Gg4mEIICQYWBW+QdZLZs/QUGAwkjn8kaJJPPfG9dq2v5yZWMoYhyzH2//0///L+FIKX///NExJgWQjZ4AOPEuPnl4aZ21mTrTqKDwUVP1DO2KMUkDMAqFFpqcyKDB4RhrVW5h/4b33+/4d3cOBmAAg5riNRW0GmWer2+nUXmP7/5j0rlxQOCZh5otT6amGnpoSgs//NExJISMa5oANmElBC4NFYa2+qAtM7mDN5iLRUg5SJwNXBdAEJjIj2TAfIOw3JgL0ga6GrAUoqA0MBAlwiCZuqH6izB1E+TiiwdOG76ebF8wUkgYKNbU7v2JsyMkUyc//NExJwQoJZIAVoYAFGZ43UdN9vy4dNiKI0lrTNzEyUzoK//6tCtOh1KTWjQTM///W7aaB5F/6Z5QPEtuq9wZAY/sFqA49NDSbZRZULX1EUaIkmgjRSPjA066CpJnKMK//NExKwiIwKQAZiQAYYiCDEWzcLYzzKxYs8iRrv7Wpnb+PT6j1Z54j+PjF953/TWfT+n3Dj5tEzH+73ieBW7YUPPVB58RIVx6JWVEulnAd61F4zNxJhbojPQPuJ2KWyi//NExHYU2XKoAdh4AVZZqJUDHigCLFUKH6SNsNwzgKTfQwfvcL73CNWVxrU8NvRouUXDTnTR8x/7xft36KzyHZbTGgs0Oj7anE7/+8pbrpGOLsD+L6HHJwQlCBZoVGs8//NExHUasXakAM5elHxURqtGSH/o2l86cQBJnWXSGh9pS3NLKRlatNMxoaXbss65jH6L6GXf858EF7TK6Jc5wa2nBm7T9G4lbel0fWzAth5I2l5dMEJhb+umxTmzqqbb//NExF0YyX6sAM4WlMTQ8txS9SrwxOASc8AZaNT5kE2PwuAaW3ADDU1yDG2wquNnXR6lkQSJlNSga9a1Geaq2fu8/DvzVlRUqEhYTGGRTVR6tUuVqVQquAocJXf//8W0//NExEwTCWq0AH4KlFXN8jDsDgiG+BIRAmnTKUqpt7ETn7kBOjtQnD6sBRNbYznSuSyBVIVI+isTNJvVsW3q3/MqOWjsGdDKJOJzPN/+awZWAjv///5VKoKZoIlQEOdS//NExFISMWqMANPElIwITGAhGoucgCBgGjDTPE/UWwW5Cq0xXxvdllYRXUq+dq3UKtd///43tmZHo+pUAIRcRL9P6tlKIiphbuQsiHRAw2WTmgrR4AQDThX1JwlGFz57//NExFwReWZQANvKlexj+MnNUWuTkVHqN4pItjCGOCsUmHtJHBUkhpJhEBNGk2yaoEqQV0Jq3yZFVFKa0FXp640NgQk7CDKMY5bECh7hSlA0RTFgCiz5Q6V0zaOZlvcC//NExGkSgJY4AOMMTNZC1kHqSZSiDw94+t8fX2H1NnSD5SJzLE046BHHP9qqnE7fduOFAx01QRiT1FGxupPOUu2RvxFX7nJW1+JNcdzYt6PmXjI8SBeLd+/wxs79SNCn//NExHIR2SpYAHjMcELYzCCsj3RabThwYorFwrVA9Ua7QtgmxHj4iR6Cjmslqyu7oQKAoAUAEDQjlnri+XenH8xdXdr3vzx3/1Pv73L+Nt26HBVZScnLm23r0CwSnCYT//NExH0d+kZ4AMPQuEdjxfEHBu+1+Cn3cZpUFOy/b8I9j+B0rFpSlZo60y1U+ltY82sWuRrTA7OSYShyXtpFOEkhTATEwUgTyYUKHGpnUu76SqJiJ6i37mn3OuL7d+z6//NExFgZwaqIAMsWlDtu8h/1jROLq9Lr3f/1aZLIEtjb/jbuRt6JdVMEF5zYUTY+oCQT9EwbMTwzzd+TB9m/9YIDtQ7I88w5MC28CR3TCQQ100T5Rwg////+XLg+5H/+//NExEQRiO6oAMrYcNn11atNAIim7gKgqh5KCzDraHZrReO9ugU01q2rLzkVvTKRAhiRg8FWWxLLqIYoyzdCBWydE8Lkwy86GErBcVAglCxp3////3s///oVxpxEUc1a//NExFASUPK0AMsScOBjRmBwLACGSxczTFpewEJjNa2dMFyZYtGHSnWoNVoM8uGkUi4BQzeSg9C60LKaAQuVzY+XuOX/flWxxPIkCmnblTISCCCSJQoURB5Tlw6ICRbC//NExFkRwTaoAMvScRfYQVCateNF4i2MSrchrLIehlN54RoJm8OLNKNNMSk1uLS5xrjYpUC+URn2Rn9KrP//9BM8AkiqFcdCKUBb9DYhOCamlYhBCI9pn9JrCNBVWZB+//NExGUSkPaMANvScMscvMiIjQIEW8J72zTDJtp8NBk3qNlTpj2DqFgPFn8MIrqxxB3///xURlxyTbv1qpSo4AIYDJzPDDlAeDlZDFjSGXGGAF2Xwhb4Qgm6JAF6lT51//NExG0SSQKEANvMcMWGz7gPdSRdGP3/efefO0+JmDqPYQRFEsW/70jAx////5Omd08YFOFEjnDZwMPGYGuwzuhI6HEATci/iklThYK+waVeT9UN+L3LuX494zr96PLV//NExHYRQP6QANvMcKtTIY8U1f/+0OSav////sPNs/o2+urTwHCTsdCg4exJuBYunQZdGb4CzsePRtQcUUPbJgQoB6AjRZFsJwkS2gitKprV//+qsyAilGdv/9aDDihd//NExIQRkUaUAM4EcIK////uIlYbrfR+ytWHVRH5NNkENg0oIwyA15J/DjTyiaLDCIE0tMGMNNb0voCnMoTRahEotcFgVK//rBYNHf8KhkRVf///qPa3OaHVSOMQgzAD//NExJASeVKQANRElMM0LTHgccCEARh4UEBzJGeioEGBTgxUujWBvwzA6xzBSxRLhMl26T9W3X/7XR9WLa7UL325oUBDSf////9aMAgIx6OTVkNMhCEwoOzA4WA3i26D//NExJkP4GqEANawKI6tHAspnZVqsZBYVEwyGWWlWEa6Y5DEJctV9ikOTERJU8zV5W5/2f/2Wf//6hEPmjrJyToXzBo8YyBscgmWEEQ1zfMMQGE+Ugg1QtPe8fMQY5wf//NExKwQ6U5kANwElDgiDhcE5MqFiMUSeHrOnZlKGjV1H2W/Lsalsz76/sqZdRUkMzRWM+ZLQoQnQ9E3Ym1iAIIBNxSyg6JcTk3WQJMB2XFjSAKETxmk4BGjwkgLKQIh//NExLsQgGZAAOYSKEAxB5Z14Z7EpIjOpSkP7P3oNMfJ/1/0qgE0EoRXan2IXscqXHWHbGef6s5d/PPvaHM/E4RW0fRV3tR3fVHS7/y5wtAGupPhhFykpZrD8HyfB8Dv//NExMwR2K44ANmGTG0xjJB+t8YAWoLyc9XENlhJA3POH4YR7gVSCYe+F0AuoC+QWDDQVIYASxA4pQG8YWugECAXuCJym4yZvQJwLnw6QT6OAhv5XUgfLhOEkXWIuiU+//NExNcSCII4ANjMSPz5gaHzA0QPGh8vlUgJX/5cJwZtI0LhMGhubD2PYvhokMRIeh//lxD1U0D5fL6KBqSRxSZqVv7/+iTZXN3TNNNPpEyXDwyg9E2REsMb2iMFWXNi//NExOEPwHpEAVgYAGVscIzimBxPiesTpmgv3jcpGCKp1PBqVDkuEQCYlgqKz0OzJDJB1VWQnzIpEO7Xq7Os8/lMWMVpsE5WbdWdveP5/rUd3s3K1mczurXOXLlzOAqC//NExPUnIxp8AZiYAeNOCmHSyCrgAlIi5Qog7v9TfDlRwGnjnQBoKm4YIYiQ/6qi1iyECoIDABFLKZShTUDQfjQDgFcFwNBAthY3zIOweoTBEKYiUsrlVZOQqJWBDzPf//NExKsaua6MAc9gAOM7iM86vUcJnnZHG+4+45Jk52m501VWDgwocW4s3c2MzdywKXPzb/////8s+JGK07TcjwQyiYwJ9aKfpcU8gGrmCVQPVX9C495YbHmaaRZIWaoz//NExJMe8m6IANPGuBhAKnx0uLEWub0vEtpICRJu0bYl7ycMnbHTC1GprRsOFTzUXsU0htxzWcXuSTmUP0szI7D7SyAoRqITnz+hIUMrEVR7DGQUURFxUSFQogdDgqo8//NExGogelKQANYKuIYgx1Tejf///l6FKrOQ0VGKHR4QeIW/GvoxeGypJKG4sT2NquoS58Cy4jPI1hWKsZSa2oPCYmwaeRAjUcGiSBryjEddrkQtdncaDLs/92eN9N/Q//NExDsWiXakAMYSlEkgySgshRmeU9OxKu/bn5/5deeRakUY4QNFtzP///RVwe0QnCdUN80F6XnExSEvSa6QKi7P5jS7aOheTrOp18IJjyBctqwd2a1q39bX4fi8yrof//NExDMSCYKwAI4OlEY4qaVD0LsjIfvTemWlVUgzsjSt1Kryg/XYyg67l9jrkkkARZxUoDhFXYHt6T1afGPBSMB6gU8Pp7Vca7uuf7a+vnd/+utBICCIrMqz13ou5gou//NExD0ROWa0AHvElGAYFnP////V+YBMoEjYuKfbg+ea76qiUbwAWiaowHFU9yHRjhjNpqYIx8DOlan/bd+L/r3/xXbf0rmVANEGjVaDzY6BHOKWNDsQTYr///91X/Uq//NExEsSiY6oAMPElMqEZzStlSIvMKv9cDJuyz5kFCgE8CxjJk8sF2m0htFMyyo1Vwmn4j+2vr616+fP+fe3swxEMTFqecU9kiuJGUZwTjyzRb///7E1xvgpChcsLW0T//NExFMSWYKoAMPGlD6j5A1i+xK+IKMCahQBxFYtUSo7JxRMBhqQlSRN1VtVvvVr+m3qVhRUEw2TLVp8CMCWGFKGQ+Vt///0ShtCmYANTEUyRcGhzzLBPnXZTFINiuAi//NExFwRqYKgAMNElIamxBCCRVx6Hc89CZCmybHJXnfb//6//2q0Kw4ork6PXKilMhQollAQDlv//+DRp5I9/5l0gsTN5NCMoJBF0njgRr1SXY1YzxMhiFlVARRiVZ6u//NExGgSQYaAANLElJC5YbDICnkWSvPKX////T9uYRDoAjg8ZWS+qejiJ0Ggp////nf/ytUPAaYG0Lnbm2vYPzrGPeUyGfoQARKJCRWoEdYkkSo6dOrh0uZF1NGqfYDi//NExHIRiXpUANJKlBYaQnKtOg015J/8wjVf/7GamSinqFAIp+hClPLqBWE6V6y+3rEIocOMyBgIcBMCiR5H53+FWRDQVFip0BTAHCp0JHnNnSgakjdhb1aXIZbvi6L9//NExH4R2IosAHsMTDdXdX1A0u+Pd/+uBnevUU50gTBdRHXOUp3PzQhMCJIAAuokseJA/aF3Ryq0OYRFBQMiFYbltKaESi0nntSf3MYVwgtgKXa2j2+/0wql/XWpns3o//NExIkQMJIgAHjMTAizm6LzFhWeWsbGVC6am5vHXzEZ+36wVQbr8U4sI7AjgyI1AqKGQFAJi1jVkdFiU6EhB+MRec756vgO9zQGpQZJWi77WUpZUy5yEp9JibMT0zIk//NExJsP+KYUAJDGTDJeMC0QhTvnz5XBJ2gzX7JrFEVfKshkZvq1Msrn+5G89P71r47FVJHu3iq3ICgrASxjmTMclaahizAGSWt/tUtpZWUKCzsxMMSQByHGIRuTkPlh//NExK4RoWIQAJjGlHKVUxqDnGcl0ZSyMl+lp16fayCSO0gbtVB+ADu0MNaSeKZ5Ygjj7XOAbuSDjG1E0VlzVQqW1epa36ee62a13EI1JQrNGOzxbOnMzHbGNzaZoTaa//NExLoTegoQAJjGmJqFJ1js97UZh+cPTS/fBoKg+aMhIZQEJQWjy2TFxeuqjWNEF6sAvQx7ZtUKz7brva/sh2sp/phZlYTv5z7ELUvKe8lU+6d6ORVRMCKAADB46TFL//NExL8S2bIQAJhGlEoKgm/RYRm1PWZKXuIUKCa1WM2MqpmLKh6rAyoGdXd1POoKTWLWqFENSCYkNkmyxuEwxMBSPOB4MhM+56TAubXmyRgoKo4bvHrBpqhI00nKhcC1//NExMYSkaoQAJiGlM44Jn0b4vz7SLlH3poK0arWmtkFuoxaI9fu7QXpWTCGtrCI68gnFve7eWBTkbr7PmDNftpSGI5O/Hhpmsi+U1U78uWlDSWFRKhYxTJgSOPYHaQc//NExM4Q2SoUAJDGcGWy72XUPi7G7ygFJCkiYFIGasvtTdaeRlDdFJlwaKSMjOqECBnQgN+IiK04GWCRJEHMc0YPchL04RWR+L3cxaQbNbLUj6+j7Nc3cRsB92AuFlJP//NExN0Q4EIUAJBEJET3d2+v9yPi2/snprKTf+y9DIoB0H1dwP2ksY6+oQBBj2IC3FkyYXtdp1ucgjQjRyJ6iplArtg5WX2QjziwtdAW9nqSGeOZCHSD/6koYdfSEd97//NExOwVcY4MAJmMlHSHqfn6TkARP3+/ol3P/19aztZ+X+AqOCxf7J6eEN++0cp4cpaZyKGc+iaefjyCAED0+fU2fnPtaqdS6/SG7Xrsj1yLr0+y9v5ayOmRVg2y9r3x//NExOkU6XYMAJjGlYMVzERSTOKuvCzjp7X7Fcz8s2VCvSj0yo00hS/xd5J82shVhyeVVc0sE7DRQI2NTTBMglC1ig3RyOzdgWn6zAw1wvZohNpi7mEDcYI5WKQRQztG//NExOgWCOYUAMGGcZ9fde6QiV5GFPhxYnHL4cIOSPEbbfrkDfmD4B4l0hZ6S+fhivLhj3AH2/2+v/5o/Q8fb/Hzf7nGCbcVIHhyRcMWZddwx1qMbmbeFiOYixEFRS6J//NExOIa6pIYAMMGuNqCVI4ZUMKsEZEeXVk3BdRzD4yMvUtidvwV+W6upFiqlCsx7M8xnyL5moW5f9tmQ57Q97DtjM960QYgYqzE73mIeGJ3OtltyZNeE9IZ2kmFnYec//NExMkXUO4wANJMcYNGExAYmQgwgiA0yYDTsvTgBF6QLRWCSTJ6fqUU4Fxlu662UtFNSruiTAAJAsurIgUcfGRvtwXlO5JfWjp03yaMU/+pnd9aTtMykufMz8tv7RIo//NExL4hsxpAANJMvJ9iH5WTt3zszX2cYibRncCGrM16M4WHDiUnlirDhPYcTCQI5bYJiSIkQEwniWvODBQcFwmDwAAOhwDQsLDuUoNx3uOA+DmgmCydGsBxP9TV/6LW//NExIogMx5sAJhYvUXTTdm94g1/uqrVCei7PZb0sucfWcetdXznP/3muN4pTE1t4+J629NxKS6zbdNvaw70f0anjFAgPlE9VSMUMdmV6FKhtYEuyuTDE8FhiVc0UxKB//NExFwgMyKAAGievLEMNNJJVD514vBUnudCdUU6VdHorBbMFibV44juPVlSyGIFdREKgGN66n0VG7kIc7sDqe29rczXfZf/SlLVO23X8zPd8zO/eWFm/jm7NJzZyZm///NExC4dixqQADiYvUzlPmsEnGw2QqKMx1/IoYzxyjmRKmKwoT6GoXlgc/jVOGbdS0hl8GZAZAHPxEJ48EMkDmPh+4dHKEaqT0lV4kieWl7QwM0TtCpRLfwjIyWm06Mc//NExAoR+xawABBEuGSkD5dVQMdPL/3+n//2moRiKkm+v/78zSOh7uZEghzIh7mc0piBwmY6uQwplIiOFZ1KhDhRnRzGjmOpHYCPA+07/4ZjDZJ2qKyAEJW0QFW1GCA8//NExBUWKZKoADJQlFxOowy2unUYtq474/keYtVd2Na+PI6Hubdo5dtz3N06DqlIugeFlzjiQaPJYkY2vOIiIit1dlx0xWdK9rxs6ItapV1aa4hkDLBzkvP8g5L1arjk//NExA8S6QKoAHvMcFYiznOtDyfgwA1B0OZ9HBDV75nxFPCZ6cAHIGJpYzVTv8z3mX9raOzEQfLFRRbrHXuiYmBbZZ+///19PG36r1EGjcq8RUo13pMHPWnkT6h7o09S//NExBYRiV60AM4ElNpYgx+rjHWhYUr/PLhjGr31pb+7nP7U7/n76FKqOyq0IVqNr30ao7Ielyf///jKtSqzLmunnykhH3gGkZNKVDE1pe2JCUS52bABqSX1iRattqsJ//NExCISAU6kAMvElCFG4ycrLbCq34WP9/8mUfBtcuDd501/uZAEqw1lXL///1JyLQ7qVvccuua1wjzuigwcmbpXSEIANCbnAeX+ifO/AbddduPqWbRGfhadrkU9KR/V//NExC0RURaQANvScL8Ff163nY7y0vEmfdu/+ydtv///iKJf5GpmaKxgcLGSIoBiUEAFKUyMHH8hLohgSWojcjI8IMVL2doPelzjNmWfeQztpmMumMotP0i/t3qO7045//NExDoSSRKIAOPScEer2eMs/X19l16//u/+tNVlLXwABHN7R0woqeaM5KUrHYVvgi853ITeCHAKPLehE/grG6NTTnNb8J9yj/zt7ic/N7OVlG7FgyChbc6vQ5KSKeWP//NExEMSgQaAANvMcK//cS0f9RV9XCBACMYQk00JSECGAgWpFqEWCgDV6cj0/ldHQ8TIyrwVMzUne71a388vu15/VXa9X6VUGM+Y+p8iJrBH7P/5irR1aj0i57ACYz7H//NExEwReQZ8AOPGcMX8h6ah4CBgImo8j///9Tv/UkQBknPidpBYgg+ODFw158YMAYWDALiCowfJ1PCxw4o4XeUfE74qBHIqWbogbRtq/////+md9/XXRXP1d2YIVaok//NExFkQEDqIAH5EBNjWd5zaCz3zJ4M7Y1zwkMUGaV2p3KeruLOhiGRZUYpzrjXZ4jG1Cbl+No00goFhVtSjN841yh7crGPcpIEZHhrs03JFo050LuwPHT45Ee+VEKKr//NExGsiGx6YAGievBP2rlzVkr9SNrGQtCIlaPDkVCvOdKOcRWM8Ca7+9eH8BjGz6LyaNJ/1eRmfY9//SsO5Kn2Wgx5nvWdeOiyW4y+JxVXgPbM5OIv+1O+E7R8RUIlr//NExDUd6xq0AAiYvepGKC1C0+KxeOafFsWPYe0Ww1JXl06Vl0kPHyL1yl15dqxdvSmtUp1w+YKSONcJZiSaHcDMS9O4ewmJDNCdZnIdcErpa6shRjE5rMzorpZ6z1P3//NExBAU+tLAABCQuRZiPXcr/7cl7jj//viLjDuzBqj0GkiADYOwqKocOdK5b+SYv+IO41n4+Pm141a2bq62u/b/VV5VWNlrymY4k0rC6UvLjpAdNqMOhBMWEzTzNB0w//NExA8UkX6oAEmKlKBaA4Sp3XzC0HQ3ZnGJabL9lKR7fq1WdhEOlKypWXV0GgokLCokHilSImQ0RiUsVYWSFSqKpVztavd45m8C5ZblyuSVu4oTgo/B4NLhdb7FtFHH//NExA8UiT6gANYQcITCkSg1JGk0EaHLZGhLadDr1KCPLPPxG5i/GIxZYkF45oq6cf7v9f/wleeZOZTjQbnrCTEnvE7wfeI5P////WFjInSq7i+wMsN+nIbHavz8BD1X//NExA8TeWqsAMPQlDsdAjaVqnASkukQX9l7ED93APxZ8jxm1SBv0r/Sm9Jr19L90ogwIoIFQ+ZyDoRdEMbIN4FJea////xdoFE7k/28BJlErcyrZR068CIKe47BJrQD//NExBQQyV60AMvGlB0bvJlPrtZzTSIhh1DbrbpnWKW+NV+W+sfPyb2kICaEy5/WklWhqEzz////+8S1Ksaiyzm60Bj3KGjxSVSQxY5H4+CgaFTQDCESn0VsXaGQjAm2//NExCMRwQ6cANJMcMMjUHJVlbtdnxsmruJ1pyLl8SKOAosJjwo8GpUJB2d////bkplfAyjmzQRgIG5ZgKiHELWDAxEMEZ1WEmYlYUY/dkjVDA6T0aRhXVH6EunAefu7//NExC8SOQqIANvMcAXaZBp6z4zNiDog/FGJjiievnrynd///+zViTomMv54hyqoYYBGhiTxlQSUyf1ZBXFvOpJGgXcnTk+VCgOc72I4DjTFUNo4JBfSFHE5HvSaWhJu//NExDkSkQKEANvScEs7E7ppmyFKikkB886KJa36FeQo0WkDBQKfOySTrMSPFirRB0W8I5yTg2xAj3L2edjrO9LnCLeLoaaBUUNbbbiQwAoeHMQoR1hMjLTIhEBKoy3M//NExEERcP6QANPGcKrhlW6pqioJ+uMeDMCZolPFkGAGPJIgIMRTFVixo4nhxhj9SWBW7FwV5hWNBXfqYkHysYIJg1DqlreW+EOiSAyBaR7fOE0efL////pVjr4j8EyT//NExE4R0PKYAM4GcMgakOBhBdRTVVEzgQnEXUi3ebE0ljak4dcViS5k+ZXBLr0eW7HDlQ7m3SNedLatnRj+FeeVEjgGUvws6c////6FutIF4ir1CHrL5KqSdkZeZEAE//NExFkRoSaoAMYGcGWUBhSIfwnhOFsqDsLuBhDwCuJ0hbJPbVyWPblz//yzpfG1qgCcz7KJUdhBiGpUyLJVqsOJsRSlOsQCO8mvgtpYJKtYMWaz5EtKqzHo9K4EbrSj//NExGUQ0TaoAMPGcCBgyi8qld+M48Qc7PJTzWzM81yv7R4FqQz7PVQz3FWpeeaXep3///+hiIV2R4OgiIRbdoq/JY9qlgCULyyaC4BQ7DsVh9MX7Ji1CfkkwXPnalUU//NExHQScTqgAM4GcHhXmn5Rj+FxsrTAjd9Fjxpo2gDi2///+51mpVkhSLHgMIvl0B1WYILhwA0MSGi1ygy635kLkRsnJ0n5ETDlqNPWr2ZTKqk8z6a2a23XH3nEpHK1//NExH0RIQ6YAMMGcByorGDoaJg4d7N/7UXnEnNqPrNei6pvgUwi2kbNBjoAbsDLoDCVIgFETCXcUpqvsDcKgrD4CgygLTj3Wmcw+aKK5Bhy00u79We1nUyiRB7IqCJR//NExIsTWXKAANvKlTEwAUQO1n7rqidk7odnU45xfBMd2hGAGAYhi4kVaBH40NVVYCAlFQxMIh5WpSqH3ZVgMKI9rAaqB9ZUXr05NeWRlptZM7bZr0fuxyOg6rKxGYIX//NExJAUYZZ0ANsKlQsOiu9dXbf+nVmsrOPGjxJX///6l2sGTxg1AGZkZhwCZUgIQFBEQiCELIIGZ9TQQ1Fe5OZ3MTuRhg6zXX175iRVS9tnevbHxs0yK6JMiqyqESiT//NExJEUuY5wANsOlP6+6f/qpWjIls37CgGZ2whqqaAoqag1lEggVBAaLAYxsvnEZDJaBawLAbB+BYiFHjPde9mIKxx0c/KWjlVmLRUWxAxigIav6U7+3mMwDFA/qnYq//NExJESQY5wANvKlRQJmVJqbWCJh0YBA/BIkGQPAqlUhVub+lwp4kUwSFRNqqRp1+VS/i1KLKT8leRuuncyWKjzGJIaZ0p0N/6aeyhThQFZb//9NZEadImjAaCYEBIY//NExJsR2YpgANoElQqwKgZh4PgsYIPAbDkGQ5WSLliwlMz5eYSSWYESbzsiScdubY5YaColJCVW/+z+a2/ZVNo/0ExFUwQEBJYLSXeZ02+lDUMokGQGgk2MayQ2Up6L//NExKYR2ZZMAOJElG1Ul+66ASnhs89VcKmQeHf2Z0yq95R+pV1FlFClXtWslasY23QV+qoixPUuGehGfSC3FJbGxRIdSSawMJRYAmjKqQcDwXUbELRoDige3IQJ18Ua//NExLEQOF44ANpGKOMiK8atqcdAqgQUqwsMSS41y006o2QTgcuaapcGUp1s2t6pkDfpubtSbFGsHMQ0qvQSqpwOb5Eow4gSxM0bM/HHWlgxi3AMOsTcJ26Cgkf/P/9q//NExMMREOooAMDEcPy6hsOs/1ON9o3i13nNc+5H67jlBlFUK/TTM0ZY5YL3Rr5OdyhtHuRCDKMbHCE7FTr1lBGT5NpdwasFq3tEpAXcbIPckXmTxvAoZWhWbFA46w8a//NExNERuG4UAMBMKKRbdKjl2F7wMIoUCtEVMi7UlqVuko+hjtmIzg7pXcmZGXnKPOObbtG21O/3+O7PF5F2E7lV1JOwSymUtmcOV2kbmO0+VTPtNulVVuu6SeDWUloD//NExN0SoMoQAJjGcXvgJz7J96GmSIoPvUNVCtWo6q7O6+4DqTUToZVSsa62u3Kxq5ISeLOkuIS9BlTMwoiWFmjkWELGPSUteOQ+eQRJu8dla2GlnniE0Vj9ZptNFSqF//NExOUSgQ4QAJjGcJ5jSD2ujuj9p73cY5Q0BmtkNXUiotKZySZ0clu5HVcPDFIDaYm+JyzpEmKEFiXd6pRylBVEjDnZlZBHI5EQjUndqldUQpjJ11dmdzs7zvQ3eTrQ//NExO4VUkIMAJmEuPROVe7f20koo3XeDCWS7w1LJQZrapNbqa6zcFNyMMVahhCScOm256PjVvBGI3ai0JMYP3dNxNEnKc9ToNLuqPFnqxkQvFFq//pzr+ZpdopNXN+d//NExOsUua4MAJjGlQpd3Uv263yuw/mzHnRED9VjIb5FBkqTaLWdWYSRSIhfh6OUJ3vd9Oa6d6+RjNufFbLpXMx2/fI2wzgqWcPDTBgQaRFUnB4Uc81q3Hn70gblk2Tw//NExOsVqsIMAJjKubsD/U6tS1IiWgtNqQYiVs9mVqMDGOX2iA9cxcZk9mYPFmj0Uy75I0Z0HAQx01UE+HV0bVGIuQPk55s6GkdC0jV3hbn0YyjUuFEjRwzteX/uA3Gp//NExOcVIaYMAJjGlbqPux1/AHowPc//Ku/Vw7m1CtWWznWUmiylzbc1uOhC5quSEiEqky0pJNCcaWVuJa1Y7552Nmxjb8ecm2bYau/22xFShmCaSZ9t5+H/fOt3WDuf//NExOUSsSoQAJjMcFeb6xujh7tKP/OvftXrAF07sfyVBlK21XZlXPEhnTChHdmyVAuGHYFyB77RH0ysEV6DmkPsqqtEdhflwnIgRRYNCoGeFC6XqkhSrrLrSBWtsa5T//NExO0V4goIAKDGmR1u8ql5J3c5qGKShQrT701VJT7AmnI+OaBwRtnWqRBQNWZbRF/Jp8qbQZrTuN9TjOMbcp5yt6m/0uI9TdY8y5LENjGb961ldaW+RXhmwHDrXHO+//NExOgVUYIMAJjMlUW9v9B7+art5Z2O1QpF/RSXQRRNEE2d7fX9bhxcj1OVRYlqiMNRww7yuZE5/vL28e4Y4KK6NbacqESOgRag1geAKyCQWoz1m7idiRQZXzuhVEV5//NExOUSoWYQAJjGlEssivAj5d0nHpznAN8dqu3YdOx+rZcFKgZJTauzqWkY27eWhyd1UEO9eykkVfBZaenCH1rg5AZoZUbEwusdK1V6et4w5nFZSdbbGdR5DNBwDy3o//NExO0UkVYMAJjMlQEsUbc8RrFm7XrXBmkVq3WkzKzYqdEGCbNDUDXIMDVXB2EEBtZj5G3Pq3x+ra+3D/NsbOZT39tt/mPXeuXrUNzOgSx+nffTXv3V/24pddRBo46///NExO0XikIIAKGGucS6/YVVRHdvvdi38YUGadehSUtlLUTpRO4d3HIRd0ioDWHYJWjdjJhkckBsYgs6VUEdauM4tPKHozwhjjt5YaqHUygTv/sjz2cdd3IrDeB3d/r///NExOEReYoQAJjGlMb8G92rayJPvJDt/kqbBCoGa6rq7pMV+VScIuaw80JAcDsLUIiyzmkQ0IpFBrm3UTJxsBKRzF/aw+eVQslDjOZ5pJkPcdl9PLJdT06cjS99Zg87//NExO4VIYIMAJjMld+U6U1/d4Pth5u999+6CtEVOnUtSt3OfW/airrdgpLQ0NGb2NjM0Y+QpozEegmpxEGkDIKrjEFN8vK9hIzhsiN0hDIKzWOaP0qrbkc2h/qf21NP//NExOwVSZYMAJjGlV1zy3WOP7//q3yXynSV9NZ3PQpE0Vup1KpJOXZ1UPM/EyDMt2tL6tH0kfV75eKQcv5UPeNutvDXYnFUS+LqLa36CHKEFE0s6DWg8gCnp/GpExmw//NExOkUIYoMAJjGlX5cuBL/UkRETKMS+SB59nPhbK8XeuHjOdyrTWIe2gZ1bKqspP5mR9OOxguOR5+5NDTCg83KHyE9la3O1vOaAABMLVEIZHNMUEDKR9yLmNY89n4n//NExOsVqZ4MAJmGlbGxWFK8uva2LrVdewQPjk0Gau1a+kk6Ck4LV3WNag+hwvWCVMGp0Y10dyACokxz4TKe7TURP9u550qmrvCsPI3FjWi/jQk+Db1LVYNzHXbhWtt2//NExOcXqmoIAKGGuZd1k6r7NW9Je5g97TYhN1UK1smtb2Q1Te2EhAmOqUBNCgYE4syaO6nCqOZ310medy3iGdX56IZtdi9yIf69yxlT25jU6jadTWlvg51++ascc5U+//NExNsRKSYUAJDGcPTPyPgl+o1+vwqE+I/Kzv6qz+rgcioGUTW7rQZd1t6PpvxKuiVuYgCbIOn6kx2paOykpanOzjnU2PLqGT4QY1Eq+hrw8FEAM4QFR0Ww0ZtPJZfF//NExOkUkaIMAJjGlY85TMqIAKhFJtbTyRHqOoeiCtXdVaKlIumzGNSEkLNMxcpPjWqUVXNjgE66uET3IM4Uq9UxkUgaKxua2o57iypSwGGnkQqtbNiIqcT1L91MiPlb//NExOkWCaYMAJjMlddOZc/WHL/b5HzMofmSZckyypUsgZorRQZTf9lTmPLsBOpXlfZszQlCE+DQFkSxOwUFlo6TwMsIUmJa+AmGkk9Okalh5DLPm+zn/8b8fZ6ap72+//NExOMTcZoQAJjGlPO9ft/Mv9jL2XVW8ux7VsUGDZQ7cOSOcnqXK1S1pmpmjoQoBUSwVLUHWiWoaGoCNRLBaJ/Y44pe6wyjL4Z0Nr9LVCY/pcE9L8oq1YalW1UuNqGS//NExOgWavoMAJjGuCWmC5h7/cbz+suFW6b/Tf/rfjUV5fmxOu/iBNB3kEL2gEsjUOUq5YHMMtEkCihQsgnF4kaaVcW1QzWWWWIZGTKGBgwjkZMFDAg6GRqygxGZ+Kih//NExOESsOoQAJiGcSfW38WFiLvxZnF2f+sVFn/+qkxBTUUzLjEwMKqqqqqqqqqqqqqqqqqqqqqqqqqqqqqqqqqqqqqqqqqqqqqqqqqqqqqqqqqqqqqqqqqqqqqqqqqq//NExOkXKd4EAMDGmaqqqqqqqqqqqqqqqqqqqqqqqqqqqqqqqqqqqqqqqqqqqqqqqqqqqqqqqqqqqqqqqqqqqqqqqqqqqqqqqqqqqqqqqqqqqqqqqqqqqqqqqqqqqqqq//NExN8SoSWcAHmGcKqqqqqqqqqqqqqqqqqqqqqqqqqqqqqqqqqqqqqqqqqqqqqqqqqqqqqqqqqqqqqqqqqqqqqqqqqqqqqqqqqqqqqqqqqqqqqqqqqqqqqqqqqqqqqq\" type=\"audio/x-wav\" />\n",
              "                    Your browser does not support the audio element.\n",
              "                </audio>\n",
              "              "
            ]
          },
          "metadata": {}
        }
      ]
    },
    {
      "cell_type": "markdown",
      "source": [
        "### 기호 + : 문자열을 합쳐서 출력"
      ],
      "metadata": {
        "id": "ElwkfB2peoj6"
      }
    },
    {
      "cell_type": "code",
      "source": [
        "print('사과' + '맛있어')\n",
        "print('사과' , '맛있어')"
      ],
      "metadata": {
        "colab": {
          "base_uri": "https://localhost:8080/"
        },
        "id": "tW2XCARxeJAR",
        "outputId": "a5e24caf-e308-4c86-8c7e-649aa8ca0e45"
      },
      "execution_count": 18,
      "outputs": [
        {
          "output_type": "stream",
          "name": "stdout",
          "text": [
            "사과맛있어\n",
            "사과 맛있어\n"
          ]
        }
      ]
    },
    {
      "cell_type": "markdown",
      "source": [
        "### 기호 ''* : 반복의 의미"
      ],
      "metadata": {
        "id": "CphUOmNnfDWp"
      }
    },
    {
      "cell_type": "code",
      "source": [
        "print('반짝'*2, '눈이 부셔', '노'*5)\n",
        "print('*' * 50)"
      ],
      "metadata": {
        "colab": {
          "base_uri": "https://localhost:8080/"
        },
        "id": "dxRm4i9Ee3Qw",
        "outputId": "9557e900-f980-41ad-db9f-ef66b375f183"
      },
      "execution_count": 19,
      "outputs": [
        {
          "output_type": "stream",
          "name": "stdout",
          "text": [
            "반짝반짝 눈이 부셔 노노노노노\n",
            "**************************************************\n"
          ]
        }
      ]
    },
    {
      "cell_type": "markdown",
      "source": [
        "### [실습문제]"
      ],
      "metadata": {
        "id": "T-PMVCj1fk_q"
      }
    },
    {
      "cell_type": "code",
      "source": [
        "# 문제1: 화면에   Mary’s cosmetics 출력\n",
        "\n",
        "print(\"Mary’s cosmetics\")\n",
        "\n",
        "# 문제2: 화면에  박씨가 소리질렀다. “도둑이야!”. 출력\n",
        "\n",
        "print('박씨가 소리질렀다. \"도둑이야!\"')\n",
        "\n",
        "# 문제3: 다음 코드 실행시켜서 \\t와 \\n의 역할 확인하기\n",
        "\n",
        "print(\"안녕하세요.\\n오늘\\t날씨가\\t\\t좋습니다.\")"
      ],
      "metadata": {
        "colab": {
          "base_uri": "https://localhost:8080/"
        },
        "id": "gm2E2l6NfX3Y",
        "outputId": "049cf50b-01cf-4485-8951-19b4d19aa856"
      },
      "execution_count": 20,
      "outputs": [
        {
          "output_type": "stream",
          "name": "stdout",
          "text": [
            "Mary’s cosmetics\n",
            "박씨가 소리질렀다. \"도둑이야!\"\n",
            "안녕하세요.\n",
            "오늘\t날씨가\t\t좋습니다.\n"
          ]
        }
      ]
    },
    {
      "cell_type": "markdown",
      "source": [
        "### 문자열에서 자주 사용하는 함수"
      ],
      "metadata": {
        "id": "gicW2cPHkjwQ"
      }
    },
    {
      "cell_type": "code",
      "source": [
        "a = \"Life is too short!\"\n",
        "print(f\"문자(열) 갯수 세기 : {a.count('o')}\")\n",
        "print(f\"문자(열) 위치 : {a.find('f')}\")   # 없으면 '-1' 반환\n",
        "print(f\"문자(열) 위치 : {a.index('f')}\")   # 없으면 오류\n",
        "b = '*'\n",
        "print(f\"문자열 삽입 : {b.join(a)}\")   # a에 b를 삽입\n",
        "print(f\"문자열 변환: {a.replace('Life','Your leg')}\")   # 문자열 대체\n",
        "print(f\"문자열 나누기 : {a.split()}\")   # 공백으로 분리해서 리스트형으로 반환\n",
        "print(f\"문자열 나누기 : {a.split('is')}\")"
      ],
      "metadata": {
        "colab": {
          "base_uri": "https://localhost:8080/"
        },
        "id": "RnVIJMd1gRP4",
        "outputId": "2e12349a-0c40-451f-a093-9f6685b0fbfc"
      },
      "execution_count": 27,
      "outputs": [
        {
          "output_type": "stream",
          "name": "stdout",
          "text": [
            "문자(열) 갯수 세기 : 3\n",
            "문자(열) 위치 : 2\n",
            "문자(열) 위치 : 2\n",
            "문자열 삽입 : L*i*f*e* *i*s* *t*o*o* *s*h*o*r*t*!\n",
            "문자열 변환: Your leg is too short!\n",
            "문자열 나누기 : ['Life', 'is', 'too', 'short!']\n",
            "문자열 나누기 : ['Life ', ' too short!']\n"
          ]
        }
      ]
    },
    {
      "cell_type": "markdown",
      "source": [
        "### [퀴즈] 문자열을 입력받아 거꾸로 출력하기"
      ],
      "metadata": {
        "id": "gPbFpdwOm8Yw"
      }
    },
    {
      "cell_type": "code",
      "source": [
        "s = input('문자열 입력: ')\n",
        "print(s[ : : -1])    # 처음부터 끝까지 -1씩 증가해라"
      ],
      "metadata": {
        "colab": {
          "base_uri": "https://localhost:8080/"
        },
        "id": "Ee4koSqJk5z2",
        "outputId": "d4cedb4e-7877-4aaf-94c4-cf1dc5f8db52"
      },
      "execution_count": 33,
      "outputs": [
        {
          "output_type": "stream",
          "name": "stdout",
          "text": [
            "문자열 입력: 사랑해요 파이썬!!\n",
            "!!썬이파 요해랑사\n"
          ]
        }
      ]
    },
    {
      "cell_type": "markdown",
      "source": [
        "### [퀴즈] 확장자 포함 파일명 입력하기"
      ],
      "metadata": {
        "id": "anNMz7OwpE1k"
      }
    },
    {
      "cell_type": "code",
      "source": [
        "filename = input('확장자 포함 파일명 입력하기: ')\n",
        "a = filename.split('.')\n",
        "print(a)\n",
        "print(f\"파일명: {a[0]} 확장자: {a[1]}\")"
      ],
      "metadata": {
        "colab": {
          "base_uri": "https://localhost:8080/"
        },
        "id": "M3XWaBytnMqu",
        "outputId": "3258c84f-a66c-40a0-dc17-289e76f68538"
      },
      "execution_count": 43,
      "outputs": [
        {
          "output_type": "stream",
          "name": "stdout",
          "text": [
            "확장자 포함 파일명 입력하기: 파일.py\n",
            "['파일', 'py']\n",
            "파일명: 파일 확장자: py\n"
          ]
        }
      ]
    },
    {
      "cell_type": "code",
      "source": [
        "a = input('파일을 입력하세요: ')\n",
        "b = a.split('.')\n",
        "print('파일: %s' % a)\n",
        "print('파일명: %s, 확장자: %s' % (b[0], b[1]))"
      ],
      "metadata": {
        "colab": {
          "base_uri": "https://localhost:8080/"
        },
        "id": "DeOSjhmEovFg",
        "outputId": "1b1ee4f0-3fb4-45a9-8428-f53f4f25f81a"
      },
      "execution_count": 45,
      "outputs": [
        {
          "output_type": "stream",
          "name": "stdout",
          "text": [
            "파일을 입력하세요: test.py\n",
            "파일: test.py\n",
            "파일명: test, 확장자: py\n"
          ]
        }
      ]
    },
    {
      "cell_type": "markdown",
      "source": [
        "### [실습문제] 음식가격 계산하기"
      ],
      "metadata": {
        "id": "MiDrOBuOtlRV"
      }
    },
    {
      "cell_type": "code",
      "source": [
        "# 음식가격: 4,450 원\n",
        "# 세금: 6.75%\n",
        "# 팁: 15%\n",
        "\n",
        "# 1. meal 변수를 선언하고 값을 4450으로 지정하세요.\n",
        "# 2. tax 변수를 생성하고값으로 6.75%를 소수점 형태로 지정하세요.\n",
        "# 3. tip 변수를 생성하고 값으로 15%를 소수점 형태로 지정하세요.\n",
        "# 4. meal의 변수값에 세금을 곱해 meal 변수에지정하세요.\n",
        "# 5. 음식값에 tip을 더해 total 변수에 지정하세요.\n",
        "# 6. total 변수 값을 출력하세요.\n",
        "\n",
        "meal = int(input('음식가격: '))\n",
        "tax = 0.0675\n",
        "tip = 0.15\n",
        "meal = meal + (meal * tax)\n",
        "total = meal + (meal * tip)\n",
        "# print(f'내가 지불할 총 금액: {round(total, 2)}')\n",
        "print(f'내가 지불할 총 금액: {round(total, 2): ,}')   # 금액 세자리수마다 콤마 넣기"
      ],
      "metadata": {
        "colab": {
          "base_uri": "https://localhost:8080/"
        },
        "id": "Q7C209lasfX0",
        "outputId": "86216f5b-f0ad-4f91-ccda-8407d1a3aa7f"
      },
      "execution_count": 47,
      "outputs": [
        {
          "output_type": "stream",
          "name": "stdout",
          "text": [
            "음식가격: 4450\n",
            "내가 지불할 총 금액:  5,462.93\n"
          ]
        }
      ]
    },
    {
      "cell_type": "markdown",
      "source": [
        "### [실습문제] 섭씨 --> 화씨 변환"
      ],
      "metadata": {
        "id": "XQAUr1lhxs8T"
      }
    },
    {
      "cell_type": "code",
      "source": [
        "C = float(input('섭씨 온도: '))\n",
        "print(f\"섭씨 온도 {C} ℃는 화씨 온도 {(9 / 5) * C + 32} ℉\")"
      ],
      "metadata": {
        "colab": {
          "base_uri": "https://localhost:8080/"
        },
        "id": "UJY3IMkZw0lL",
        "outputId": "104336a9-94f9-42f4-9406-e30cfb9d3fea"
      },
      "execution_count": 52,
      "outputs": [
        {
          "output_type": "stream",
          "name": "stdout",
          "text": [
            "섭씨 온도: 10\n",
            "섭씨 온도 10.0 ℃는 화씨 온도 50.0 ℉\n"
          ]
        }
      ]
    },
    {
      "cell_type": "markdown",
      "source": [
        "## 파이썬 연산자"
      ],
      "metadata": {
        "id": "Jl6I2NoVzwfj"
      }
    },
    {
      "cell_type": "code",
      "source": [
        "# 산술 연산자\n",
        "print(33 // 5)    # 몫\n",
        "print(33 % 5)   # 나머지"
      ],
      "metadata": {
        "colab": {
          "base_uri": "https://localhost:8080/"
        },
        "id": "NY6e8HigyOK1",
        "outputId": "c27d92cf-f702-481b-c39a-872aaca5c250"
      },
      "execution_count": 54,
      "outputs": [
        {
          "output_type": "stream",
          "name": "stdout",
          "text": [
            "6\n",
            "3\n"
          ]
        }
      ]
    },
    {
      "cell_type": "code",
      "source": [
        "# 대입 연산자\n",
        "a = a + 1   # a += 1\n",
        "meal = meal + (meal * tax)    # meal += (meal * tax)"
      ],
      "metadata": {
        "id": "RHV6PqbXz7To"
      },
      "execution_count": 56,
      "outputs": []
    },
    {
      "cell_type": "code",
      "source": [
        "# 관계 연산자 (비교 연산자)\n",
        "a = 100\n",
        "print( a > 200 )\n",
        "print( a == 100 )\n",
        "print( a != 100 )"
      ],
      "metadata": {
        "colab": {
          "base_uri": "https://localhost:8080/"
        },
        "id": "UCJ6MExc0RPb",
        "outputId": "32211ff9-b18f-4567-ebac-444598f25d9d"
      },
      "execution_count": 58,
      "outputs": [
        {
          "output_type": "stream",
          "name": "stdout",
          "text": [
            "False\n",
            "True\n",
            "False\n"
          ]
        }
      ]
    },
    {
      "cell_type": "code",
      "source": [
        "# 논리 연산자\n",
        "a = 100\n",
        "print(a > 100 and a==100)\n",
        "print(a > 100 or a==100)\n",
        "print( not(a==100) )"
      ],
      "metadata": {
        "colab": {
          "base_uri": "https://localhost:8080/"
        },
        "id": "XSnain7i0wjX",
        "outputId": "9ee1ad6e-f95a-45e9-a476-421ba5c7d9e3"
      },
      "execution_count": 61,
      "outputs": [
        {
          "output_type": "stream",
          "name": "stdout",
          "text": [
            "False\n",
            "True\n",
            "False\n"
          ]
        }
      ]
    },
    {
      "cell_type": "code",
      "source": [
        "# 멤버쉽 연산자\n",
        "fruits = ['사과','포토','오렌지','딸기']\n",
        "print('딸기' in fruits)\n",
        "print('키위' not in fruits)\n",
        "\n",
        "if '딸기' in fruits:\n",
        "    print('딸기는 fruits 안에 있습니다.')\n",
        "else:\n",
        "    print('딸기는 fruits 안에 없습니다.')"
      ],
      "metadata": {
        "colab": {
          "base_uri": "https://localhost:8080/"
        },
        "id": "FQLg_edK1BTX",
        "outputId": "4202dced-bfb1-4470-833c-284139a46001"
      },
      "execution_count": 71,
      "outputs": [
        {
          "output_type": "stream",
          "name": "stdout",
          "text": [
            "True\n",
            "True\n",
            "딸기는 fruits 안에 있습니다.\n"
          ]
        }
      ]
    },
    {
      "cell_type": "code",
      "source": [
        "if '키위' in fruits:\n",
        "    print('키위는 fruits 안에 있습니다.')\n",
        "else:\n",
        "    print('키위는 fruits 안에 없습니다.')"
      ],
      "metadata": {
        "colab": {
          "base_uri": "https://localhost:8080/"
        },
        "id": "mb7wUQXV2h_R",
        "outputId": "3011980a-c6c4-45ef-9a87-a65ff2958a5e"
      },
      "execution_count": 70,
      "outputs": [
        {
          "output_type": "stream",
          "name": "stdout",
          "text": [
            "키위는 fruits 안에 없습니다.\n"
          ]
        }
      ]
    },
    {
      "cell_type": "code",
      "source": [
        "for fruit in fruits:\n",
        "    print(f'내가 좋아하는 과일 \"{fruit}')"
      ],
      "metadata": {
        "colab": {
          "base_uri": "https://localhost:8080/"
        },
        "id": "D9b4vXsJ1sXh",
        "outputId": "3e1b7fd9-613b-4845-debf-c19f9cab4232"
      },
      "execution_count": 67,
      "outputs": [
        {
          "output_type": "stream",
          "name": "stdout",
          "text": [
            "내가 좋아하는 과일 \"사과\n",
            "내가 좋아하는 과일 \"포토\n",
            "내가 좋아하는 과일 \"오렌지\n",
            "내가 좋아하는 과일 \"딸기\n"
          ]
        }
      ]
    },
    {
      "cell_type": "code",
      "source": [
        "letters = 'Life is too short!'\n",
        "\n",
        "if 'too' in letters:\n",
        "    print(True)\n",
        "else:\n",
        "    print(False)\n",
        "\n",
        "# True = 1\n",
        "# False = 0"
      ],
      "metadata": {
        "colab": {
          "base_uri": "https://localhost:8080/"
        },
        "id": "qyzTOmta2V_X",
        "outputId": "26b66a90-b119-4ab7-ca19-1543ff94b783"
      },
      "execution_count": 74,
      "outputs": [
        {
          "output_type": "stream",
          "name": "stdout",
          "text": [
            "True\n"
          ]
        }
      ]
    },
    {
      "cell_type": "markdown",
      "source": [
        "### [실습문제] 동전 교환 프로그램 만들기 (최소한의 갯수 동전)"
      ],
      "metadata": {
        "id": "tmOhK2G73bdh"
      }
    },
    {
      "cell_type": "code",
      "source": [
        "money = int(input('동전으로 교환할 금액: '))\n",
        "print('-' * 50)\n",
        "print(f'500원짜리 ==> {money // 500} 개')\n",
        "money %= 500\n",
        "print(f'100원짜리 ==> {money // 100} 개')\n",
        "money %= 100\n",
        "print(f' 50원짜리 ==> {money // 50} 개')\n",
        "money %= 50\n",
        "print(f' 10원짜리 ==> {money // 10} 개')\n",
        "money %= 10\n",
        "print(f'     잔돈 ==> {money} 개')"
      ],
      "metadata": {
        "colab": {
          "base_uri": "https://localhost:8080/"
        },
        "id": "Nbguawgq2_TP",
        "outputId": "ab9ad859-d650-48c5-b595-50937a80e46e"
      },
      "execution_count": 84,
      "outputs": [
        {
          "output_type": "stream",
          "name": "stdout",
          "text": [
            "동전으로 교환할 금액: 4321\n",
            "--------------------------------------------------\n",
            "500원짜리 ==> 8 개\n",
            "100원짜리 ==> 3 개\n",
            " 50원짜리 ==> 0 개\n",
            " 10원짜리 ==> 2 개\n",
            "     잔돈 ==> 1 개\n"
          ]
        }
      ]
    },
    {
      "cell_type": "code",
      "source": [],
      "metadata": {
        "id": "WI7YN0H44wUW"
      },
      "execution_count": null,
      "outputs": []
    }
  ]
}