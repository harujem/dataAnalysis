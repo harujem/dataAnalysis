{
  "nbformat": 4,
  "nbformat_minor": 0,
  "metadata": {
    "colab": {
      "provenance": [],
      "toc_visible": true,
      "authorship_tag": "ABX9TyMseYGi9jyV3cMYI3Uk2kFi",
      "include_colab_link": true
    },
    "kernelspec": {
      "name": "python3",
      "display_name": "Python 3"
    },
    "language_info": {
      "name": "python"
    }
  },
  "cells": [
    {
      "cell_type": "markdown",
      "metadata": {
        "id": "view-in-github",
        "colab_type": "text"
      },
      "source": [
        "<a href=\"https://colab.research.google.com/github/harujem/dataAnalysis/blob/main/4%EC%9D%BC%EC%B0%A8_%ED%8C%8C%EC%9D%B4%EC%8D%AC%EA%B8%B0%EC%B4%88_%EC%A1%B0%EA%B1%B4%EB%AC%B8%EA%B3%BC%EB%B0%98%EB%B3%B5%EB%AC%B8.ipynb\" target=\"_parent\"><img src=\"https://colab.research.google.com/assets/colab-badge.svg\" alt=\"Open In Colab\"/></a>"
      ]
    },
    {
      "cell_type": "markdown",
      "source": [
        "# 4.조건문과 반복문"
      ],
      "metadata": {
        "id": "I89p1CVmWu-1"
      }
    },
    {
      "cell_type": "markdown",
      "source": [
        "## 1- if 조건문 (if만 사용)"
      ],
      "metadata": {
        "id": "Yo5pS8dnZZ4h"
      }
    },
    {
      "cell_type": "code",
      "source": [
        "a = 99\n",
        "if a < 100:   # 만약 a가 100보다 작으면\n",
        "    print(f\"{a}는 100보다 작군요\")"
      ],
      "metadata": {
        "colab": {
          "base_uri": "https://localhost:8080/"
        },
        "id": "dXnS95q4dJ3H",
        "outputId": "36ce693e-d5b2-4259-9861-7c960a910764"
      },
      "execution_count": 5,
      "outputs": [
        {
          "output_type": "stream",
          "name": "stdout",
          "text": [
            "99는 100보다 작군요\n"
          ]
        }
      ]
    },
    {
      "cell_type": "markdown",
      "source": [
        "## 2- if ~ else ~ 조건문"
      ],
      "metadata": {
        "id": "xYTXavIPc5VB"
      }
    },
    {
      "cell_type": "code",
      "source": [
        "a = int(input('숫자를 입력하세요: '))\n",
        "if a < 100:   # 만약 a가 100보다 작으면 (True 참이라면)\n",
        "    print(f\"{a}는 100보다 작군요\")\n",
        "else:         # 그렇지 않다면 (False 거짓이라면)\n",
        "    print(f\"{a}는 100보다 작지않군요\")"
      ],
      "metadata": {
        "colab": {
          "base_uri": "https://localhost:8080/"
        },
        "id": "qx69BiwNdKgf",
        "outputId": "4ccc4922-e167-4c79-e40f-0f132fbe5a98"
      },
      "execution_count": 10,
      "outputs": [
        {
          "output_type": "stream",
          "name": "stdout",
          "text": [
            "숫자를 입력하세요: 321\n",
            "321는 100보다 작지않군요\n"
          ]
        }
      ]
    },
    {
      "cell_type": "markdown",
      "source": [
        "## 3- 중첩 if 조건문 (if문 안에 if문)"
      ],
      "metadata": {
        "id": "-Ng5xbKjdAgv"
      }
    },
    {
      "cell_type": "code",
      "source": [
        "a = int(input('숫자를 입력하세요: '))\n",
        "if a < 100:\n",
        "    if a < 50:\n",
        "        print(f\"{a}는 50보다 작군요\")\n",
        "    else:   # 50<=a<100\n",
        "        print(f\"{a}는 50과 100의 사이군요\")\n",
        "else:\n",
        "    if a == 100:\n",
        "        print(f\"{a}는 100과 같군요\")\n",
        "    else:\n",
        "        print(f\"{a}는 100보다 작지않군요\")"
      ],
      "metadata": {
        "id": "Hjm3m-UpbLYR",
        "colab": {
          "base_uri": "https://localhost:8080/"
        },
        "outputId": "2586ba8a-257f-43c4-8e41-d9dd93505f66"
      },
      "execution_count": 13,
      "outputs": [
        {
          "output_type": "stream",
          "name": "stdout",
          "text": [
            "숫자를 입력하세요: 99\n",
            "99는 50과 100의 사이군요\n"
          ]
        }
      ]
    },
    {
      "cell_type": "markdown",
      "source": [
        "### [실습문제] 짝수/홀수 판별하기"
      ],
      "metadata": {
        "id": "jpCASjCCgJyM"
      }
    },
    {
      "cell_type": "code",
      "source": [
        "x = int(input('숫자를 입력하세요: '))\n",
        "\n",
        "if x % 2 == 0:\n",
        "    print(f\"x는 짝수입니다\")\n",
        "else:\n",
        "    print(f\"x는 홀수입니다\")"
      ],
      "metadata": {
        "colab": {
          "base_uri": "https://localhost:8080/"
        },
        "id": "ZRWRNAAWf40A",
        "outputId": "77e69482-ef63-4a90-b680-baa960114614"
      },
      "execution_count": 20,
      "outputs": [
        {
          "output_type": "stream",
          "name": "stdout",
          "text": [
            "숫자를 입력하세요: 7\n",
            "x는 홀수입니다\n"
          ]
        }
      ]
    },
    {
      "cell_type": "code",
      "source": [
        "x = int(input('숫자를 입력하세요: '))\n",
        "if x % 2 == 0:  print(f\"{x}는 짝수입니다\")\n",
        "else:           print(f\"{x}는 홀수입니다\")"
      ],
      "metadata": {
        "colab": {
          "base_uri": "https://localhost:8080/"
        },
        "id": "h6K7C7hvg3JA",
        "outputId": "56d25f2c-c2db-415b-f473-7190babbbe53"
      },
      "execution_count": 24,
      "outputs": [
        {
          "output_type": "stream",
          "name": "stdout",
          "text": [
            "숫자를 입력하세요: 34\n",
            "34는 짝수입니다\n"
          ]
        }
      ]
    },
    {
      "cell_type": "code",
      "source": [
        "print(f\"{x}는 짝수\") if x%2==0 else print(f\"{x}는 홀수\")    # 이렇게 한줄로 표현 가능"
      ],
      "metadata": {
        "colab": {
          "base_uri": "https://localhost:8080/"
        },
        "id": "IuB13Vc9hZtv",
        "outputId": "f6ed8432-bcdf-476d-c81f-26e68d15692c"
      },
      "execution_count": 27,
      "outputs": [
        {
          "output_type": "stream",
          "name": "stdout",
          "text": [
            "34는 짝수\n"
          ]
        }
      ]
    },
    {
      "cell_type": "markdown",
      "source": [
        "### [실습문제] 가위/바위/보 게임하기"
      ],
      "metadata": {
        "id": "BJUcU5XfiGIb"
      }
    },
    {
      "cell_type": "code",
      "source": [
        "import random           # 난수 발생 모듈 (랜덤)\n",
        "random.randint(1,10)    # 1~10 사이의 임의의 정수 선택"
      ],
      "metadata": {
        "colab": {
          "base_uri": "https://localhost:8080/"
        },
        "id": "7FGKw6MFhzqf",
        "outputId": "c962206c-c256-4e71-a93f-1cef0b65ddd9"
      },
      "execution_count": 36,
      "outputs": [
        {
          "output_type": "execute_result",
          "data": {
            "text/plain": [
              "5"
            ]
          },
          "metadata": {},
          "execution_count": 36
        }
      ]
    },
    {
      "cell_type": "code",
      "source": [
        "computer = random.choice(['가위','바위','보'])\n",
        "my = input('가위/바위/보 중 하나 입력: ')\n",
        "print(f\"컴퓨터:{computer}, 나:{my}\")\n",
        "\n",
        "# 결과 판단하기\n",
        "if computer == my:\n",
        "    print('비겼다')\n",
        "else:\n",
        "    # 컴퓨터가 이긴 경우\n",
        "    if (computer=='가위' and my=='보') or \\\n",
        "       (computer=='바위' and my=='가위') or \\\n",
        "       (computer=='보' and my=='바위'):\n",
        "        print('컴퓨터가 이겼다')\n",
        "    else:\n",
        "        print('내가 이겼다')"
      ],
      "metadata": {
        "colab": {
          "base_uri": "https://localhost:8080/"
        },
        "id": "lp3Ov53Rilnu",
        "outputId": "16253c53-30bc-4b19-9712-202557725a43"
      },
      "execution_count": 48,
      "outputs": [
        {
          "output_type": "stream",
          "name": "stdout",
          "text": [
            "가위/바위/보 중 하나 입력: 보\n",
            "컴퓨터:바위, 나:보\n",
            "내가 이겼다\n"
          ]
        }
      ]
    },
    {
      "cell_type": "markdown",
      "source": [
        "### [실습문제] 직각삼각형 판별하기"
      ],
      "metadata": {
        "id": "kkt5AwlzpSi7"
      }
    },
    {
      "cell_type": "code",
      "source": [
        "# 피타고라스의 정리 a제곱+b제곱=c제곱\n",
        "\n",
        "a = int(input('가로 길이 입력: '))\n",
        "b = int(input('세로 길이 입력: '))\n",
        "c = int(input('빗변 길이 입력: '))\n",
        "\n",
        "if a**2 + b**2 == c**2:\n",
        "    print('직각삼각형이다')\n",
        "else:\n",
        "    print('직각삼각형이 아니다')"
      ],
      "metadata": {
        "colab": {
          "base_uri": "https://localhost:8080/"
        },
        "id": "7Dc3bD20jIZ8",
        "outputId": "dec5ae40-81b9-48a6-bb71-1dc1112a0c4c"
      },
      "execution_count": 2,
      "outputs": [
        {
          "output_type": "stream",
          "name": "stdout",
          "text": [
            "가로 길이 입력: 3\n",
            "세로 길이 입력: 4\n",
            "빗변 길이 입력: 5\n",
            "직각삼각형이다\n"
          ]
        }
      ]
    },
    {
      "cell_type": "markdown",
      "source": [
        "## 4- elif 다중조건문\n",
        "\n",
        "*   if else 를 줄여서 elif\n",
        "*   if~ else~ if  -->  if~ elif~"
      ],
      "metadata": {
        "id": "bOTfOzZgsHJC"
      }
    },
    {
      "cell_type": "code",
      "source": [
        "# 나이별 학생 구분하기\n",
        "age = int(input('나이 입력: '))\n",
        "\n",
        "if age <= 7:\n",
        "    print('미취학 아동입니다')\n",
        "elif age <= 13:\n",
        "    print('초등학생입니다')\n",
        "elif age <= 16:\n",
        "    print('중학생입니다')\n",
        "elif age <= 19:\n",
        "    print('고등학생입니다')\n",
        "else:\n",
        "    print('성인입니다')\n",
        "\n",
        "print(f'당신은 {age}살입니다')"
      ],
      "metadata": {
        "colab": {
          "base_uri": "https://localhost:8080/"
        },
        "id": "Wl2Q0Y-Hqwg1",
        "outputId": "2ca1b112-e92d-45f1-e2b5-8c5dc4aa48c8"
      },
      "execution_count": 4,
      "outputs": [
        {
          "output_type": "stream",
          "name": "stdout",
          "text": [
            "나이 입력: 10\n",
            "초등학생입니다\n",
            "당신은 10살입니다\n"
          ]
        }
      ]
    },
    {
      "cell_type": "markdown",
      "source": [
        "## 5- 조건부 표현식"
      ],
      "metadata": {
        "id": "kkxsGPRzz1R3"
      }
    },
    {
      "cell_type": "code",
      "source": [
        "score = int(input('점수 입력: '))\n",
        "\n",
        "if score >= 80:\n",
        "    message = \"Sucess\"\n",
        "else:\n",
        "    message = \"Failure\"\n",
        "print(f\"당신의 점수 {score} 점은 시험에 {message} 하셨습니다\")"
      ],
      "metadata": {
        "colab": {
          "base_uri": "https://localhost:8080/"
        },
        "id": "dCJy5HonzA_Z",
        "outputId": "12a616d5-2493-4580-e113-b5303607ea63"
      },
      "execution_count": 11,
      "outputs": [
        {
          "output_type": "stream",
          "name": "stdout",
          "text": [
            "점수 입력: 93\n",
            "당신의 점수 93 점은 시험에 Sucess 하셨습니다\n"
          ]
        }
      ]
    },
    {
      "cell_type": "code",
      "source": [
        "message = 'Sucess' if score >= 80 else 'Failure'    # :을 제외하고 한줄로 표현 가능\n",
        "print(f\"당신의 점수 {score} 점은 시험에 {message} 하셨습니다\")"
      ],
      "metadata": {
        "colab": {
          "base_uri": "https://localhost:8080/"
        },
        "id": "VXVcvj1w0dVO",
        "outputId": "ebd54ac4-707e-4327-c142-ba71f0eb8a35"
      },
      "execution_count": 12,
      "outputs": [
        {
          "output_type": "stream",
          "name": "stdout",
          "text": [
            "당신의 점수 93 점은 시험에 Sucess 하셨습니다\n"
          ]
        }
      ]
    },
    {
      "cell_type": "markdown",
      "source": [
        "### [실습문제] 일상생활의 상황을 조건문으로 표현하기"
      ],
      "metadata": {
        "id": "2ctU1wTY1TdP"
      }
    },
    {
      "cell_type": "code",
      "source": [
        " temp = int(input('오늘의 온도 입력: '))\n",
        "\n",
        "if temp >= 30:\n",
        "    print('에어컨 켜기')\n",
        "elif 10 < temp < 30:\n",
        "    print('내복 입기')\n",
        "elif temp <= 10:\n",
        "    print('난방기 켜기')"
      ],
      "metadata": {
        "colab": {
          "base_uri": "https://localhost:8080/"
        },
        "id": "ElAc2QqJ01wW",
        "outputId": "9a22ef11-e0a1-46b3-87fa-481142c0d4c0"
      },
      "execution_count": 30,
      "outputs": [
        {
          "output_type": "stream",
          "name": "stdout",
          "text": [
            "오늘의 온도 입력: 23\n",
            "내복 입기\n"
          ]
        }
      ]
    },
    {
      "cell_type": "code",
      "source": [],
      "metadata": {
        "id": "4CWUNeFC72a0"
      },
      "execution_count": null,
      "outputs": []
    },
    {
      "cell_type": "code",
      "source": [
        "''' 기온 조건 상황\n",
        "- 온도가 30 이상이면 에어컨 켜기\n",
        "- 온도가 20 미만이면 내복 입기\n",
        "- 온도가 10 이하이면 난방기 켜기\n",
        "'''\n",
        "degree = int(input('온도를 입력해주세요: '))\n",
        "\n",
        "if degree >= 30:\n",
        "    print('에어컨을 켜세요!')\n",
        "elif degree <= 10:              # 순서가 중요하다\n",
        "    print('보일러를 틀어요!!')\n",
        "elif degree < 20:\n",
        "    print('내복을 입으세요~')\n",
        "else:\n",
        "    print('쾌적한 기온입니다.')"
      ],
      "metadata": {
        "colab": {
          "base_uri": "https://localhost:8080/"
        },
        "id": "nM9dDLEo2UoN",
        "outputId": "47f2cd82-8202-46fa-ccdf-f1cb2f37e127"
      },
      "execution_count": 28,
      "outputs": [
        {
          "output_type": "stream",
          "name": "stdout",
          "text": [
            "온도를 입력해주세요: 24\n",
            "쾌적한 기온입니다.\n"
          ]
        }
      ]
    },
    {
      "cell_type": "code",
      "source": [
        "degree = int(input('온도를 입력해주세요: '))\n",
        "\n",
        "if degree >= 30:\n",
        "    print('에어컨을 켜세요!')\n",
        "else:\n",
        "    if 20 <= degree < 30:\n",
        "        print('쾌적한 기온입니다.')\n",
        "    if degree < 20:\n",
        "        print('내복을 입으세요~')\n",
        "    if degree <= 10:\n",
        "        print('보일러를 틀어요!!')"
      ],
      "metadata": {
        "colab": {
          "base_uri": "https://localhost:8080/"
        },
        "id": "NJVunbDB6W-3",
        "outputId": "cc0e0984-11f8-4195-bcda-2e6fba3a16ec"
      },
      "execution_count": 31,
      "outputs": [
        {
          "output_type": "stream",
          "name": "stdout",
          "text": [
            "온도를 입력해주세요: 8\n",
            "내복을 입으세요~\n",
            "보일러를 틀어요!!\n"
          ]
        }
      ]
    },
    {
      "cell_type": "markdown",
      "source": [
        "### [실습문제] 커피 자동주문 프로그램 만들기"
      ],
      "metadata": {
        "id": "iQBDDf_C8cCV"
      }
    },
    {
      "cell_type": "code",
      "source": [
        "from gtts import gTTS\n",
        "from IPython.display import Audio\n",
        "\n",
        "def speaker(stmt):  # stmt가 읽어주는 부분임\n",
        "    kor_wav = gTTS(stmt, lang = 'ko')\n",
        "    kor_wav.save('kor.wav')\n",
        "    display(Audio('kor.wav', autoplay=True))\n",
        "\n",
        "menu = ''' [커피 주문 머신 메뉴]\n",
        "-------------------------\n",
        "- 아메리카노: 2500원\n",
        "- 카페라떼:   3000원\n",
        "- 카페모카:   3000원\n",
        "-------------------------\n",
        "원하시는 커피 종류와 잔수를 입력하세요. '''\n",
        "print(menu) # 화면에 보여주기\n",
        "speaker(menu) # 소리로 읽어주기\n",
        "\n",
        "coffee1 = int(input('아메리카노 몇잔: '))\n",
        "coffee2 = int(input('카페라떼 몇잔: '))\n",
        "coffee3 = int(input('카페모카 몇잔: '))\n",
        "total = 2500*coffee1 + 3000*coffee2 + 3000*coffee3\n",
        "print(f\"지불하실 총 금액은 {total:,}원 입니다.\")\n",
        "\n",
        "money = int(input('돈을 넣어주세요: '))\n",
        "change = total - money  # 잔돈\n",
        "if total > money:\n",
        "    print(f\"돈이 부족합니다. {change:,}원을 더 넣어주세요.\")\n",
        "else:\n",
        "    print(f\"거스름돈은 {abs(change):,}원 입니다. 커피 맛있게 드세요.\")    # money - total"
      ],
      "metadata": {
        "colab": {
          "base_uri": "https://localhost:8080/",
          "height": 313
        },
        "id": "5exFRfcy8PKU",
        "outputId": "7999f9de-6321-4f2e-9c43-4de46df97201"
      },
      "execution_count": 4,
      "outputs": [
        {
          "output_type": "stream",
          "name": "stdout",
          "text": [
            " [커피 주문 머신 메뉴]\n",
            "-------------------------\n",
            "- 아메리카노: 2500원\n",
            "- 카페라떼:   3000원\n",
            "- 카페모카:   3000원\n",
            "-------------------------\n",
            "원하시는 커피 종류와 잔수를 입력하세요. \n"
          ]
        },
        {
          "output_type": "display_data",
          "data": {
            "text/plain": [
              "<IPython.lib.display.Audio object>"
            ],
            "text/html": [
              "\n",
              "                <audio  controls=\"controls\" autoplay=\"autoplay\">\n",
              "                    <source src=\"data:audio/x-wav;base64,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\" type=\"audio/x-wav\" />\n",
              "                    Your browser does not support the audio element.\n",
              "                </audio>\n",
              "              "
            ]
          },
          "metadata": {}
        },
        {
          "output_type": "stream",
          "name": "stdout",
          "text": [
            "아메리카노 몇잔: 3\n",
            "카페라떼 몇잔: 3\n",
            "카페모카 몇잔: 3\n",
            "지불하실 총 금액은 25,500원 입니다.\n",
            "돈을 넣어주세요: 30000\n",
            "거스름돈은 4,500원 입니다. 커피 맛있게 드세요.\n"
          ]
        }
      ]
    },
    {
      "cell_type": "code",
      "source": [
        "!pip show gTTS"
      ],
      "metadata": {
        "colab": {
          "base_uri": "https://localhost:8080/"
        },
        "id": "UbfYZE1r_15b",
        "outputId": "1590c581-c464-466b-cacc-1e2d26c7ee7f"
      },
      "execution_count": 2,
      "outputs": [
        {
          "output_type": "stream",
          "name": "stdout",
          "text": [
            "\u001b[33mWARNING: Package(s) not found: gTTS\u001b[0m\u001b[33m\n",
            "\u001b[0m"
          ]
        }
      ]
    },
    {
      "cell_type": "code",
      "source": [
        "!pip install gTTS"
      ],
      "metadata": {
        "colab": {
          "base_uri": "https://localhost:8080/"
        },
        "id": "hrysSJTfBClJ",
        "outputId": "8c22fb34-af13-42b0-a62b-00354fa84a24"
      },
      "execution_count": 3,
      "outputs": [
        {
          "output_type": "stream",
          "name": "stdout",
          "text": [
            "Collecting gTTS\n",
            "  Downloading gTTS-2.5.1-py3-none-any.whl (29 kB)\n",
            "Requirement already satisfied: requests<3,>=2.27 in /usr/local/lib/python3.10/dist-packages (from gTTS) (2.31.0)\n",
            "Requirement already satisfied: click<8.2,>=7.1 in /usr/local/lib/python3.10/dist-packages (from gTTS) (8.1.7)\n",
            "Requirement already satisfied: charset-normalizer<4,>=2 in /usr/local/lib/python3.10/dist-packages (from requests<3,>=2.27->gTTS) (3.3.2)\n",
            "Requirement already satisfied: idna<4,>=2.5 in /usr/local/lib/python3.10/dist-packages (from requests<3,>=2.27->gTTS) (3.6)\n",
            "Requirement already satisfied: urllib3<3,>=1.21.1 in /usr/local/lib/python3.10/dist-packages (from requests<3,>=2.27->gTTS) (2.0.7)\n",
            "Requirement already satisfied: certifi>=2017.4.17 in /usr/local/lib/python3.10/dist-packages (from requests<3,>=2.27->gTTS) (2024.2.2)\n",
            "Installing collected packages: gTTS\n",
            "Successfully installed gTTS-2.5.1\n"
          ]
        }
      ]
    }
  ]
}