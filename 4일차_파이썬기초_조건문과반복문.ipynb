{
  "nbformat": 4,
  "nbformat_minor": 0,
  "metadata": {
    "colab": {
      "provenance": [],
      "toc_visible": true,
      "authorship_tag": "ABX9TyMuL9xqnRqaRsuV88xKVpeX",
      "include_colab_link": true
    },
    "kernelspec": {
      "name": "python3",
      "display_name": "Python 3"
    },
    "language_info": {
      "name": "python"
    }
  },
  "cells": [
    {
      "cell_type": "markdown",
      "metadata": {
        "id": "view-in-github",
        "colab_type": "text"
      },
      "source": [
        "<a href=\"https://colab.research.google.com/github/harujem/dataAnalysis/blob/main/4%EC%9D%BC%EC%B0%A8_%ED%8C%8C%EC%9D%B4%EC%8D%AC%EA%B8%B0%EC%B4%88_%EC%A1%B0%EA%B1%B4%EB%AC%B8%EA%B3%BC%EB%B0%98%EB%B3%B5%EB%AC%B8.ipynb\" target=\"_parent\"><img src=\"https://colab.research.google.com/assets/colab-badge.svg\" alt=\"Open In Colab\"/></a>"
      ]
    },
    {
      "cell_type": "markdown",
      "source": [
        "# 4.조건문과 반복문"
      ],
      "metadata": {
        "id": "I89p1CVmWu-1"
      }
    },
    {
      "cell_type": "markdown",
      "source": [
        "## 1- if 조건문 (if만 사용)"
      ],
      "metadata": {
        "id": "Yo5pS8dnZZ4h"
      }
    },
    {
      "cell_type": "code",
      "source": [
        "a = 99\n",
        "if a < 100:   # 만약 a가 100보다 작으면\n",
        "    print(f\"{a}는 100보다 작군요\")"
      ],
      "metadata": {
        "colab": {
          "base_uri": "https://localhost:8080/"
        },
        "id": "dXnS95q4dJ3H",
        "outputId": "36ce693e-d5b2-4259-9861-7c960a910764"
      },
      "execution_count": 5,
      "outputs": [
        {
          "output_type": "stream",
          "name": "stdout",
          "text": [
            "99는 100보다 작군요\n"
          ]
        }
      ]
    },
    {
      "cell_type": "markdown",
      "source": [
        "## 2- if ~ else ~ 조건문"
      ],
      "metadata": {
        "id": "xYTXavIPc5VB"
      }
    },
    {
      "cell_type": "code",
      "source": [
        "a = int(input('숫자를 입력하세요: '))\n",
        "if a < 100:   # 만약 a가 100보다 작으면 (True 참이라면)\n",
        "    print(f\"{a}는 100보다 작군요\")\n",
        "else:         # 그렇지 않다면 (False 거짓이라면)\n",
        "    print(f\"{a}는 100보다 작지않군요\")"
      ],
      "metadata": {
        "colab": {
          "base_uri": "https://localhost:8080/"
        },
        "id": "qx69BiwNdKgf",
        "outputId": "4ccc4922-e167-4c79-e40f-0f132fbe5a98"
      },
      "execution_count": 10,
      "outputs": [
        {
          "output_type": "stream",
          "name": "stdout",
          "text": [
            "숫자를 입력하세요: 321\n",
            "321는 100보다 작지않군요\n"
          ]
        }
      ]
    },
    {
      "cell_type": "markdown",
      "source": [
        "## 3- 중첩 if 조건문 (if문 안에 if문)"
      ],
      "metadata": {
        "id": "-Ng5xbKjdAgv"
      }
    },
    {
      "cell_type": "code",
      "source": [
        "a = int(input('숫자를 입력하세요: '))\n",
        "if a < 100:\n",
        "    if a < 50:\n",
        "        print(f\"{a}는 50보다 작군요\")\n",
        "    else:   # 50<=a<100\n",
        "        print(f\"{a}는 50과 100의 사이군요\")\n",
        "else:\n",
        "    if a == 100:\n",
        "        print(f\"{a}는 100과 같군요\")\n",
        "    else:\n",
        "        print(f\"{a}는 100보다 작지않군요\")"
      ],
      "metadata": {
        "id": "Hjm3m-UpbLYR",
        "colab": {
          "base_uri": "https://localhost:8080/"
        },
        "outputId": "2586ba8a-257f-43c4-8e41-d9dd93505f66"
      },
      "execution_count": 13,
      "outputs": [
        {
          "output_type": "stream",
          "name": "stdout",
          "text": [
            "숫자를 입력하세요: 99\n",
            "99는 50과 100의 사이군요\n"
          ]
        }
      ]
    },
    {
      "cell_type": "markdown",
      "source": [
        "### [실습문제] 짝수/홀수 판별하기"
      ],
      "metadata": {
        "id": "jpCASjCCgJyM"
      }
    },
    {
      "cell_type": "code",
      "source": [
        "x = int(input('숫자를 입력하세요: '))\n",
        "\n",
        "if x % 2 == 0:\n",
        "    print(f\"x는 짝수입니다\")\n",
        "else:\n",
        "    print(f\"x는 홀수입니다\")"
      ],
      "metadata": {
        "colab": {
          "base_uri": "https://localhost:8080/"
        },
        "id": "ZRWRNAAWf40A",
        "outputId": "77e69482-ef63-4a90-b680-baa960114614"
      },
      "execution_count": 20,
      "outputs": [
        {
          "output_type": "stream",
          "name": "stdout",
          "text": [
            "숫자를 입력하세요: 7\n",
            "x는 홀수입니다\n"
          ]
        }
      ]
    },
    {
      "cell_type": "code",
      "source": [
        "x = int(input('숫자를 입력하세요: '))\n",
        "if x % 2 == 0:  print(f\"{x}는 짝수입니다\")\n",
        "else:           print(f\"{x}는 홀수입니다\")"
      ],
      "metadata": {
        "colab": {
          "base_uri": "https://localhost:8080/"
        },
        "id": "h6K7C7hvg3JA",
        "outputId": "56d25f2c-c2db-415b-f473-7190babbbe53"
      },
      "execution_count": 24,
      "outputs": [
        {
          "output_type": "stream",
          "name": "stdout",
          "text": [
            "숫자를 입력하세요: 34\n",
            "34는 짝수입니다\n"
          ]
        }
      ]
    },
    {
      "cell_type": "code",
      "source": [
        "print(f\"{x}는 짝수\") if x%2==0 else print(f\"{x}는 홀수\")    # 이렇게 한줄로 표현 가능"
      ],
      "metadata": {
        "colab": {
          "base_uri": "https://localhost:8080/"
        },
        "id": "IuB13Vc9hZtv",
        "outputId": "f6ed8432-bcdf-476d-c81f-26e68d15692c"
      },
      "execution_count": 27,
      "outputs": [
        {
          "output_type": "stream",
          "name": "stdout",
          "text": [
            "34는 짝수\n"
          ]
        }
      ]
    },
    {
      "cell_type": "markdown",
      "source": [
        "### [실습문제] 가위/바위/보 게임하기"
      ],
      "metadata": {
        "id": "BJUcU5XfiGIb"
      }
    },
    {
      "cell_type": "code",
      "source": [
        "import random           # 난수 발생 모듈 (랜덤)\n",
        "random.randint(1,10)    # 1~10 사이의 임의의 정수 선택"
      ],
      "metadata": {
        "colab": {
          "base_uri": "https://localhost:8080/"
        },
        "id": "7FGKw6MFhzqf",
        "outputId": "c962206c-c256-4e71-a93f-1cef0b65ddd9"
      },
      "execution_count": 36,
      "outputs": [
        {
          "output_type": "execute_result",
          "data": {
            "text/plain": [
              "5"
            ]
          },
          "metadata": {},
          "execution_count": 36
        }
      ]
    },
    {
      "cell_type": "code",
      "source": [
        "computer = random.choice(['가위','바위','보'])\n",
        "my = input('가위/바위/보 중 하나 입력: ')\n",
        "print(f\"컴퓨터:{computer}, 나:{my}\")\n",
        "\n",
        "# 결과 판단하기\n",
        "if computer == my:\n",
        "    print('비겼다')\n",
        "else:\n",
        "    # 컴퓨터가 이긴 경우\n",
        "    if (computer=='가위' and my=='보') or \\\n",
        "       (computer=='바위' and my=='가위') or \\\n",
        "       (computer=='보' and my=='바위'):\n",
        "        print('컴퓨터가 이겼다')\n",
        "    else:\n",
        "        print('내가 이겼다')"
      ],
      "metadata": {
        "colab": {
          "base_uri": "https://localhost:8080/"
        },
        "id": "lp3Ov53Rilnu",
        "outputId": "16253c53-30bc-4b19-9712-202557725a43"
      },
      "execution_count": 48,
      "outputs": [
        {
          "output_type": "stream",
          "name": "stdout",
          "text": [
            "가위/바위/보 중 하나 입력: 보\n",
            "컴퓨터:바위, 나:보\n",
            "내가 이겼다\n"
          ]
        }
      ]
    },
    {
      "cell_type": "markdown",
      "source": [
        "### [실습문제] 직각삼각형 판별하기"
      ],
      "metadata": {
        "id": "kkt5AwlzpSi7"
      }
    },
    {
      "cell_type": "code",
      "source": [
        "# 피타고라스의 정리 a제곱+b제곱=c제곱\n",
        "\n",
        "a = int(input('가로 길이 입력: '))\n",
        "b = int(input('세로 길이 입력: '))\n",
        "c = int(input('빗변 길이 입력: '))\n",
        "\n",
        "if a**2 + b**2 == c**2:\n",
        "    print('직각삼각형이다')\n",
        "else:\n",
        "    print('직각삼각형이 아니다')"
      ],
      "metadata": {
        "colab": {
          "base_uri": "https://localhost:8080/"
        },
        "id": "7Dc3bD20jIZ8",
        "outputId": "dec5ae40-81b9-48a6-bb71-1dc1112a0c4c"
      },
      "execution_count": 2,
      "outputs": [
        {
          "output_type": "stream",
          "name": "stdout",
          "text": [
            "가로 길이 입력: 3\n",
            "세로 길이 입력: 4\n",
            "빗변 길이 입력: 5\n",
            "직각삼각형이다\n"
          ]
        }
      ]
    },
    {
      "cell_type": "markdown",
      "source": [
        "## 4- elif 다중조건문\n",
        "\n",
        "*   if else 를 줄여서 elif\n",
        "*   if~ else~ if  -->  if~ elif~"
      ],
      "metadata": {
        "id": "bOTfOzZgsHJC"
      }
    },
    {
      "cell_type": "code",
      "source": [
        "# 나이별 학생 구분하기\n",
        "age = int(input('나이 입력: '))\n",
        "\n",
        "if age <= 7:\n",
        "    print('미취학 아동입니다')\n",
        "elif age <= 13:\n",
        "    print('초등학생입니다')\n",
        "elif age <= 16:\n",
        "    print('중학생입니다')\n",
        "elif age <= 19:\n",
        "    print('고등학생입니다')\n",
        "else:\n",
        "    print('성인입니다')\n",
        "\n",
        "print(f'당신은 {age}살입니다')"
      ],
      "metadata": {
        "colab": {
          "base_uri": "https://localhost:8080/"
        },
        "id": "Wl2Q0Y-Hqwg1",
        "outputId": "2ca1b112-e92d-45f1-e2b5-8c5dc4aa48c8"
      },
      "execution_count": 4,
      "outputs": [
        {
          "output_type": "stream",
          "name": "stdout",
          "text": [
            "나이 입력: 10\n",
            "초등학생입니다\n",
            "당신은 10살입니다\n"
          ]
        }
      ]
    },
    {
      "cell_type": "markdown",
      "source": [
        "## 5- 조건부 표현식"
      ],
      "metadata": {
        "id": "kkxsGPRzz1R3"
      }
    },
    {
      "cell_type": "code",
      "source": [
        "score = int(input('점수 입력: '))\n",
        "\n",
        "if score >= 80:\n",
        "    message = \"Sucess\"\n",
        "else:\n",
        "    message = \"Failure\"\n",
        "print(f\"당신의 점수 {score} 점은 시험에 {message} 하셨습니다\")"
      ],
      "metadata": {
        "colab": {
          "base_uri": "https://localhost:8080/"
        },
        "id": "dCJy5HonzA_Z",
        "outputId": "12a616d5-2493-4580-e113-b5303607ea63"
      },
      "execution_count": 11,
      "outputs": [
        {
          "output_type": "stream",
          "name": "stdout",
          "text": [
            "점수 입력: 93\n",
            "당신의 점수 93 점은 시험에 Sucess 하셨습니다\n"
          ]
        }
      ]
    },
    {
      "cell_type": "code",
      "source": [
        "message = 'Sucess' if score >= 80 else 'Failure'    # :을 제외하고 한줄로 표현 가능\n",
        "print(f\"당신의 점수 {score} 점은 시험에 {message} 하셨습니다\")"
      ],
      "metadata": {
        "colab": {
          "base_uri": "https://localhost:8080/"
        },
        "id": "VXVcvj1w0dVO",
        "outputId": "ebd54ac4-707e-4327-c142-ba71f0eb8a35"
      },
      "execution_count": 12,
      "outputs": [
        {
          "output_type": "stream",
          "name": "stdout",
          "text": [
            "당신의 점수 93 점은 시험에 Sucess 하셨습니다\n"
          ]
        }
      ]
    },
    {
      "cell_type": "markdown",
      "source": [
        "### [실습문제] 일상생활의 상황을 조건문으로 표현하기"
      ],
      "metadata": {
        "id": "2ctU1wTY1TdP"
      }
    },
    {
      "cell_type": "code",
      "source": [
        " temp = int(input('오늘의 온도 입력: '))\n",
        "\n",
        "if temp >= 30:\n",
        "    print('에어컨 켜기')\n",
        "elif 10 < temp < 30:\n",
        "    print('내복 입기')\n",
        "elif temp <= 10:\n",
        "    print('난방기 켜기')"
      ],
      "metadata": {
        "colab": {
          "base_uri": "https://localhost:8080/"
        },
        "id": "ElAc2QqJ01wW",
        "outputId": "9a22ef11-e0a1-46b3-87fa-481142c0d4c0"
      },
      "execution_count": 30,
      "outputs": [
        {
          "output_type": "stream",
          "name": "stdout",
          "text": [
            "오늘의 온도 입력: 23\n",
            "내복 입기\n"
          ]
        }
      ]
    },
    {
      "cell_type": "code",
      "source": [],
      "metadata": {
        "id": "4CWUNeFC72a0"
      },
      "execution_count": null,
      "outputs": []
    },
    {
      "cell_type": "code",
      "source": [
        "''' 기온 조건 상황\n",
        "- 온도가 30 이상이면 에어컨 켜기\n",
        "- 온도가 20 미만이면 내복 입기\n",
        "- 온도가 10 이하이면 난방기 켜기\n",
        "'''\n",
        "degree = int(input('온도를 입력해주세요: '))\n",
        "\n",
        "if degree >= 30:\n",
        "    print('에어컨을 켜세요!')\n",
        "elif degree <= 10:              # 순서가 중요하다\n",
        "    print('보일러를 틀어요!!')\n",
        "elif degree < 20:\n",
        "    print('내복을 입으세요~')\n",
        "else:\n",
        "    print('쾌적한 기온입니다.')"
      ],
      "metadata": {
        "colab": {
          "base_uri": "https://localhost:8080/"
        },
        "id": "nM9dDLEo2UoN",
        "outputId": "47f2cd82-8202-46fa-ccdf-f1cb2f37e127"
      },
      "execution_count": 28,
      "outputs": [
        {
          "output_type": "stream",
          "name": "stdout",
          "text": [
            "온도를 입력해주세요: 24\n",
            "쾌적한 기온입니다.\n"
          ]
        }
      ]
    },
    {
      "cell_type": "code",
      "source": [
        "degree = int(input('온도를 입력해주세요: '))\n",
        "\n",
        "if degree >= 30:\n",
        "    print('에어컨을 켜세요!')\n",
        "else:\n",
        "    if 20 <= degree < 30:\n",
        "        print('쾌적한 기온입니다.')\n",
        "    if degree < 20:\n",
        "        print('내복을 입으세요~')\n",
        "    if degree <= 10:\n",
        "        print('보일러를 틀어요!!')"
      ],
      "metadata": {
        "colab": {
          "base_uri": "https://localhost:8080/"
        },
        "id": "NJVunbDB6W-3",
        "outputId": "cc0e0984-11f8-4195-bcda-2e6fba3a16ec"
      },
      "execution_count": 31,
      "outputs": [
        {
          "output_type": "stream",
          "name": "stdout",
          "text": [
            "온도를 입력해주세요: 8\n",
            "내복을 입으세요~\n",
            "보일러를 틀어요!!\n"
          ]
        }
      ]
    },
    {
      "cell_type": "markdown",
      "source": [
        "### [실습문제] 커피 자동주문 프로그램 만들기"
      ],
      "metadata": {
        "id": "iQBDDf_C8cCV"
      }
    },
    {
      "cell_type": "code",
      "source": [
        "menu = ''' [커피 주문 머신 메뉴]\n",
        "-------------------------\n",
        "- 아메리카노: 2500원\n",
        "- 카페라떼:   3000원\n",
        "- 카페모카:   3000원\n",
        "-------------------------\n",
        "원하시는 커피 종류와 잔수를 입력하세요. '''\n",
        "print(menu)\n",
        "\n",
        "coffee1 = int(input('아메리카노 몇잔: '))\n",
        "coffee2 = int(input('카페라떼 몇잔: '))\n",
        "coffee3 = int(input('카페모카 몇잔: '))\n",
        "total = 2500*coffee1 + 3000*coffee2 + 3000*coffee3\n",
        "print(f\"지불하실 총 금액은 {total:,}원 입니다.\")\n",
        "\n",
        "money = int(input('돈을 넣어주세요: '))\n",
        "change = total - money  # 잔돈\n",
        "if total > money:\n",
        "    print(f\"돈이 부족합니다. {change:,}원을 더 넣어주세요.\")\n",
        "else:\n",
        "    print(f\"거스름돈은 {abs(change):,}원 입니다. 커피 맛있게 드세요.\")    # money - total"
      ],
      "metadata": {
        "colab": {
          "base_uri": "https://localhost:8080/"
        },
        "id": "5exFRfcy8PKU",
        "outputId": "db553f04-a141-4d6c-f11c-b7534f68e794"
      },
      "execution_count": 1,
      "outputs": [
        {
          "output_type": "stream",
          "name": "stdout",
          "text": [
            " [커피 주문 머신 메뉴]\n",
            "-------------------------\n",
            "- 아메리카노: 2500원\n",
            "- 카페라떼:   3000원\n",
            "- 카페모카:   3000원\n",
            "-------------------------\n",
            "원하시는 커피 종류와 잔수를 입력하세요. \n",
            "아메리카노 몇잔: 3\n",
            "카페라떼 몇잔: 3\n",
            "카페모카 몇잔: 3\n",
            "지불하실 총 금액은 25,500원 입니다.\n",
            "돈을 넣어주세요: 30000\n",
            "거스름돈은 4,500원 입니다. 커피 맛있게 드세요.\n"
          ]
        }
      ]
    },
    {
      "cell_type": "code",
      "source": [],
      "metadata": {
        "id": "UbfYZE1r_15b"
      },
      "execution_count": null,
      "outputs": []
    }
  ]
}